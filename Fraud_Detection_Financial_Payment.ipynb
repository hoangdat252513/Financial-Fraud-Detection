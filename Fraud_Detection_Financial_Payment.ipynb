{
  "nbformat": 4,
  "nbformat_minor": 0,
  "metadata": {
    "colab": {
      "provenance": [],
      "collapsed_sections": [
        "a_M6i19aYRx4",
        "wXgQzfJCCPlu",
        "HI-dj2KwCNFc",
        "8rrnJUK_ZbhQ",
        "OfIQugi_QL3A",
        "UgcSNWrnQPOC",
        "8d3n5YsZUTRY",
        "4VymlsSgZAB0",
        "EFZ3C0u5RT9y"
      ],
      "toc_visible": true
    },
    "kernelspec": {
      "name": "python3",
      "display_name": "Python 3"
    },
    "language_info": {
      "name": "python"
    }
  },
  "cells": [
    {
      "cell_type": "markdown",
      "source": [
        "https://intellipaat.com/blog/fraud-detection-machine-learning-algorithms/"
      ],
      "metadata": {
        "id": "YV3v_Yt5vEkh"
      }
    },
    {
      "cell_type": "markdown",
      "source": [
        "https://www.kaggle.com/code/janiobachmann/credit-fraud-dealing-with-imbalanced-datasets\n",
        "\n",
        "https://www.kaggle.com/code/arjunjoshua/predicting-fraud-in-financial-payment-services/notebook\n",
        "\n",
        "https://www.kaggle.com/code/netzone/eda-and-fraud-detection\n",
        "\n",
        "https://www.kaggle.com/code/benroshan/transaction-fraud-detection#%F0%9F%93%8B-Pivot-table-analysis\n",
        "\n",
        "https://www.kaggle.com/code/ataboydata/fraud-detection-with-different-methods"
      ],
      "metadata": {
        "id": "IX5WRuiBkWwX"
      }
    },
    {
      "cell_type": "markdown",
      "source": [
        "# Load Data"
      ],
      "metadata": {
        "id": "a_M6i19aYRx4"
      }
    },
    {
      "cell_type": "code",
      "execution_count": 1,
      "metadata": {
        "colab": {
          "base_uri": "https://localhost:8080/"
        },
        "id": "1i9sX5P5cNYL",
        "outputId": "8cb32485-1d19-4dde-c318-9656b71f3d0d"
      },
      "outputs": [
        {
          "output_type": "stream",
          "name": "stdout",
          "text": [
            "Mounted at /content/drive\n"
          ]
        }
      ],
      "source": [
        "from google.colab import drive\n",
        "drive.mount('/content/drive')"
      ]
    },
    {
      "cell_type": "code",
      "source": [
        "import pandas as pd\n",
        "import numpy as np\n",
        "\n",
        "import matplotlib.pyplot as plt\n",
        "import seaborn as sns\n"
      ],
      "metadata": {
        "id": "-A8cqzRTdiI4"
      },
      "execution_count": 2,
      "outputs": []
    },
    {
      "cell_type": "markdown",
      "source": [
        "Source dataset: https://www.kaggle.com/datasets/ealaxi/paysim1"
      ],
      "metadata": {
        "id": "zybeYmOVju1Y"
      }
    },
    {
      "cell_type": "code",
      "source": [
        "df = pd.read_csv(\"/content/drive/MyDrive/Dataset /Customer_Analysis/PS_20174392719_1491204439457_log.csv\")\n",
        "print('Shape: ',df.shape)\n",
        "df.head()"
      ],
      "metadata": {
        "colab": {
          "base_uri": "https://localhost:8080/",
          "height": 0
        },
        "id": "PYclK-osev4q",
        "outputId": "4432fe9e-0a5d-405c-9d0c-fdf5b62cc115"
      },
      "execution_count": 3,
      "outputs": [
        {
          "output_type": "stream",
          "name": "stdout",
          "text": [
            "Shape:  (6362620, 11)\n"
          ]
        },
        {
          "output_type": "execute_result",
          "data": {
            "text/plain": [
              "   step      type    amount     nameOrig  oldbalanceOrg  newbalanceOrig  \\\n",
              "0     1   PAYMENT   9839.64  C1231006815       170136.0       160296.36   \n",
              "1     1   PAYMENT   1864.28  C1666544295        21249.0        19384.72   \n",
              "2     1  TRANSFER    181.00  C1305486145          181.0            0.00   \n",
              "3     1  CASH_OUT    181.00   C840083671          181.0            0.00   \n",
              "4     1   PAYMENT  11668.14  C2048537720        41554.0        29885.86   \n",
              "\n",
              "      nameDest  oldbalanceDest  newbalanceDest  isFraud  isFlaggedFraud  \n",
              "0  M1979787155             0.0             0.0        0               0  \n",
              "1  M2044282225             0.0             0.0        0               0  \n",
              "2   C553264065             0.0             0.0        1               0  \n",
              "3    C38997010         21182.0             0.0        1               0  \n",
              "4  M1230701703             0.0             0.0        0               0  "
            ],
            "text/html": [
              "\n",
              "  <div id=\"df-f6ff1f39-2da1-47ed-b444-22e0df0c712b\">\n",
              "    <div class=\"colab-df-container\">\n",
              "      <div>\n",
              "<style scoped>\n",
              "    .dataframe tbody tr th:only-of-type {\n",
              "        vertical-align: middle;\n",
              "    }\n",
              "\n",
              "    .dataframe tbody tr th {\n",
              "        vertical-align: top;\n",
              "    }\n",
              "\n",
              "    .dataframe thead th {\n",
              "        text-align: right;\n",
              "    }\n",
              "</style>\n",
              "<table border=\"1\" class=\"dataframe\">\n",
              "  <thead>\n",
              "    <tr style=\"text-align: right;\">\n",
              "      <th></th>\n",
              "      <th>step</th>\n",
              "      <th>type</th>\n",
              "      <th>amount</th>\n",
              "      <th>nameOrig</th>\n",
              "      <th>oldbalanceOrg</th>\n",
              "      <th>newbalanceOrig</th>\n",
              "      <th>nameDest</th>\n",
              "      <th>oldbalanceDest</th>\n",
              "      <th>newbalanceDest</th>\n",
              "      <th>isFraud</th>\n",
              "      <th>isFlaggedFraud</th>\n",
              "    </tr>\n",
              "  </thead>\n",
              "  <tbody>\n",
              "    <tr>\n",
              "      <th>0</th>\n",
              "      <td>1</td>\n",
              "      <td>PAYMENT</td>\n",
              "      <td>9839.64</td>\n",
              "      <td>C1231006815</td>\n",
              "      <td>170136.0</td>\n",
              "      <td>160296.36</td>\n",
              "      <td>M1979787155</td>\n",
              "      <td>0.0</td>\n",
              "      <td>0.0</td>\n",
              "      <td>0</td>\n",
              "      <td>0</td>\n",
              "    </tr>\n",
              "    <tr>\n",
              "      <th>1</th>\n",
              "      <td>1</td>\n",
              "      <td>PAYMENT</td>\n",
              "      <td>1864.28</td>\n",
              "      <td>C1666544295</td>\n",
              "      <td>21249.0</td>\n",
              "      <td>19384.72</td>\n",
              "      <td>M2044282225</td>\n",
              "      <td>0.0</td>\n",
              "      <td>0.0</td>\n",
              "      <td>0</td>\n",
              "      <td>0</td>\n",
              "    </tr>\n",
              "    <tr>\n",
              "      <th>2</th>\n",
              "      <td>1</td>\n",
              "      <td>TRANSFER</td>\n",
              "      <td>181.00</td>\n",
              "      <td>C1305486145</td>\n",
              "      <td>181.0</td>\n",
              "      <td>0.00</td>\n",
              "      <td>C553264065</td>\n",
              "      <td>0.0</td>\n",
              "      <td>0.0</td>\n",
              "      <td>1</td>\n",
              "      <td>0</td>\n",
              "    </tr>\n",
              "    <tr>\n",
              "      <th>3</th>\n",
              "      <td>1</td>\n",
              "      <td>CASH_OUT</td>\n",
              "      <td>181.00</td>\n",
              "      <td>C840083671</td>\n",
              "      <td>181.0</td>\n",
              "      <td>0.00</td>\n",
              "      <td>C38997010</td>\n",
              "      <td>21182.0</td>\n",
              "      <td>0.0</td>\n",
              "      <td>1</td>\n",
              "      <td>0</td>\n",
              "    </tr>\n",
              "    <tr>\n",
              "      <th>4</th>\n",
              "      <td>1</td>\n",
              "      <td>PAYMENT</td>\n",
              "      <td>11668.14</td>\n",
              "      <td>C2048537720</td>\n",
              "      <td>41554.0</td>\n",
              "      <td>29885.86</td>\n",
              "      <td>M1230701703</td>\n",
              "      <td>0.0</td>\n",
              "      <td>0.0</td>\n",
              "      <td>0</td>\n",
              "      <td>0</td>\n",
              "    </tr>\n",
              "  </tbody>\n",
              "</table>\n",
              "</div>\n",
              "      <button class=\"colab-df-convert\" onclick=\"convertToInteractive('df-f6ff1f39-2da1-47ed-b444-22e0df0c712b')\"\n",
              "              title=\"Convert this dataframe to an interactive table.\"\n",
              "              style=\"display:none;\">\n",
              "        \n",
              "  <svg xmlns=\"http://www.w3.org/2000/svg\" height=\"24px\"viewBox=\"0 0 24 24\"\n",
              "       width=\"24px\">\n",
              "    <path d=\"M0 0h24v24H0V0z\" fill=\"none\"/>\n",
              "    <path d=\"M18.56 5.44l.94 2.06.94-2.06 2.06-.94-2.06-.94-.94-2.06-.94 2.06-2.06.94zm-11 1L8.5 8.5l.94-2.06 2.06-.94-2.06-.94L8.5 2.5l-.94 2.06-2.06.94zm10 10l.94 2.06.94-2.06 2.06-.94-2.06-.94-.94-2.06-.94 2.06-2.06.94z\"/><path d=\"M17.41 7.96l-1.37-1.37c-.4-.4-.92-.59-1.43-.59-.52 0-1.04.2-1.43.59L10.3 9.45l-7.72 7.72c-.78.78-.78 2.05 0 2.83L4 21.41c.39.39.9.59 1.41.59.51 0 1.02-.2 1.41-.59l7.78-7.78 2.81-2.81c.8-.78.8-2.07 0-2.86zM5.41 20L4 18.59l7.72-7.72 1.47 1.35L5.41 20z\"/>\n",
              "  </svg>\n",
              "      </button>\n",
              "      \n",
              "  <style>\n",
              "    .colab-df-container {\n",
              "      display:flex;\n",
              "      flex-wrap:wrap;\n",
              "      gap: 12px;\n",
              "    }\n",
              "\n",
              "    .colab-df-convert {\n",
              "      background-color: #E8F0FE;\n",
              "      border: none;\n",
              "      border-radius: 50%;\n",
              "      cursor: pointer;\n",
              "      display: none;\n",
              "      fill: #1967D2;\n",
              "      height: 32px;\n",
              "      padding: 0 0 0 0;\n",
              "      width: 32px;\n",
              "    }\n",
              "\n",
              "    .colab-df-convert:hover {\n",
              "      background-color: #E2EBFA;\n",
              "      box-shadow: 0px 1px 2px rgba(60, 64, 67, 0.3), 0px 1px 3px 1px rgba(60, 64, 67, 0.15);\n",
              "      fill: #174EA6;\n",
              "    }\n",
              "\n",
              "    [theme=dark] .colab-df-convert {\n",
              "      background-color: #3B4455;\n",
              "      fill: #D2E3FC;\n",
              "    }\n",
              "\n",
              "    [theme=dark] .colab-df-convert:hover {\n",
              "      background-color: #434B5C;\n",
              "      box-shadow: 0px 1px 3px 1px rgba(0, 0, 0, 0.15);\n",
              "      filter: drop-shadow(0px 1px 2px rgba(0, 0, 0, 0.3));\n",
              "      fill: #FFFFFF;\n",
              "    }\n",
              "  </style>\n",
              "\n",
              "      <script>\n",
              "        const buttonEl =\n",
              "          document.querySelector('#df-f6ff1f39-2da1-47ed-b444-22e0df0c712b button.colab-df-convert');\n",
              "        buttonEl.style.display =\n",
              "          google.colab.kernel.accessAllowed ? 'block' : 'none';\n",
              "\n",
              "        async function convertToInteractive(key) {\n",
              "          const element = document.querySelector('#df-f6ff1f39-2da1-47ed-b444-22e0df0c712b');\n",
              "          const dataTable =\n",
              "            await google.colab.kernel.invokeFunction('convertToInteractive',\n",
              "                                                     [key], {});\n",
              "          if (!dataTable) return;\n",
              "\n",
              "          const docLinkHtml = 'Like what you see? Visit the ' +\n",
              "            '<a target=\"_blank\" href=https://colab.research.google.com/notebooks/data_table.ipynb>data table notebook</a>'\n",
              "            + ' to learn more about interactive tables.';\n",
              "          element.innerHTML = '';\n",
              "          dataTable['output_type'] = 'display_data';\n",
              "          await google.colab.output.renderOutput(dataTable, element);\n",
              "          const docLink = document.createElement('div');\n",
              "          docLink.innerHTML = docLinkHtml;\n",
              "          element.appendChild(docLink);\n",
              "        }\n",
              "      </script>\n",
              "    </div>\n",
              "  </div>\n",
              "  "
            ]
          },
          "metadata": {},
          "execution_count": 3
        }
      ]
    },
    {
      "cell_type": "code",
      "source": [
        "df.info()"
      ],
      "metadata": {
        "colab": {
          "base_uri": "https://localhost:8080/"
        },
        "id": "mJAsFVIbe6bj",
        "outputId": "1a12dadd-a3ce-4efe-dbe5-887f1d195642"
      },
      "execution_count": 4,
      "outputs": [
        {
          "output_type": "stream",
          "name": "stdout",
          "text": [
            "<class 'pandas.core.frame.DataFrame'>\n",
            "RangeIndex: 6362620 entries, 0 to 6362619\n",
            "Data columns (total 11 columns):\n",
            " #   Column          Dtype  \n",
            "---  ------          -----  \n",
            " 0   step            int64  \n",
            " 1   type            object \n",
            " 2   amount          float64\n",
            " 3   nameOrig        object \n",
            " 4   oldbalanceOrg   float64\n",
            " 5   newbalanceOrig  float64\n",
            " 6   nameDest        object \n",
            " 7   oldbalanceDest  float64\n",
            " 8   newbalanceDest  float64\n",
            " 9   isFraud         int64  \n",
            " 10  isFlaggedFraud  int64  \n",
            "dtypes: float64(5), int64(3), object(3)\n",
            "memory usage: 534.0+ MB\n"
          ]
        }
      ]
    },
    {
      "cell_type": "code",
      "source": [
        "df.isnull().sum()"
      ],
      "metadata": {
        "colab": {
          "base_uri": "https://localhost:8080/"
        },
        "id": "2Szv85lle7di",
        "outputId": "cc494460-d8d9-4f35-c38b-269998c8fb2e"
      },
      "execution_count": 5,
      "outputs": [
        {
          "output_type": "execute_result",
          "data": {
            "text/plain": [
              "step              0\n",
              "type              0\n",
              "amount            0\n",
              "nameOrig          0\n",
              "oldbalanceOrg     0\n",
              "newbalanceOrig    0\n",
              "nameDest          0\n",
              "oldbalanceDest    0\n",
              "newbalanceDest    0\n",
              "isFraud           0\n",
              "isFlaggedFraud    0\n",
              "dtype: int64"
            ]
          },
          "metadata": {},
          "execution_count": 5
        }
      ]
    },
    {
      "cell_type": "markdown",
      "source": [
        "Seem likes dataset has been preprocessed. Its kinda clear"
      ],
      "metadata": {
        "id": "kM0sxJ6gtcST"
      }
    },
    {
      "cell_type": "markdown",
      "source": [
        "Key Takeaways:\n",
        "\n",
        "There are no missing values\n",
        "\n",
        "There are just over 6 million observations\n",
        "\n",
        "There are 11 variables\n",
        "\n",
        "Most transactions involve amounts less than 1 million euros.\n",
        "\n",
        "Most observations in the dataset are of valid transactions, so any patterns related to identifying fraud transactions may be hard to see, data is also unbalanced.\n",
        "\n",
        "From the sample of observations, there are many instances where what happens to the recipient account (oldbalanceDest, newbalanceDest) does not make sense (e.g. the very first observation involved a payment of 9839.64 yet, the balance before and after the transaction equals 0.)"
      ],
      "metadata": {
        "id": "wtvC5gxw_9fk"
      }
    },
    {
      "cell_type": "markdown",
      "source": [
        "Responding to takeaways\n",
        "\n",
        "No imputation is required until further notice\n",
        "\n",
        "Non-parametric machine learning methods may be preferred due to the large size of the data and that the goal is accurate classification, not interpretation\n",
        "\n",
        "Dimension Reduction methods may not be necessary\n",
        "\n",
        "(and points 5, 6) Since the data is unbalanced I want to visually compare fraud transactions to valid transactions and see if there are any important patterns that could be useful."
      ],
      "metadata": {
        "id": "t_LNiyQmBSNA"
      }
    },
    {
      "cell_type": "markdown",
      "source": [
        "# Explotary Data Analysis"
      ],
      "metadata": {
        "id": "XSHtBZm5tRPf"
      }
    },
    {
      "cell_type": "code",
      "source": [
        "df.describe()"
      ],
      "metadata": {
        "colab": {
          "base_uri": "https://localhost:8080/",
          "height": 300
        },
        "id": "g5BzeVz3e9ES",
        "outputId": "72cbf6d3-4d66-4e97-f6ad-e7b5f00fe765"
      },
      "execution_count": null,
      "outputs": [
        {
          "output_type": "execute_result",
          "data": {
            "text/plain": [
              "               step        amount  oldbalanceOrg  newbalanceOrig  \\\n",
              "count  6.362620e+06  6.362620e+06   6.362620e+06    6.362620e+06   \n",
              "mean   2.433972e+02  1.798619e+05   8.338831e+05    8.551137e+05   \n",
              "std    1.423320e+02  6.038582e+05   2.888243e+06    2.924049e+06   \n",
              "min    1.000000e+00  0.000000e+00   0.000000e+00    0.000000e+00   \n",
              "25%    1.560000e+02  1.338957e+04   0.000000e+00    0.000000e+00   \n",
              "50%    2.390000e+02  7.487194e+04   1.420800e+04    0.000000e+00   \n",
              "75%    3.350000e+02  2.087215e+05   1.073152e+05    1.442584e+05   \n",
              "max    7.430000e+02  9.244552e+07   5.958504e+07    4.958504e+07   \n",
              "\n",
              "       oldbalanceDest  newbalanceDest       isFraud  isFlaggedFraud  \n",
              "count    6.362620e+06    6.362620e+06  6.362620e+06    6.362620e+06  \n",
              "mean     1.100702e+06    1.224996e+06  1.290820e-03    2.514687e-06  \n",
              "std      3.399180e+06    3.674129e+06  3.590480e-02    1.585775e-03  \n",
              "min      0.000000e+00    0.000000e+00  0.000000e+00    0.000000e+00  \n",
              "25%      0.000000e+00    0.000000e+00  0.000000e+00    0.000000e+00  \n",
              "50%      1.327057e+05    2.146614e+05  0.000000e+00    0.000000e+00  \n",
              "75%      9.430367e+05    1.111909e+06  0.000000e+00    0.000000e+00  \n",
              "max      3.560159e+08    3.561793e+08  1.000000e+00    1.000000e+00  "
            ],
            "text/html": [
              "\n",
              "  <div id=\"df-a47c5706-5000-4502-9eb9-0f8b302027e4\">\n",
              "    <div class=\"colab-df-container\">\n",
              "      <div>\n",
              "<style scoped>\n",
              "    .dataframe tbody tr th:only-of-type {\n",
              "        vertical-align: middle;\n",
              "    }\n",
              "\n",
              "    .dataframe tbody tr th {\n",
              "        vertical-align: top;\n",
              "    }\n",
              "\n",
              "    .dataframe thead th {\n",
              "        text-align: right;\n",
              "    }\n",
              "</style>\n",
              "<table border=\"1\" class=\"dataframe\">\n",
              "  <thead>\n",
              "    <tr style=\"text-align: right;\">\n",
              "      <th></th>\n",
              "      <th>step</th>\n",
              "      <th>amount</th>\n",
              "      <th>oldbalanceOrg</th>\n",
              "      <th>newbalanceOrig</th>\n",
              "      <th>oldbalanceDest</th>\n",
              "      <th>newbalanceDest</th>\n",
              "      <th>isFraud</th>\n",
              "      <th>isFlaggedFraud</th>\n",
              "    </tr>\n",
              "  </thead>\n",
              "  <tbody>\n",
              "    <tr>\n",
              "      <th>count</th>\n",
              "      <td>6.362620e+06</td>\n",
              "      <td>6.362620e+06</td>\n",
              "      <td>6.362620e+06</td>\n",
              "      <td>6.362620e+06</td>\n",
              "      <td>6.362620e+06</td>\n",
              "      <td>6.362620e+06</td>\n",
              "      <td>6.362620e+06</td>\n",
              "      <td>6.362620e+06</td>\n",
              "    </tr>\n",
              "    <tr>\n",
              "      <th>mean</th>\n",
              "      <td>2.433972e+02</td>\n",
              "      <td>1.798619e+05</td>\n",
              "      <td>8.338831e+05</td>\n",
              "      <td>8.551137e+05</td>\n",
              "      <td>1.100702e+06</td>\n",
              "      <td>1.224996e+06</td>\n",
              "      <td>1.290820e-03</td>\n",
              "      <td>2.514687e-06</td>\n",
              "    </tr>\n",
              "    <tr>\n",
              "      <th>std</th>\n",
              "      <td>1.423320e+02</td>\n",
              "      <td>6.038582e+05</td>\n",
              "      <td>2.888243e+06</td>\n",
              "      <td>2.924049e+06</td>\n",
              "      <td>3.399180e+06</td>\n",
              "      <td>3.674129e+06</td>\n",
              "      <td>3.590480e-02</td>\n",
              "      <td>1.585775e-03</td>\n",
              "    </tr>\n",
              "    <tr>\n",
              "      <th>min</th>\n",
              "      <td>1.000000e+00</td>\n",
              "      <td>0.000000e+00</td>\n",
              "      <td>0.000000e+00</td>\n",
              "      <td>0.000000e+00</td>\n",
              "      <td>0.000000e+00</td>\n",
              "      <td>0.000000e+00</td>\n",
              "      <td>0.000000e+00</td>\n",
              "      <td>0.000000e+00</td>\n",
              "    </tr>\n",
              "    <tr>\n",
              "      <th>25%</th>\n",
              "      <td>1.560000e+02</td>\n",
              "      <td>1.338957e+04</td>\n",
              "      <td>0.000000e+00</td>\n",
              "      <td>0.000000e+00</td>\n",
              "      <td>0.000000e+00</td>\n",
              "      <td>0.000000e+00</td>\n",
              "      <td>0.000000e+00</td>\n",
              "      <td>0.000000e+00</td>\n",
              "    </tr>\n",
              "    <tr>\n",
              "      <th>50%</th>\n",
              "      <td>2.390000e+02</td>\n",
              "      <td>7.487194e+04</td>\n",
              "      <td>1.420800e+04</td>\n",
              "      <td>0.000000e+00</td>\n",
              "      <td>1.327057e+05</td>\n",
              "      <td>2.146614e+05</td>\n",
              "      <td>0.000000e+00</td>\n",
              "      <td>0.000000e+00</td>\n",
              "    </tr>\n",
              "    <tr>\n",
              "      <th>75%</th>\n",
              "      <td>3.350000e+02</td>\n",
              "      <td>2.087215e+05</td>\n",
              "      <td>1.073152e+05</td>\n",
              "      <td>1.442584e+05</td>\n",
              "      <td>9.430367e+05</td>\n",
              "      <td>1.111909e+06</td>\n",
              "      <td>0.000000e+00</td>\n",
              "      <td>0.000000e+00</td>\n",
              "    </tr>\n",
              "    <tr>\n",
              "      <th>max</th>\n",
              "      <td>7.430000e+02</td>\n",
              "      <td>9.244552e+07</td>\n",
              "      <td>5.958504e+07</td>\n",
              "      <td>4.958504e+07</td>\n",
              "      <td>3.560159e+08</td>\n",
              "      <td>3.561793e+08</td>\n",
              "      <td>1.000000e+00</td>\n",
              "      <td>1.000000e+00</td>\n",
              "    </tr>\n",
              "  </tbody>\n",
              "</table>\n",
              "</div>\n",
              "      <button class=\"colab-df-convert\" onclick=\"convertToInteractive('df-a47c5706-5000-4502-9eb9-0f8b302027e4')\"\n",
              "              title=\"Convert this dataframe to an interactive table.\"\n",
              "              style=\"display:none;\">\n",
              "        \n",
              "  <svg xmlns=\"http://www.w3.org/2000/svg\" height=\"24px\"viewBox=\"0 0 24 24\"\n",
              "       width=\"24px\">\n",
              "    <path d=\"M0 0h24v24H0V0z\" fill=\"none\"/>\n",
              "    <path d=\"M18.56 5.44l.94 2.06.94-2.06 2.06-.94-2.06-.94-.94-2.06-.94 2.06-2.06.94zm-11 1L8.5 8.5l.94-2.06 2.06-.94-2.06-.94L8.5 2.5l-.94 2.06-2.06.94zm10 10l.94 2.06.94-2.06 2.06-.94-2.06-.94-.94-2.06-.94 2.06-2.06.94z\"/><path d=\"M17.41 7.96l-1.37-1.37c-.4-.4-.92-.59-1.43-.59-.52 0-1.04.2-1.43.59L10.3 9.45l-7.72 7.72c-.78.78-.78 2.05 0 2.83L4 21.41c.39.39.9.59 1.41.59.51 0 1.02-.2 1.41-.59l7.78-7.78 2.81-2.81c.8-.78.8-2.07 0-2.86zM5.41 20L4 18.59l7.72-7.72 1.47 1.35L5.41 20z\"/>\n",
              "  </svg>\n",
              "      </button>\n",
              "      \n",
              "  <style>\n",
              "    .colab-df-container {\n",
              "      display:flex;\n",
              "      flex-wrap:wrap;\n",
              "      gap: 12px;\n",
              "    }\n",
              "\n",
              "    .colab-df-convert {\n",
              "      background-color: #E8F0FE;\n",
              "      border: none;\n",
              "      border-radius: 50%;\n",
              "      cursor: pointer;\n",
              "      display: none;\n",
              "      fill: #1967D2;\n",
              "      height: 32px;\n",
              "      padding: 0 0 0 0;\n",
              "      width: 32px;\n",
              "    }\n",
              "\n",
              "    .colab-df-convert:hover {\n",
              "      background-color: #E2EBFA;\n",
              "      box-shadow: 0px 1px 2px rgba(60, 64, 67, 0.3), 0px 1px 3px 1px rgba(60, 64, 67, 0.15);\n",
              "      fill: #174EA6;\n",
              "    }\n",
              "\n",
              "    [theme=dark] .colab-df-convert {\n",
              "      background-color: #3B4455;\n",
              "      fill: #D2E3FC;\n",
              "    }\n",
              "\n",
              "    [theme=dark] .colab-df-convert:hover {\n",
              "      background-color: #434B5C;\n",
              "      box-shadow: 0px 1px 3px 1px rgba(0, 0, 0, 0.15);\n",
              "      filter: drop-shadow(0px 1px 2px rgba(0, 0, 0, 0.3));\n",
              "      fill: #FFFFFF;\n",
              "    }\n",
              "  </style>\n",
              "\n",
              "      <script>\n",
              "        const buttonEl =\n",
              "          document.querySelector('#df-a47c5706-5000-4502-9eb9-0f8b302027e4 button.colab-df-convert');\n",
              "        buttonEl.style.display =\n",
              "          google.colab.kernel.accessAllowed ? 'block' : 'none';\n",
              "\n",
              "        async function convertToInteractive(key) {\n",
              "          const element = document.querySelector('#df-a47c5706-5000-4502-9eb9-0f8b302027e4');\n",
              "          const dataTable =\n",
              "            await google.colab.kernel.invokeFunction('convertToInteractive',\n",
              "                                                     [key], {});\n",
              "          if (!dataTable) return;\n",
              "\n",
              "          const docLinkHtml = 'Like what you see? Visit the ' +\n",
              "            '<a target=\"_blank\" href=https://colab.research.google.com/notebooks/data_table.ipynb>data table notebook</a>'\n",
              "            + ' to learn more about interactive tables.';\n",
              "          element.innerHTML = '';\n",
              "          dataTable['output_type'] = 'display_data';\n",
              "          await google.colab.output.renderOutput(dataTable, element);\n",
              "          const docLink = document.createElement('div');\n",
              "          docLink.innerHTML = docLinkHtml;\n",
              "          element.appendChild(docLink);\n",
              "        }\n",
              "      </script>\n",
              "    </div>\n",
              "  </div>\n",
              "  "
            ]
          },
          "metadata": {},
          "execution_count": 6
        }
      ]
    },
    {
      "cell_type": "code",
      "source": [
        "df_pivot=pd.pivot_table(df,index=[\"type\"],\n",
        "                               values=['amount','isFraud','isFlaggedFraud'],\n",
        "                               aggfunc=[np.sum,np.std], margins=True)\n",
        "\n",
        "#Adding color gradient \n",
        "cm = sns.light_palette(\"green\", as_cmap=True)\n",
        "df_pivot.style.background_gradient(cmap=cm)"
      ],
      "metadata": {
        "colab": {
          "base_uri": "https://localhost:8080/",
          "height": 300
        },
        "id": "HnLQuNAMSBY9",
        "outputId": "d326a2d5-7c4c-4fe4-82bd-1eb36d4f7717"
      },
      "execution_count": null,
      "outputs": [
        {
          "output_type": "execute_result",
          "data": {
            "text/plain": [
              "<pandas.io.formats.style.Styler at 0x7fb5521b7940>"
            ],
            "text/html": [
              "<style type=\"text/css\">\n",
              "#T_700e0_row0_col0 {\n",
              "  background-color: #bbdcbb;\n",
              "  color: #000000;\n",
              "}\n",
              "#T_700e0_row0_col1, #T_700e0_row0_col2, #T_700e0_row0_col4, #T_700e0_row0_col5, #T_700e0_row1_col1, #T_700e0_row1_col4, #T_700e0_row2_col0, #T_700e0_row2_col1, #T_700e0_row2_col2, #T_700e0_row2_col3, #T_700e0_row2_col4, #T_700e0_row2_col5, #T_700e0_row3_col1, #T_700e0_row3_col2, #T_700e0_row3_col3, #T_700e0_row3_col4, #T_700e0_row3_col5 {\n",
              "  background-color: #ebf3eb;\n",
              "  color: #000000;\n",
              "}\n",
              "#T_700e0_row0_col3 {\n",
              "  background-color: #ddecdd;\n",
              "  color: #000000;\n",
              "}\n",
              "#T_700e0_row1_col0 {\n",
              "  background-color: #9acb9a;\n",
              "  color: #000000;\n",
              "}\n",
              "#T_700e0_row1_col2 {\n",
              "  background-color: #75b975;\n",
              "  color: #f1f1f1;\n",
              "}\n",
              "#T_700e0_row1_col3 {\n",
              "  background-color: #d6e9d6;\n",
              "  color: #000000;\n",
              "}\n",
              "#T_700e0_row1_col5 {\n",
              "  background-color: #78bb78;\n",
              "  color: #f1f1f1;\n",
              "}\n",
              "#T_700e0_row3_col0 {\n",
              "  background-color: #e5f0e5;\n",
              "  color: #000000;\n",
              "}\n",
              "#T_700e0_row4_col0 {\n",
              "  background-color: #87c287;\n",
              "  color: #000000;\n",
              "}\n",
              "#T_700e0_row4_col1, #T_700e0_row4_col3, #T_700e0_row4_col4, #T_700e0_row4_col5, #T_700e0_row5_col0, #T_700e0_row5_col1, #T_700e0_row5_col2 {\n",
              "  background-color: #008000;\n",
              "  color: #f1f1f1;\n",
              "}\n",
              "#T_700e0_row4_col2 {\n",
              "  background-color: #76ba76;\n",
              "  color: #f1f1f1;\n",
              "}\n",
              "#T_700e0_row5_col3 {\n",
              "  background-color: #a0cea0;\n",
              "  color: #000000;\n",
              "}\n",
              "#T_700e0_row5_col4 {\n",
              "  background-color: #a6d2a6;\n",
              "  color: #000000;\n",
              "}\n",
              "#T_700e0_row5_col5 {\n",
              "  background-color: #8ac48a;\n",
              "  color: #000000;\n",
              "}\n",
              "</style>\n",
              "<table id=\"T_700e0\" class=\"dataframe\">\n",
              "  <thead>\n",
              "    <tr>\n",
              "      <th class=\"blank level0\" >&nbsp;</th>\n",
              "      <th id=\"T_700e0_level0_col0\" class=\"col_heading level0 col0\" colspan=\"3\">sum</th>\n",
              "      <th id=\"T_700e0_level0_col3\" class=\"col_heading level0 col3\" colspan=\"3\">std</th>\n",
              "    </tr>\n",
              "    <tr>\n",
              "      <th class=\"blank level1\" >&nbsp;</th>\n",
              "      <th id=\"T_700e0_level1_col0\" class=\"col_heading level1 col0\" >amount</th>\n",
              "      <th id=\"T_700e0_level1_col1\" class=\"col_heading level1 col1\" >isFlaggedFraud</th>\n",
              "      <th id=\"T_700e0_level1_col2\" class=\"col_heading level1 col2\" >isFraud</th>\n",
              "      <th id=\"T_700e0_level1_col3\" class=\"col_heading level1 col3\" >amount</th>\n",
              "      <th id=\"T_700e0_level1_col4\" class=\"col_heading level1 col4\" >isFlaggedFraud</th>\n",
              "      <th id=\"T_700e0_level1_col5\" class=\"col_heading level1 col5\" >isFraud</th>\n",
              "    </tr>\n",
              "    <tr>\n",
              "      <th class=\"index_name level0\" >type</th>\n",
              "      <th class=\"blank col0\" >&nbsp;</th>\n",
              "      <th class=\"blank col1\" >&nbsp;</th>\n",
              "      <th class=\"blank col2\" >&nbsp;</th>\n",
              "      <th class=\"blank col3\" >&nbsp;</th>\n",
              "      <th class=\"blank col4\" >&nbsp;</th>\n",
              "      <th class=\"blank col5\" >&nbsp;</th>\n",
              "    </tr>\n",
              "  </thead>\n",
              "  <tbody>\n",
              "    <tr>\n",
              "      <th id=\"T_700e0_level0_row0\" class=\"row_heading level0 row0\" >CASH_IN</th>\n",
              "      <td id=\"T_700e0_row0_col0\" class=\"data row0 col0\" >236367391912.459991</td>\n",
              "      <td id=\"T_700e0_row0_col1\" class=\"data row0 col1\" >0</td>\n",
              "      <td id=\"T_700e0_row0_col2\" class=\"data row0 col2\" >0</td>\n",
              "      <td id=\"T_700e0_row0_col3\" class=\"data row0 col3\" >126508.255272</td>\n",
              "      <td id=\"T_700e0_row0_col4\" class=\"data row0 col4\" >0.000000</td>\n",
              "      <td id=\"T_700e0_row0_col5\" class=\"data row0 col5\" >0.000000</td>\n",
              "    </tr>\n",
              "    <tr>\n",
              "      <th id=\"T_700e0_level0_row1\" class=\"row_heading level0 row1\" >CASH_OUT</th>\n",
              "      <td id=\"T_700e0_row1_col0\" class=\"data row1 col0\" >394412995224.489990</td>\n",
              "      <td id=\"T_700e0_row1_col1\" class=\"data row1 col1\" >0</td>\n",
              "      <td id=\"T_700e0_row1_col2\" class=\"data row1 col2\" >4116</td>\n",
              "      <td id=\"T_700e0_row1_col3\" class=\"data row1 col3\" >175329.744483</td>\n",
              "      <td id=\"T_700e0_row1_col4\" class=\"data row1 col4\" >0.000000</td>\n",
              "      <td id=\"T_700e0_row1_col5\" class=\"data row1 col5\" >0.042851</td>\n",
              "    </tr>\n",
              "    <tr>\n",
              "      <th id=\"T_700e0_level0_row2\" class=\"row_heading level0 row2\" >DEBIT</th>\n",
              "      <td id=\"T_700e0_row2_col0\" class=\"data row2 col0\" >227199221.280000</td>\n",
              "      <td id=\"T_700e0_row2_col1\" class=\"data row2 col1\" >0</td>\n",
              "      <td id=\"T_700e0_row2_col2\" class=\"data row2 col2\" >0</td>\n",
              "      <td id=\"T_700e0_row2_col3\" class=\"data row2 col3\" >13318.535518</td>\n",
              "      <td id=\"T_700e0_row2_col4\" class=\"data row2 col4\" >0.000000</td>\n",
              "      <td id=\"T_700e0_row2_col5\" class=\"data row2 col5\" >0.000000</td>\n",
              "    </tr>\n",
              "    <tr>\n",
              "      <th id=\"T_700e0_level0_row3\" class=\"row_heading level0 row3\" >PAYMENT</th>\n",
              "      <td id=\"T_700e0_row3_col0\" class=\"data row3 col0\" >28093371138.369999</td>\n",
              "      <td id=\"T_700e0_row3_col1\" class=\"data row3 col1\" >0</td>\n",
              "      <td id=\"T_700e0_row3_col2\" class=\"data row3 col2\" >0</td>\n",
              "      <td id=\"T_700e0_row3_col3\" class=\"data row3 col3\" >12556.450186</td>\n",
              "      <td id=\"T_700e0_row3_col4\" class=\"data row3 col4\" >0.000000</td>\n",
              "      <td id=\"T_700e0_row3_col5\" class=\"data row3 col5\" >0.000000</td>\n",
              "    </tr>\n",
              "    <tr>\n",
              "      <th id=\"T_700e0_level0_row4\" class=\"row_heading level0 row4\" >TRANSFER</th>\n",
              "      <td id=\"T_700e0_row4_col0\" class=\"data row4 col0\" >485291987263.169983</td>\n",
              "      <td id=\"T_700e0_row4_col1\" class=\"data row4 col1\" >16</td>\n",
              "      <td id=\"T_700e0_row4_col2\" class=\"data row4 col2\" >4097</td>\n",
              "      <td id=\"T_700e0_row4_col3\" class=\"data row4 col3\" >1879573.528908</td>\n",
              "      <td id=\"T_700e0_row4_col4\" class=\"data row4 col4\" >0.005479</td>\n",
              "      <td id=\"T_700e0_row4_col5\" class=\"data row4 col5\" >0.087344</td>\n",
              "    </tr>\n",
              "    <tr>\n",
              "      <th id=\"T_700e0_level0_row5\" class=\"row_heading level0 row5\" >All</th>\n",
              "      <td id=\"T_700e0_row5_col0\" class=\"data row5 col0\" >1144392944759.770020</td>\n",
              "      <td id=\"T_700e0_row5_col1\" class=\"data row5 col1\" >16</td>\n",
              "      <td id=\"T_700e0_row5_col2\" class=\"data row5 col2\" >8213</td>\n",
              "      <td id=\"T_700e0_row5_col3\" class=\"data row5 col3\" >603858.184009</td>\n",
              "      <td id=\"T_700e0_row5_col4\" class=\"data row5 col4\" >0.001586</td>\n",
              "      <td id=\"T_700e0_row5_col5\" class=\"data row5 col5\" >0.035905</td>\n",
              "    </tr>\n",
              "  </tbody>\n",
              "</table>\n"
            ]
          },
          "metadata": {},
          "execution_count": 28
        }
      ]
    },
    {
      "cell_type": "code",
      "source": [
        "sns.heatmap(df.corr(), annot = True, cmap= 'icefire')"
      ],
      "metadata": {
        "colab": {
          "base_uri": "https://localhost:8080/",
          "height": 359
        },
        "id": "uESLDRxskG_N",
        "outputId": "0fead251-3065-4541-fc73-2c3db7f707f9"
      },
      "execution_count": null,
      "outputs": [
        {
          "output_type": "execute_result",
          "data": {
            "text/plain": [
              "<AxesSubplot:>"
            ]
          },
          "metadata": {},
          "execution_count": 5
        },
        {
          "output_type": "display_data",
          "data": {
            "text/plain": [
              "<Figure size 432x288 with 2 Axes>"
            ],
            "image/png": "[encoded data removed]"
          },
          "metadata": {
            "needs_background": "light"
          }
        }
      ]
    },
    {
      "cell_type": "markdown",
      "source": [
        " From the hypothesis, isFraud is the indicator which indicates the actual fraud transactions whereas isFlaggedFraud is what the system prevents the transaction due to some thresholds (amount 200k transactions) being triggered."
      ],
      "metadata": {
        "id": "VjkGbHfpwbkN"
      }
    },
    {
      "cell_type": "code",
      "source": [
        "print('isFraud counts:\\n',df['isFraud'].value_counts())\n",
        "print('isFlaggedFraud counts:\\n',df['isFlaggedFraud'].value_counts())"
      ],
      "metadata": {
        "colab": {
          "base_uri": "https://localhost:8080/"
        },
        "id": "rleIOPUEfFxb",
        "outputId": "204f8a71-7b6d-48bc-a913-85c9a3574ab6"
      },
      "execution_count": null,
      "outputs": [
        {
          "output_type": "stream",
          "name": "stdout",
          "text": [
            "isFraud counts:\n",
            " 0    6354407\n",
            "1       8213\n",
            "Name: isFraud, dtype: int64\n",
            "isFlaggedFraud counts:\n",
            " 0    6362604\n",
            "1         16\n",
            "Name: isFlaggedFraud, dtype: int64\n"
          ]
        }
      ]
    },
    {
      "cell_type": "markdown",
      "source": [
        "Look at this skewed show that how dataset imbalanced is =))"
      ],
      "metadata": {
        "id": "Vb-H01f_w9sH"
      }
    },
    {
      "cell_type": "code",
      "source": [
        "print('No Frauds', round(df['isFraud'].value_counts()[0]/len(df) * 100,2), '% of the dataset')\n",
        "print('Frauds', round(df['isFraud'].value_counts()[1]/len(df) * 100,2), '% of the dataset')"
      ],
      "metadata": {
        "colab": {
          "base_uri": "https://localhost:8080/"
        },
        "id": "t39KJ-gGk2LI",
        "outputId": "66c4c5e0-daa3-4f49-ce0d-f49a815a425a"
      },
      "execution_count": null,
      "outputs": [
        {
          "output_type": "stream",
          "name": "stdout",
          "text": [
            "No Frauds 99.87 % of the dataset\n",
            "Frauds 0.13 % of the dataset\n"
          ]
        }
      ]
    },
    {
      "cell_type": "code",
      "source": [
        "sns.countplot('isFraud', data=df)\n",
        "plt.title('Fraud Distributions \\n (0: Non-Fraud || 1: Fraud)', fontsize=14)\n",
        "value_counts = df['isFraud'].value_counts()\n",
        "\n",
        "# Iterate over the value counts and add them to the plot\n",
        "for i, count in enumerate(value_counts):\n",
        "    plt.text(i, count+100, count, ha='center')  \n",
        "\n",
        "plt.show()"
      ],
      "metadata": {
        "colab": {
          "base_uri": "https://localhost:8080/",
          "height": 368
        },
        "id": "hCW-Y-xBlhPR",
        "outputId": "1a087cd2-844f-40fc-e58a-1b1e5f1917bc"
      },
      "execution_count": null,
      "outputs": [
        {
          "output_type": "stream",
          "name": "stderr",
          "text": [
            "/usr/local/lib/python3.9/dist-packages/seaborn/_decorators.py:36: FutureWarning: Pass the following variable as a keyword arg: x. From version 0.12, the only valid positional argument will be `data`, and passing other arguments without an explicit keyword will result in an error or misinterpretation.\n",
            "  warnings.warn(\n"
          ]
        },
        {
          "output_type": "display_data",
          "data": {
            "text/plain": [
              "<Figure size 432x288 with 1 Axes>"
            ],
            "image/png": "[encoded data removed]"
          },
          "metadata": {
            "needs_background": "light"
          }
        }
      ]
    },
    {
      "cell_type": "markdown",
      "source": [
        "The original dataset is imbalanced between Fraud and non-Fraud, most of them are non-fraud. If we use this dataframe as the base for our predictive models and analysis we might get a lot of errors and our algorithms will probably overfit since it will \"assume\" that most transactions are non-fraud."
      ],
      "metadata": {
        "id": "F3bCsT_KlLM9"
      }
    },
    {
      "cell_type": "markdown",
      "source": [
        "## FlaggedFraud"
      ],
      "metadata": {
        "id": "kFxM_LpbYxK5"
      }
    },
    {
      "cell_type": "markdown",
      "source": [
        "Now let see whether which type have only 16 FlaggedFraud in 6 milion transactions =))"
      ],
      "metadata": {
        "id": "2BhDakPc2lL-"
      }
    },
    {
      "cell_type": "code",
      "source": [
        "print('The types of flagged fraudulent transactions are {}'.format(list(df.loc[df['isFlaggedFraud'] == 1].type.drop_duplicates().values)))"
      ],
      "metadata": {
        "colab": {
          "base_uri": "https://localhost:8080/"
        },
        "id": "i_QIHD5r27o3",
        "outputId": "1111dbde-79ae-41bc-a5ca-de9504f07d95"
      },
      "execution_count": null,
      "outputs": [
        {
          "output_type": "stream",
          "name": "stdout",
          "text": [
            "The types of flagged fraudulent transactions are ['TRANSFER']\n"
          ]
        }
      ]
    },
    {
      "cell_type": "code",
      "source": [
        "print('The number of flagged fraudulent TRANSFER = {}'.format(len(df.loc[(df['isFlaggedFraud'] == 1) & (df['type'] == 'TRANSFER')])))"
      ],
      "metadata": {
        "colab": {
          "base_uri": "https://localhost:8080/"
        },
        "id": "3-VJQuCX3VlO",
        "outputId": "2ef0b427-71f6-480f-b26f-f7356b0b21a8"
      },
      "execution_count": null,
      "outputs": [
        {
          "output_type": "stream",
          "name": "stdout",
          "text": [
            "The number of flagged fraudulent TRANSFER = 16\n"
          ]
        }
      ]
    },
    {
      "cell_type": "code",
      "source": [
        "flagged = df.loc[df[\"isFlaggedFraud\"] == 1] #observation\n",
        "flagged_correctly = sum(flagged[\"isFraud\"] == 1) #number of transactions is actual fraud and flagged\n",
        "flagged_wrongly = len(flagged) - flagged_correctly\n",
        "print(flagged_correctly,\"observations were flagged correctly and\", flagged_wrongly, \\\n",
        "      \"observations were flagged wrongly for a total of\", len(flagged), \"flagged observations.\")\n",
        "\n",
        "# how many observations where the transaction is fraudulent, the transaction is a transfer\n",
        "# and the amount is greater than 200.000 are in the dataset\n",
        "should_be_flagged = df.loc[df[\"isFraud\"] == 1][(df.loc[df[\"isFraud\"] == 1][\"amount\"] > 200000) & (df.loc[df[\"isFraud\"] == 1][\"type\"] == \"TRANSFER\")]\n",
        "print(\"number of observations that should be flagged: \",len(should_be_flagged))"
      ],
      "metadata": {
        "colab": {
          "base_uri": "https://localhost:8080/"
        },
        "id": "JFtKqQI8LjVF",
        "outputId": "ff2e8785-0989-4c95-bb30-c05baa4ad358"
      },
      "execution_count": null,
      "outputs": [
        {
          "output_type": "stream",
          "name": "stdout",
          "text": [
            "16 observations were flagged correctly and 0 observations were flagged wrongly for a total of 16 flagged observations.\n",
            "number of observations that should be flagged:  2740\n"
          ]
        }
      ]
    },
    {
      "cell_type": "code",
      "source": [
        "dfTransfer = df.loc[df[\"type\"] == 'TRANSFER']\n",
        "dfFlagged = df.loc[df[\"isFlaggedFraud\"] == 1]\n",
        "dfNotFlagged = df.loc[df[\"isFlaggedFraud\"] == 0]\n",
        "\n",
        "print('Min amount transacted when isFlaggedFraud is set = {}'.format(dfFlagged[\"amount\"].min()))\n",
        "\n",
        "print('Max amount transacted in a TRANSFER where isFlaggedFraud is not set =\\\n",
        " {}'.format(dfTransfer.loc[dfTransfer[\"isFlaggedFraud\"] == 0][\"amount\"].max()))"
      ],
      "metadata": {
        "colab": {
          "base_uri": "https://localhost:8080/"
        },
        "id": "UTo4QGs9bQZE",
        "outputId": "28bdaa9f-931c-4bf9-e93b-9b469800378d"
      },
      "execution_count": null,
      "outputs": [
        {
          "output_type": "stream",
          "name": "stdout",
          "text": [
            "Min amount transacted when isFlaggedFraud is set = 353874.22\n",
            "Max amount transacted in a TRANSFER where isFlaggedFraud is not set = 92445516.64\n"
          ]
        }
      ]
    },
    {
      "cell_type": "code",
      "source": [
        "print('Have originators of transactions flagged as fraud transacted more than once? {}'\\\n",
        ".format((dfFlagged[\"nameOrig\"].isin(pd.concat([dfNotFlagged[\"nameOrig\"], dfNotFlagged[\"nameDest\"]]))).any()))\n",
        "\n",
        "print('Have destinations for transactions flagged as fraud initiated other transactions? \\\n",
        "{}'.format((dfFlagged[\"nameDest\"].isin(dfNotFlagged[\"nameOrig\"])).any()))\n",
        "# Since only 2 destination accounts of 16 that have 'isFlaggedFraud' set have been destination accounts more than once,\n",
        "# Clearly 'isFlaggedFraud' being set is independent of whether a destination account has been used before or not\n",
        "\n",
        "print('How many destination accounts of transactions flagged as fraud have been destination accounts more than once?: {}'\\\n",
        ".format(sum(dfFlagged[\"nameDest\"].isin(dfNotFlagged[\"nameDest\"])))) "
      ],
      "metadata": {
        "colab": {
          "base_uri": "https://localhost:8080/"
        },
        "id": "2FS0ZEsfcHLj",
        "outputId": "b5a731b4-1473-440d-b757-e24c4483b5f4"
      },
      "execution_count": null,
      "outputs": [
        {
          "output_type": "stream",
          "name": "stdout",
          "text": [
            "Have originators of transactions flagged as fraud transacted more than once? False\n",
            "Have destinations for transactions flagged as fraud initiated other transactions? False\n",
            "How many destination accounts of transactions flagged as fraud have been destination accounts more than once?: 2\n"
          ]
        }
      ]
    },
    {
      "cell_type": "markdown",
      "source": [
        "So it looks the simulation can flag only 16 transfer transactions as fraud. Let's look at those records and compare with the records which the system cannot catch'em.\n",
        "\n",
        "The plot below will also focus only on transfer transaction type."
      ],
      "metadata": {
        "id": "SUD4I9HZ-jKJ"
      }
    },
    {
      "cell_type": "code",
      "source": [
        "fig, axs = plt.subplots(2, 2, figsize=(10, 10))\n",
        "tmp = df.loc[(df['type'] == 'TRANSFER'), :]\n",
        "\n",
        "a = sns.boxplot(x = 'isFlaggedFraud', y = 'amount', data = tmp, ax=axs[0][0])\n",
        "axs[0][0].set_yscale('log')\n",
        "b = sns.boxplot(x = 'isFlaggedFraud', y = 'oldbalanceDest', data = tmp, ax=axs[0][1])\n",
        "axs[0][1].set(ylim=(0, 0.5e8))\n",
        "c = sns.boxplot(x = 'isFlaggedFraud', y = 'oldbalanceOrg', data=tmp, ax=axs[1][0])\n",
        "axs[1][0].set(ylim=(0, 3e7))\n",
        "d = sns.regplot(x = 'oldbalanceOrg', y = 'amount', data=tmp.loc[(tmp.isFlaggedFraud ==1), :], ax=axs[1][1])\n",
        "plt.show()"
      ],
      "metadata": {
        "colab": {
          "base_uri": "https://localhost:8080/",
          "height": 616
        },
        "id": "-T2wbQYZ-jsS",
        "outputId": "312d4ec1-2175-4faf-951c-3d9c6f3b9e90"
      },
      "execution_count": null,
      "outputs": [
        {
          "output_type": "display_data",
          "data": {
            "text/plain": [
              "<Figure size 720x720 with 4 Axes>"
            ],
            "image/png": "[encoded data removed]"
          },
          "metadata": {
            "needs_background": "light"
          }
        }
      ]
    },
    {
      "cell_type": "markdown",
      "source": [
        "Conclusion:\n",
        "\n",
        "In a modified dataset with more than 2 million observations, a variable that brings attention to only 16 observations is insignificant.\n",
        "\n",
        "Furthermore, the number of transactions that should have been flagged(16) far exceeds the number of observations that were actually flagged(2740).\n",
        "\n",
        "For that reason, I am omitting the isFlaggedFraud column from the analysis."
      ],
      "metadata": {
        "id": "t04pDWGrMFs7"
      }
    },
    {
      "cell_type": "markdown",
      "source": [
        "## Account type"
      ],
      "metadata": {
        "id": "wXgQzfJCCPlu"
      }
    },
    {
      "cell_type": "markdown",
      "source": [
        "One feature of the dataset that is not immediately presented on the kaggle overview page is the account types \"C\" (customer) and \"M\" (Merchant), which would be the first character for each value under nameOrig and nameDest. Could this be a predictor?"
      ],
      "metadata": {
        "id": "9eqlHHXmCV6m"
      }
    },
    {
      "cell_type": "code",
      "source": [
        "data_account = df.copy() # creating copy of dataset in case I need original dataset\n",
        "data_account[\"type1\"] = np.nan # initializing feature column\n",
        "\n",
        "# filling feature column\n",
        "data_account.loc[df[\"nameOrig\"].str.contains('C') & df[\"nameDest\"].str.contains('C'),\"type1\"] = \"CC\" \n",
        "data_account.loc[df[\"nameOrig\"].str.contains('C') & df[\"nameDest\"].str.contains('M'),\"type1\"] = \"CM\"\n",
        "data_account.loc[df[\"nameOrig\"].str.contains('M') & df[\"nameDest\"].str.contains('C'),\"type1\"] = \"MC\"\n",
        "data_account.loc[df[\"nameOrig\"].str.contains('M') & df[\"nameDest\"].str.contains('M'),\"type1\"] = \"MM\""
      ],
      "metadata": {
        "id": "SmJ8jaSOCRjc"
      },
      "execution_count": null,
      "outputs": []
    },
    {
      "cell_type": "code",
      "source": [
        "# seeing the counts of transactions by type1 (CC,CM,MC,MM)\n",
        "type_account = data_account['type1'].value_counts()\n",
        "fraud_type_account = data_account[data_account[\"isFraud\"] == 1][\"type1\"].value_counts()\n",
        "non_fraud_type_account = data_account[data_account[\"isFraud\"] == 0][\"type1\"].value_counts()\n",
        "\n",
        "print(\"Account types count: \\n\", type_account)\n",
        "print(\"\\nFraud transactions by type1: \\n\", fraud_type_account)\n",
        "print(\"\\nValid transactions by type1: \\n\", non_fraud_type_account)"
      ],
      "metadata": {
        "colab": {
          "base_uri": "https://localhost:8080/"
        },
        "id": "SkQcZjqoCmad",
        "outputId": "f0261f77-da5e-4ad6-cdbb-6d2dc79619de"
      },
      "execution_count": null,
      "outputs": [
        {
          "output_type": "stream",
          "name": "stdout",
          "text": [
            "Account types count: \n",
            " CC    4211125\n",
            "CM    2151495\n",
            "Name: type1, dtype: int64\n",
            "\n",
            "Fraud transactions by type1: \n",
            " CC    8213\n",
            "Name: type1, dtype: int64\n",
            "\n",
            "Valid transactions by type1: \n",
            " CC    4202912\n",
            "CM    2151495\n",
            "Name: type1, dtype: int64\n"
          ]
        }
      ]
    },
    {
      "cell_type": "code",
      "source": [
        "fig, ax = plt.subplots(1, 3, figsize=(18,10))\n",
        "\n",
        "# add count values to autopct string\n",
        "fraud_autopct = lambda p: '{:.0f}\\n({:.1f}%)'.format(p * sum(fraud_type_account.values)/100, p)\n",
        "non_fraud_autopct = lambda p: '{:.0f}\\n({:.1f}%)'.format(p * sum(non_fraud_type_account.values)/100, p)\n",
        "type_account_autpct = lambda p:'{:.0f}\\n({:.1f}%)'.format(p * sum(type_account.values)/100, p)\n",
        "\n",
        "ax[0].pie(type_account.values, labels = type_account.index, autopct = type_account_autpct, colors = ['#DD7596', '#B7C3F3'])\n",
        "ax[0].set_title('Type account')\n",
        "\n",
        "ax[1].pie(fraud_type_account.values, labels=fraud_type_account.index, autopct=fraud_autopct)\n",
        "ax[1].set_title('Fraudulent transactions')\n",
        "\n",
        "ax[2].pie(non_fraud_type_account.values, labels=non_fraud_type_account.index, autopct=non_fraud_autopct)\n",
        "ax[2].set_title('Non-fraudulent transactions')\n",
        "\n",
        "plt.show()"
      ],
      "metadata": {
        "colab": {
          "base_uri": "https://localhost:8080/",
          "height": 342
        },
        "id": "TzHIl77XEtFB",
        "outputId": "c2a8a7a7-c3c1-4bdb-a5ef-6cf8b839ab39"
      },
      "execution_count": null,
      "outputs": [
        {
          "output_type": "display_data",
          "data": {
            "text/plain": [
              "<Figure size 1296x720 with 3 Axes>"
            ],
            "image/png": "[encoded data removed]"
          },
          "metadata": {}
        }
      ]
    },
    {
      "cell_type": "markdown",
      "source": [
        "Conclusion:\n",
        "From the dataset, it seems that fraud transactions only occur when the transaction type1 is CC (Customer to Customer). I will assume that fraudulent transaction only occur when transaction type1 is CC.\n",
        "\n",
        "However, since all relevant observations have type1 = \"CC\", the type1 column is no longer necessary."
      ],
      "metadata": {
        "id": "AiBmrZtWCq37"
      }
    },
    {
      "cell_type": "markdown",
      "source": [
        "## Transaction type"
      ],
      "metadata": {
        "id": "HI-dj2KwCNFc"
      }
    },
    {
      "cell_type": "code",
      "source": [
        "type_transaction = df['type'].value_counts()\n",
        "\n",
        "plt.figure(figsize=(8,8))\n",
        "plt.pie(type_transaction.values, labels=type_transaction.index, autopct='%1.0f%%')\n",
        "plt.title('Percentage type of Transaction')\n",
        "plt.legend(loc='upper left', title = 'Type of transaction')\n",
        "plt.show()"
      ],
      "metadata": {
        "colab": {
          "base_uri": "https://localhost:8080/",
          "height": 482
        },
        "id": "1RwXdvOzkISn",
        "outputId": "2454782a-3e38-4aae-a4a5-b8e591b699d1"
      },
      "execution_count": null,
      "outputs": [
        {
          "output_type": "display_data",
          "data": {
            "text/plain": [
              "<Figure size 576x576 with 1 Axes>"
            ],
            "image/png": "[encoded data removed]"
          },
          "metadata": {}
        }
      ]
    },
    {
      "cell_type": "code",
      "source": [
        "print('The types of fraudulent transactions are {}'.format(list(df.loc[df['isFraud'] == 1][\"type\"].drop_duplicates().values))) "
      ],
      "metadata": {
        "colab": {
          "base_uri": "https://localhost:8080/"
        },
        "id": "67UUuQkgxcU9",
        "outputId": "0b414ef1-b206-4c15-a46d-cc674cfa8038"
      },
      "execution_count": null,
      "outputs": [
        {
          "output_type": "stream",
          "name": "stdout",
          "text": [
            "The types of fraudulent transactions are ['TRANSFER', 'CASH_OUT']\n"
          ]
        }
      ]
    },
    {
      "cell_type": "code",
      "source": [
        "dfFraudTransfer = df.loc[(df['isFraud'] == 1) & (df['type'] == 'TRANSFER')]\n",
        "dfFraudCashout = df.loc[(df['isFraud'] == 1) & (df['type'] == 'CASH_OUT')]\n",
        "\n",
        "print ('The number of fraudulent TRANSFERs = {}'.format(len(dfFraudTransfer)))\n",
        "print ('The number of fraudulent CASH_OUTs = {}'.format(len(dfFraudCashout)))"
      ],
      "metadata": {
        "colab": {
          "base_uri": "https://localhost:8080/"
        },
        "id": "qlrLWQyeGCDf",
        "outputId": "5d2f31ac-fa82-4eac-e4fb-89e9c56cf23d"
      },
      "execution_count": null,
      "outputs": [
        {
          "output_type": "stream",
          "name": "stdout",
          "text": [
            "The number of fraudulent TRANSFERs = 4097\n",
            "The number of fraudulent CASH_OUTs = 4116\n"
          ]
        }
      ]
    },
    {
      "cell_type": "code",
      "source": [
        "ax = df.groupby(['type', 'isFraud']).size().plot(kind='bar')\n",
        "ax.set_title(\"The actual fraud & non-fraud per transaction type\")\n",
        "ax.set_xlabel(\"(Type, isFraud)\")\n",
        "ax.set_ylabel(\"Count of transaction\")\n",
        "for p in ax.patches:\n",
        "    ax.annotate(str(format(int(p.get_height()), ',d')), (p.get_x(), p.get_height()*1.01))"
      ],
      "metadata": {
        "colab": {
          "base_uri": "https://localhost:8080/",
          "height": 359
        },
        "id": "HTBwr_PU6iNQ",
        "outputId": "f224ad30-0ab8-4668-e400-79ccd4402045"
      },
      "execution_count": null,
      "outputs": [
        {
          "output_type": "display_data",
          "data": {
            "text/plain": [
              "<Figure size 432x288 with 1 Axes>"
            ],
            "image/png": "[encoded data removed]"
          },
          "metadata": {
            "needs_background": "light"
          }
        }
      ]
    },
    {
      "cell_type": "markdown",
      "source": [
        "It seem likes only TRANSFER and CASH_OUT transaction approximately have the same number of Fraud"
      ],
      "metadata": {
        "id": "DcZ94fglGCx_"
      }
    },
    {
      "cell_type": "markdown",
      "source": [
        "## Looking balances before and after the transaction"
      ],
      "metadata": {
        "id": "POc_bmiAZRRT"
      }
    },
    {
      "cell_type": "markdown",
      "source": [
        "2.4. Are there account labels common to fraudulent TRANSFERs and CASH_OUTs?\n",
        "\n",
        "From the data description, the modus operandi for committing fraud involves first making a TRANSFER to a (fraudulent) account which in turn conducts a CASH_OUT. CASH_OUT involves transacting with a merchant who pays out cash. Thus, within this two-step process, the fraudulent account would be both, the destination in a TRANSFER and the originator in a CASH_OUT. However, the data shows below that there are no such common accounts among fraudulent transactions. Thus, the data is not imprinted with the expected modus-operandi."
      ],
      "metadata": {
        "id": "wK053TfCeZb0"
      }
    },
    {
      "cell_type": "code",
      "source": [
        "dfFraudTransfer = df.loc[(df.isFraud == 1) & (df.type == 'TRANSFER')]\n",
        "dfFraudCashout = df.loc[(df.isFraud == 1) & (df.type == 'CASH_OUT')]\n",
        "\n",
        "print('Within fraudulent transactions, are there destinations for TRANSFERS that are also originators for CASH_OUTs? {}'\\\n",
        "      .format((dfFraudTransfer.nameDest.isin(dfFraudCashout.nameOrig)).any())) \n",
        "\n",
        "dfNotFraud = df.loc[df.isFraud == 0]"
      ],
      "metadata": {
        "colab": {
          "base_uri": "https://localhost:8080/"
        },
        "id": "THwwxRpKdAP-",
        "outputId": "598ffe84-1c88-48d6-96c6-93e626b9998a"
      },
      "execution_count": 9,
      "outputs": [
        {
          "output_type": "stream",
          "name": "stdout",
          "text": [
            "Within fraudulent transactions, are there destinations for TRANSFERS that are also originators for CASH_OUTs? False\n"
          ]
        }
      ]
    },
    {
      "cell_type": "code",
      "source": [
        "print('\\nFraudulent TRANSFERs whose destination accounts are originators of genuine CASH_OUTs: \\n\\n{}'\\\n",
        "      .format(dfFraudTransfer.loc[dfFraudTransfer.nameDest.\\\n",
        "                                  isin(dfNotFraud.loc[dfNotFraud.type == 'CASH_OUT'].nameOrig.drop_duplicates())]))"
      ],
      "metadata": {
        "colab": {
          "base_uri": "https://localhost:8080/"
        },
        "id": "Rb2NMHzXh2XK",
        "outputId": "ac09a020-a50b-4dc1-ac8d-1da343fa4e68"
      },
      "execution_count": 8,
      "outputs": [
        {
          "output_type": "stream",
          "name": "stdout",
          "text": [
            "\n",
            "Fraudulent TRANSFERs whose destination accounts are originators of genuine CASH_OUTs: \n",
            "\n",
            "         step      type      amount     nameOrig  oldbalanceOrg  \\\n",
            "1030443    65  TRANSFER  1282971.57  C1175896731     1282971.57   \n",
            "6039814   486  TRANSFER   214793.32  C2140495649      214793.32   \n",
            "6362556   738  TRANSFER   814689.88  C2029041842      814689.88   \n",
            "\n",
            "         newbalanceOrig     nameDest  oldbalanceDest  newbalanceDest  isFraud  \\\n",
            "1030443             0.0  C1714931087             0.0             0.0        1   \n",
            "6039814             0.0   C423543548             0.0             0.0        1   \n",
            "6362556             0.0  C1023330867             0.0             0.0        1   \n",
            "\n",
            "         isFlaggedFraud  \n",
            "1030443               0  \n",
            "6039814               0  \n",
            "6362556               0  \n"
          ]
        }
      ]
    },
    {
      "cell_type": "code",
      "source": [
        "print('\\nFraudulent TRANSFER to C423543548 occured at step = 486 whereas genuine CASH_OUT from this account occured earlier at step = {}'\\\n",
        "      .format(dfNotFraud.loc[(dfNotFraud.type == 'CASH_OUT') & (dfNotFraud.nameOrig == 'C423543548')].step.values)) # 185\n",
        "\n",
        "print('\\nFraudulent TRANSFER to C423543548 occured at step = 486 whereas genuine CASH_OUT from this account occured earlier at step = {}'\\\n",
        "      .format(dfNotFraud.loc[(dfNotFraud.type == 'CASH_OUT') & (dfNotFraud.nameOrig == 'C1714931087')].step.values)) # 185\n",
        "\n",
        "print('\\nFraudulent TRANSFER to C423543548 occured at step = 486 whereas genuine CASH_OUT from this account occured earlier at step = {}'\\\n",
        "      .format(dfNotFraud.loc[(dfNotFraud.type == 'CASH_OUT') & (dfNotFraud.nameOrig == 'C1023330867')].step.values)) # 185"
      ],
      "metadata": {
        "colab": {
          "base_uri": "https://localhost:8080/"
        },
        "id": "Snbj_e0ZiKyg",
        "outputId": "02595c01-d470-4a32-fe91-39c0466eb46d"
      },
      "execution_count": 10,
      "outputs": [
        {
          "output_type": "stream",
          "name": "stdout",
          "text": [
            "\n",
            "Fraudulent TRANSFER to C423543548 occured at step = 486 whereas genuine CASH_OUT from this account occured earlier at step = [185]\n",
            "\n",
            "Fraudulent TRANSFER to C423543548 occured at step = 486 whereas genuine CASH_OUT from this account occured earlier at step = [546]\n",
            "\n",
            "Fraudulent TRANSFER to C423543548 occured at step = 486 whereas genuine CASH_OUT from this account occured earlier at step = [132]\n"
          ]
        }
      ]
    },
    {
      "cell_type": "markdown",
      "source": [
        "However, 2 out of 3 of these accounts first make a genuine CASH_OUT and only later (as evidenced by the time step) receive a fraudulent TRANSFER. Thus, fraudulent transactions are not indicated by the nameOrig and nameDest features"
      ],
      "metadata": {
        "id": "rvAvQQIOiKOV"
      }
    },
    {
      "cell_type": "markdown",
      "source": [
        "Conclusion: Noting from section 2.3 above that the nameOrig and nameDest features neither encode merchant accounts in the expected way, below, we drop these features from the data since they are meaningless."
      ],
      "metadata": {
        "id": "JFxX2y3tiVjv"
      }
    },
    {
      "cell_type": "code",
      "source": [
        "wrong_orig_bal = sum(df[\"oldbalanceOrg\"] - df[\"amount\"] != df[\"newbalanceOrig\"])\n",
        "wrong_dest_bal = sum(df[\"newbalanceDest\"] + df[\"amount\"] != df[\"newbalanceDest\"])\n",
        "print(\"Number of observations with balance errors in the account giving money:\", wrong_orig_bal)\n",
        "print(\"Percentage of observations with balance errors in the account giving money:\", 100*round(wrong_orig_bal/len(df),2))\n",
        "print(\"Number of observations with balance errors in the account receiving money:\", wrong_dest_bal)\n",
        "print(\"Percentage of observations with balance errors in the account receiving money:\", 100*round(wrong_dest_bal/len(df),2))"
      ],
      "metadata": {
        "colab": {
          "base_uri": "https://localhost:8080/"
        },
        "id": "8OEpA-fZlnoM",
        "outputId": "57111340-c77b-483f-c8c7-f7c7bf10101b"
      },
      "execution_count": null,
      "outputs": [
        {
          "output_type": "stream",
          "name": "stdout",
          "text": [
            "Number of observations with balance errors in the account giving money: 5413997\n",
            "Percentage of observations with balance errors in the account giving money: 85.0\n",
            "Number of observations with balance errors in the account receiving money: 6362604\n",
            "Percentage of observations with balance errors in the account receiving money: 100.0\n"
          ]
        }
      ]
    },
    {
      "cell_type": "markdown",
      "source": [
        "Almost all of the observations have inaccurately portrayed what happens to the account receiving money and the account sending money.\n",
        "\n",
        "Some form of complete or partial imputation (filling/replacing missing or wrong values) must happen"
      ],
      "metadata": {
        "id": "tU7uMaPHmTCr"
      }
    },
    {
      "cell_type": "code",
      "source": [
        "# adding features errorBalanceOrg, errorBalanceDest\n",
        "data_new = df.copy()\n",
        "data_new[\"errorBalanceOrg\"] = data_new.newbalanceOrig + data_new.amount - data_new.oldbalanceOrg\n",
        "data_new[\"errorBalanceDest\"] = data_new.oldbalanceDest + data_new.amount - data_new.newbalanceDest\n",
        "\n",
        "# Subsetting data into observations with fraud and valid transactions:\n",
        "fraud = data_new[data_new[\"isFraud\"] == 1]\n",
        "valid = data_new[data_new[\"isFraud\"] == 0]"
      ],
      "metadata": {
        "id": "Fb8JZ44hmT2Q"
      },
      "execution_count": null,
      "outputs": []
    },
    {
      "cell_type": "code",
      "source": [
        "print(\"Summary statistics of errorBalanceOrg for fraudulent transactions: \\n\",fraud[\"errorBalanceOrg\"].describe())\n",
        "print(\"\\n Summary statistics of errorBalanceOrg for valid transactions: \\n\",valid[\"errorBalanceOrg\"].describe())"
      ],
      "metadata": {
        "colab": {
          "base_uri": "https://localhost:8080/"
        },
        "id": "wWslXyLRogF1",
        "outputId": "3b28ffdc-3e20-4b73-916d-fbdd65cd33c7"
      },
      "execution_count": null,
      "outputs": [
        {
          "output_type": "stream",
          "name": "stdout",
          "text": [
            "Summary statistics of errorBalanceOrg for fraudulent transactions: \n",
            " count    8.213000e+03\n",
            "mean     1.069233e+04\n",
            "std      2.651461e+05\n",
            "min     -7.450581e-09\n",
            "25%      0.000000e+00\n",
            "50%      0.000000e+00\n",
            "75%      0.000000e+00\n",
            "max      1.000000e+07\n",
            "Name: errorBalanceOrg, dtype: float64\n",
            "\n",
            " Summary statistics of errorBalanceOrg for valid transactions: \n",
            " count    6.354407e+06\n",
            "mean     2.013386e+05\n",
            "std      6.069289e+05\n",
            "min     -1.000000e-02\n",
            "25%      3.034305e+03\n",
            "50%      6.904931e+04\n",
            "75%      2.499534e+05\n",
            "max      9.244552e+07\n",
            "Name: errorBalanceOrg, dtype: float64\n"
          ]
        }
      ]
    },
    {
      "cell_type": "markdown",
      "source": [
        "From the summary statistics on the errorBalanceOrg, it seems that a large proportion of the data have an error of 0 or close to zero. This is indicated by the fact that the most negative error is -7.450581e-09 or  −7.450581x10−9\n",
        "  which is very small and close to 0, and the 3rd quartile is 0 (that is, about 75% of the data is between -7.450581e-09 and 0). However, there are some large errors, the largest error being 10,000,000.\n",
        "\n",
        "On the other hand, for valid transactions, a large proportion of the data have large errors. For instance, about 75% of the data haver errors exceeding 52,613.43 (the first quartile). The largest error is 92,445,520."
      ],
      "metadata": {
        "id": "tBTUWQzQoj97"
      }
    },
    {
      "cell_type": "code",
      "source": [
        "print(\"Summary statistics of errorBalanceDest for fraudulent transactions: \\n\",fraud[\"errorBalanceDest\"].describe())\n",
        "print(\"\\n Summary statistics of errorBalanceDest for valid transactions: \\n\",valid[\"errorBalanceDest\"].describe())"
      ],
      "metadata": {
        "colab": {
          "base_uri": "https://localhost:8080/"
        },
        "id": "1VhiOpGcokqr",
        "outputId": "1469e234-57cd-4298-8876-90d97d835b89"
      },
      "execution_count": null,
      "outputs": [
        {
          "output_type": "stream",
          "name": "stdout",
          "text": [
            "Summary statistics of errorBalanceDest for fraudulent transactions: \n",
            " count    8.213000e+03\n",
            "mean     7.325093e+05\n",
            "std      1.867748e+06\n",
            "min     -8.875516e+06\n",
            "25%      0.000000e+00\n",
            "50%      2.231460e+03\n",
            "75%      4.427220e+05\n",
            "max      1.000000e+07\n",
            "Name: errorBalanceDest, dtype: float64\n",
            "\n",
            " Summary statistics of errorBalanceDest for valid transactions: \n",
            " count    6.354407e+06\n",
            "mean     5.469223e+04\n",
            "std      4.360026e+05\n",
            "min     -7.588573e+07\n",
            "25%      0.000000e+00\n",
            "50%      3.500680e+03\n",
            "75%      2.925981e+04\n",
            "max      1.319123e+07\n",
            "Name: errorBalanceDest, dtype: float64\n"
          ]
        }
      ]
    },
    {
      "cell_type": "markdown",
      "source": [
        "From the summary statistics of the errorBalanceDest variable, the errors are huge in both directions (both fraudulent and valid transactions have large positive and negative errors in the accounts where money has been moved to.)\n",
        "\n",
        "Let's see what the differences look like when I plot errorBalanceOrg and errorBalanceDest together."
      ],
      "metadata": {
        "id": "gtcrhSKgomWG"
      }
    },
    {
      "cell_type": "code",
      "source": [
        "print(\"Proportion of fraudulent transactions with errorBalanceDest > 0: \", len(fraud[fraud.errorBalanceDest > 0])/len(fraud))\n",
        "print(\"Proportion of valid transactions with errorBalanceDest > 0: \", len(valid[valid.errorBalanceDest > 0])/len(valid))\n",
        "print(\"Proportion of fraudulent transactions with errorBalanceOrg > 0: \", len(fraud[fraud.errorBalanceOrg > 0])/len(fraud))\n",
        "print(\"Proportion of valid transactions with errorBalanceOrg > 0: \", len(valid[valid.errorBalanceOrg > 0])/len(valid))"
      ],
      "metadata": {
        "colab": {
          "base_uri": "https://localhost:8080/"
        },
        "id": "1puwgrXAopiT",
        "outputId": "36143233-a8cd-47af-f44f-40498139d1e0"
      },
      "execution_count": null,
      "outputs": [
        {
          "output_type": "stream",
          "name": "stdout",
          "text": [
            "Proportion of fraudulent transactions with errorBalanceDest > 0:  0.5712894192134421\n",
            "Proportion of valid transactions with errorBalanceDest > 0:  0.6413928160408988\n",
            "Proportion of fraudulent transactions with errorBalanceOrg > 0:  0.006331425788384269\n",
            "Proportion of valid transactions with errorBalanceOrg > 0:  0.8036598851789003\n"
          ]
        }
      ]
    },
    {
      "cell_type": "markdown",
      "source": [
        "Conclusion:\n",
        "The spread of errors in both the balanceOrg and balanceDest variables are large, however valid transactions are much more likely to have an errorBalanceOrg > 0.\n",
        "\n",
        "Similarly, fraudulent transactions are much more likely to have errorBalanceDest > 0 than valid transactions.\n",
        "\n",
        "In addition, only valid transactions have errorBalanceDest > 10,000,000\n",
        "\n",
        "These distinctions and probably more, make errorBalanceDest and errorBalanceOrg potentially effective features."
      ],
      "metadata": {
        "id": "hDl8S0JCor_k"
      }
    },
    {
      "cell_type": "markdown",
      "source": [
        "Conclusion:\n",
        "\n",
        "Thus in this dataset, for fraudulent transactions, the account that received funds during a TRANSFER was not used at all for CASH OUT.\n",
        "\n",
        "If that is the case, there seems to be no use for nameOrig or nameDest since there seems to be no restrictions on which accounts CASH OUT from fraudulent transactions.\n",
        "\n",
        "Thus, I am omitting the nameOrig and nameDest columns from analysis."
      ],
      "metadata": {
        "id": "DVHoOFX2xiq4"
      }
    },
    {
      "cell_type": "markdown",
      "source": [
        "## Time step (Hour) and Amount transactions"
      ],
      "metadata": {
        "id": "8rrnJUK_ZbhQ"
      }
    },
    {
      "cell_type": "code",
      "source": [
        "df_Fraud = df.loc[df[\"isFraud\"] == 1]\n",
        "df_Valid = df.loc[df[\"isFraud\"] == 0]"
      ],
      "metadata": {
        "id": "D9QPSOs6Zdd-"
      },
      "execution_count": null,
      "outputs": []
    },
    {
      "cell_type": "code",
      "source": [
        "bins = round(744 / 10) #I take total step per 10, its equivalent each 10 hours per column\n",
        "\n",
        "fig, axs = plt.subplots(1, 2, figsize=(10, 5))\n",
        "\n",
        "# plot histogram for valid transactions\n",
        "df_Valid.hist(column=\"step\", color=\"green\", bins=bins, ax=axs[0])\n",
        "axs[0].set_xlabel(\"1 hour time step\")\n",
        "axs[0].set_ylabel(\"Number of transactions\")\n",
        "axs[0].set_title(\"Number of valid transactions over time\")\n",
        "\n",
        "# plot histogram for fraud transactions\n",
        "df_Fraud.hist(column=\"step\", color=\"red\", bins=bins, ax=axs[1])\n",
        "axs[1].set_xlabel(\"1 hour time step\")\n",
        "axs[1].set_ylabel(\"Number of transactions\")\n",
        "axs[1].set_title(\"Number of fraud transactions over time\")\n",
        "\n",
        "plt.show()"
      ],
      "metadata": {
        "colab": {
          "base_uri": "https://localhost:8080/",
          "height": 350
        },
        "id": "BK-bBMzTyX13",
        "outputId": "f65fe940-eb3f-4ad3-c469-d467fbe798f0"
      },
      "execution_count": null,
      "outputs": [
        {
          "output_type": "display_data",
          "data": {
            "text/plain": [
              "<Figure size 720x360 with 2 Axes>"
            ],
            "image/png": "[encoded data removed]"
          },
          "metadata": {
            "needs_background": "light"
          }
        }
      ]
    },
    {
      "cell_type": "markdown",
      "source": [
        "There are stark difference between the step data between valid and fraud transactions.\n",
        "\n",
        "A large proportion of valid transactions occur between around the 0th and 60th timestep as well as the 110th and 410th hours.\n",
        "The frequency at which fraudulent transactions occur does not seem to change much over time."
      ],
      "metadata": {
        "id": "sOHLR6KLyvmI"
      }
    },
    {
      "cell_type": "code",
      "source": [
        "# plotting overlayed step vs amount scatter plots\n",
        "fig,ax = plt.subplots()\n",
        "df_Fraud.plot.scatter(x=\"step\",y=\"amount\",color=\"red\",ax=ax,label=\"Valid Transactions\")\n",
        "df_Valid.plot.scatter(x=\"step\",y=\"amount\",color=\"green\",ax=ax, label=\"Fraudulent Transactions\")\n",
        "\n",
        "plt.title(\"1 hour timestep vs amount\")\n",
        "plt.xlabel(\"1 hour time-step\")\n",
        "plt.ylabel(\"amount moved in transaction\")\n",
        "plt.legend(loc=\"upper right\")\n",
        "\n",
        "# plotting a horizontal line to show where valid transactions behave very differently from fraud transactions\n",
        "plt.axhline(y=1e7)\n",
        "plt.show()\n",
        "\n",
        "print(\"Proportion of transactions where the amount moved is greater than 10 million: \", \\\n",
        "      len(df[df.amount > 1e7])/len(df))"
      ],
      "metadata": {
        "id": "mtAGD9A01rtY",
        "colab": {
          "base_uri": "https://localhost:8080/",
          "height": 312
        },
        "outputId": "6d8e2508-bbf9-48e4-8617-1225adffb112"
      },
      "execution_count": null,
      "outputs": [
        {
          "output_type": "display_data",
          "data": {
            "text/plain": [
              "<Figure size 432x288 with 1 Axes>"
            ],
            "image/png": "[encoded data removed]"
          },
          "metadata": {
            "needs_background": "light"
          }
        },
        {
          "output_type": "stream",
          "name": "stdout",
          "text": [
            "Proportion of transactions where the amount moved is greater than 10 million:  0.00038396132410862193\n"
          ]
        }
      ]
    },
    {
      "cell_type": "markdown",
      "source": [
        "Only valid transaction involved amounts larger than 10,000,000, however these transactions make up less than 0.01% of the relevant data.\n",
        "\n",
        "When the amounts moved is less than 10,000,000 there doesn't seem to be a large difference fraudulent and valid transactions."
      ],
      "metadata": {
        "id": "UlXZyH2n2MSc"
      }
    },
    {
      "cell_type": "markdown",
      "source": [
        "# Preprocess"
      ],
      "metadata": {
        "id": "K728MZcz_9T0"
      }
    },
    {
      "cell_type": "code",
      "source": [
        "from sklearn.model_selection import train_test_split\n",
        "from sklearn.preprocessing import StandardScaler\n",
        "from imblearn.under_sampling import RandomUnderSampler\n",
        "\n",
        "from sklearn.linear_model import LogisticRegression\n",
        "from sklearn.naive_bayes import BernoulliNB, GaussianNB\n",
        "from sklearn.svm import LinearSVC\n",
        "from sklearn.neighbors import KNeighborsClassifier\n",
        "from xgboost.sklearn import XGBClassifier\n",
        "from xgboost import plot_importance, to_graphviz\n",
        "\n",
        "from sklearn import metrics"
      ],
      "metadata": {
        "id": "72Mi23cdDXP1"
      },
      "execution_count": 131,
      "outputs": []
    },
    {
      "cell_type": "code",
      "source": [
        "df1 = df.copy()\n",
        "df1 = df1.drop([\"isFlaggedFraud\",'nameOrig','nameDest'], axis = 1)\n",
        "df1 = df1.loc[(df['type'].isin(['TRANSFER', 'CASH_OUT'])),:]"
      ],
      "metadata": {
        "id": "Ot2Bt2O9EUkB"
      },
      "execution_count": 66,
      "outputs": []
    },
    {
      "cell_type": "code",
      "source": [
        "df1 = pd.get_dummies(df1,prefix=['type'])"
      ],
      "metadata": {
        "id": "DVO-XfukEEWp"
      },
      "execution_count": 67,
      "outputs": []
    },
    {
      "cell_type": "code",
      "source": [
        "print(df1.shape)\n",
        "df1.head()"
      ],
      "metadata": {
        "colab": {
          "base_uri": "https://localhost:8080/",
          "height": 223
        },
        "id": "x48upZMoEJ6Q",
        "outputId": "6e066e62-b3a5-466b-88fe-5dcbcbb9c902"
      },
      "execution_count": 65,
      "outputs": [
        {
          "output_type": "stream",
          "name": "stdout",
          "text": [
            "(2786835, 9)\n"
          ]
        },
        {
          "output_type": "execute_result",
          "data": {
            "text/plain": [
              "    step     amount  oldbalanceOrg  newbalanceOrig  oldbalanceDest  \\\n",
              "2      1     181.00          181.0             0.0             0.0   \n",
              "3      1     181.00          181.0             0.0         21182.0   \n",
              "15     1  229133.94        15325.0             0.0          5083.0   \n",
              "19     1  215310.30          705.0             0.0         22425.0   \n",
              "24     1  311685.89        10835.0             0.0          6267.0   \n",
              "\n",
              "    newbalanceDest  isFraud  type_CASH_OUT  type_TRANSFER  \n",
              "2             0.00        1              0              1  \n",
              "3             0.00        1              1              0  \n",
              "15        51513.44        0              1              0  \n",
              "19            0.00        0              0              1  \n",
              "24      2719172.89        0              0              1  "
            ],
            "text/html": [
              "\n",
              "  <div id=\"df-0c2552b6-22d3-4806-b893-1a5333eb47ad\">\n",
              "    <div class=\"colab-df-container\">\n",
              "      <div>\n",
              "<style scoped>\n",
              "    .dataframe tbody tr th:only-of-type {\n",
              "        vertical-align: middle;\n",
              "    }\n",
              "\n",
              "    .dataframe tbody tr th {\n",
              "        vertical-align: top;\n",
              "    }\n",
              "\n",
              "    .dataframe thead th {\n",
              "        text-align: right;\n",
              "    }\n",
              "</style>\n",
              "<table border=\"1\" class=\"dataframe\">\n",
              "  <thead>\n",
              "    <tr style=\"text-align: right;\">\n",
              "      <th></th>\n",
              "      <th>step</th>\n",
              "      <th>amount</th>\n",
              "      <th>oldbalanceOrg</th>\n",
              "      <th>newbalanceOrig</th>\n",
              "      <th>oldbalanceDest</th>\n",
              "      <th>newbalanceDest</th>\n",
              "      <th>isFraud</th>\n",
              "      <th>type_CASH_OUT</th>\n",
              "      <th>type_TRANSFER</th>\n",
              "    </tr>\n",
              "  </thead>\n",
              "  <tbody>\n",
              "    <tr>\n",
              "      <th>2</th>\n",
              "      <td>1</td>\n",
              "      <td>181.00</td>\n",
              "      <td>181.0</td>\n",
              "      <td>0.0</td>\n",
              "      <td>0.0</td>\n",
              "      <td>0.00</td>\n",
              "      <td>1</td>\n",
              "      <td>0</td>\n",
              "      <td>1</td>\n",
              "    </tr>\n",
              "    <tr>\n",
              "      <th>3</th>\n",
              "      <td>1</td>\n",
              "      <td>181.00</td>\n",
              "      <td>181.0</td>\n",
              "      <td>0.0</td>\n",
              "      <td>21182.0</td>\n",
              "      <td>0.00</td>\n",
              "      <td>1</td>\n",
              "      <td>1</td>\n",
              "      <td>0</td>\n",
              "    </tr>\n",
              "    <tr>\n",
              "      <th>15</th>\n",
              "      <td>1</td>\n",
              "      <td>229133.94</td>\n",
              "      <td>15325.0</td>\n",
              "      <td>0.0</td>\n",
              "      <td>5083.0</td>\n",
              "      <td>51513.44</td>\n",
              "      <td>0</td>\n",
              "      <td>1</td>\n",
              "      <td>0</td>\n",
              "    </tr>\n",
              "    <tr>\n",
              "      <th>19</th>\n",
              "      <td>1</td>\n",
              "      <td>215310.30</td>\n",
              "      <td>705.0</td>\n",
              "      <td>0.0</td>\n",
              "      <td>22425.0</td>\n",
              "      <td>0.00</td>\n",
              "      <td>0</td>\n",
              "      <td>0</td>\n",
              "      <td>1</td>\n",
              "    </tr>\n",
              "    <tr>\n",
              "      <th>24</th>\n",
              "      <td>1</td>\n",
              "      <td>311685.89</td>\n",
              "      <td>10835.0</td>\n",
              "      <td>0.0</td>\n",
              "      <td>6267.0</td>\n",
              "      <td>2719172.89</td>\n",
              "      <td>0</td>\n",
              "      <td>0</td>\n",
              "      <td>1</td>\n",
              "    </tr>\n",
              "  </tbody>\n",
              "</table>\n",
              "</div>\n",
              "      <button class=\"colab-df-convert\" onclick=\"convertToInteractive('df-0c2552b6-22d3-4806-b893-1a5333eb47ad')\"\n",
              "              title=\"Convert this dataframe to an interactive table.\"\n",
              "              style=\"display:none;\">\n",
              "        \n",
              "  <svg xmlns=\"http://www.w3.org/2000/svg\" height=\"24px\"viewBox=\"0 0 24 24\"\n",
              "       width=\"24px\">\n",
              "    <path d=\"M0 0h24v24H0V0z\" fill=\"none\"/>\n",
              "    <path d=\"M18.56 5.44l.94 2.06.94-2.06 2.06-.94-2.06-.94-.94-2.06-.94 2.06-2.06.94zm-11 1L8.5 8.5l.94-2.06 2.06-.94-2.06-.94L8.5 2.5l-.94 2.06-2.06.94zm10 10l.94 2.06.94-2.06 2.06-.94-2.06-.94-.94-2.06-.94 2.06-2.06.94z\"/><path d=\"M17.41 7.96l-1.37-1.37c-.4-.4-.92-.59-1.43-.59-.52 0-1.04.2-1.43.59L10.3 9.45l-7.72 7.72c-.78.78-.78 2.05 0 2.83L4 21.41c.39.39.9.59 1.41.59.51 0 1.02-.2 1.41-.59l7.78-7.78 2.81-2.81c.8-.78.8-2.07 0-2.86zM5.41 20L4 18.59l7.72-7.72 1.47 1.35L5.41 20z\"/>\n",
              "  </svg>\n",
              "      </button>\n",
              "      \n",
              "  <style>\n",
              "    .colab-df-container {\n",
              "      display:flex;\n",
              "      flex-wrap:wrap;\n",
              "      gap: 12px;\n",
              "    }\n",
              "\n",
              "    .colab-df-convert {\n",
              "      background-color: #E8F0FE;\n",
              "      border: none;\n",
              "      border-radius: 50%;\n",
              "      cursor: pointer;\n",
              "      display: none;\n",
              "      fill: #1967D2;\n",
              "      height: 32px;\n",
              "      padding: 0 0 0 0;\n",
              "      width: 32px;\n",
              "    }\n",
              "\n",
              "    .colab-df-convert:hover {\n",
              "      background-color: #E2EBFA;\n",
              "      box-shadow: 0px 1px 2px rgba(60, 64, 67, 0.3), 0px 1px 3px 1px rgba(60, 64, 67, 0.15);\n",
              "      fill: #174EA6;\n",
              "    }\n",
              "\n",
              "    [theme=dark] .colab-df-convert {\n",
              "      background-color: #3B4455;\n",
              "      fill: #D2E3FC;\n",
              "    }\n",
              "\n",
              "    [theme=dark] .colab-df-convert:hover {\n",
              "      background-color: #434B5C;\n",
              "      box-shadow: 0px 1px 3px 1px rgba(0, 0, 0, 0.15);\n",
              "      filter: drop-shadow(0px 1px 2px rgba(0, 0, 0, 0.3));\n",
              "      fill: #FFFFFF;\n",
              "    }\n",
              "  </style>\n",
              "\n",
              "      <script>\n",
              "        const buttonEl =\n",
              "          document.querySelector('#df-0c2552b6-22d3-4806-b893-1a5333eb47ad button.colab-df-convert');\n",
              "        buttonEl.style.display =\n",
              "          google.colab.kernel.accessAllowed ? 'block' : 'none';\n",
              "\n",
              "        async function convertToInteractive(key) {\n",
              "          const element = document.querySelector('#df-0c2552b6-22d3-4806-b893-1a5333eb47ad');\n",
              "          const dataTable =\n",
              "            await google.colab.kernel.invokeFunction('convertToInteractive',\n",
              "                                                     [key], {});\n",
              "          if (!dataTable) return;\n",
              "\n",
              "          const docLinkHtml = 'Like what you see? Visit the ' +\n",
              "            '<a target=\"_blank\" href=https://colab.research.google.com/notebooks/data_table.ipynb>data table notebook</a>'\n",
              "            + ' to learn more about interactive tables.';\n",
              "          element.innerHTML = '';\n",
              "          dataTable['output_type'] = 'display_data';\n",
              "          await google.colab.output.renderOutput(dataTable, element);\n",
              "          const docLink = document.createElement('div');\n",
              "          docLink.innerHTML = docLinkHtml;\n",
              "          element.appendChild(docLink);\n",
              "        }\n",
              "      </script>\n",
              "    </div>\n",
              "  </div>\n",
              "  "
            ]
          },
          "metadata": {},
          "execution_count": 65
        }
      ]
    },
    {
      "cell_type": "code",
      "source": [
        "df1[\"isFraud\"].value_counts()"
      ],
      "metadata": {
        "colab": {
          "base_uri": "https://localhost:8080/"
        },
        "id": "glyiIAT-YgqR",
        "outputId": "c4d37d27-a708-4e53-9f13-4270db335093"
      },
      "execution_count": 130,
      "outputs": [
        {
          "output_type": "execute_result",
          "data": {
            "text/plain": [
              "0    2762196\n",
              "1       8213\n",
              "Name: isFraud, dtype: int64"
            ]
          },
          "metadata": {},
          "execution_count": 130
        }
      ]
    },
    {
      "cell_type": "code",
      "source": [
        "X = df1.drop(\"isFraud\",1)\n",
        "Y = df1[\"isFraud\"]"
      ],
      "metadata": {
        "id": "e59YYq8eCvGd"
      },
      "execution_count": null,
      "outputs": []
    },
    {
      "cell_type": "markdown",
      "source": [
        "## Under Sampling"
      ],
      "metadata": {
        "id": "3ZMeX-mfXsE3"
      }
    },
    {
      "cell_type": "markdown",
      "source": [
        "Selection of ML algorithm: A first approach to deal with imbalanced data is to balance it by discarding the majority class before applying an ML algorithm. The disadvantage of undersampling is that a model trained in this way will not perform well on real-world skewed test data since almost all the information was discarded. A better approach might be to oversample the minority class, say by the synthetic minority oversampling technique (SMOTE) contained in the 'imblearn' library. Motivated by this, I tried a variety of anomaly-detection and supervised learning approaches. I find, however, that the best result is obtained on the original dataset by using a ML algorithm based on ensembles of decision trees that intrinsically performs well on imbalanced data. Such algorithms not only allow for constructing a model that can cope with the missing values in our data, but they naturally allow for speedup via parallel-processing. Among these algorithms, the extreme gradient-boosted (XGBoost) algorithm used below slightly outperforms random-forest. Finally, XGBoost, like several other ML algorithms, allows for weighting the positive class more compared to the negative class --- a setting that also allows to account for the skew in the data."
      ],
      "metadata": {
        "id": "-JnLlX816ebZ"
      }
    },
    {
      "cell_type": "code",
      "source": [
        "rus = RandomUnderSampler(sampling_strategy=1, random_state=42) # I set strategy = 1 to pick same sample X and Y"
      ],
      "metadata": {
        "id": "gFwDXY7bPZeS"
      },
      "execution_count": 76,
      "outputs": []
    },
    {
      "cell_type": "code",
      "source": [
        "X, Y = rus.fit_resample(X, Y)"
      ],
      "metadata": {
        "id": "38NCE6eDPbjp"
      },
      "execution_count": 79,
      "outputs": []
    },
    {
      "cell_type": "code",
      "source": [
        "Y.value_counts()"
      ],
      "metadata": {
        "colab": {
          "base_uri": "https://localhost:8080/"
        },
        "id": "ieRyS4t-Pg-t",
        "outputId": "1ead64fa-2f92-4bd1-e827-18ddf57fe821"
      },
      "execution_count": 80,
      "outputs": [
        {
          "output_type": "execute_result",
          "data": {
            "text/plain": [
              "0    8213\n",
              "1    8213\n",
              "Name: isFraud, dtype: int64"
            ]
          },
          "metadata": {},
          "execution_count": 80
        }
      ]
    },
    {
      "cell_type": "markdown",
      "source": [
        "## Split data "
      ],
      "metadata": {
        "id": "8wpGlgOPXvAW"
      }
    },
    {
      "cell_type": "code",
      "source": [
        "X_train, X_test, Y_train, Y_test = train_test_split(X, Y, test_size = 0.2, random_state = 42)\n",
        "X_train.shape, X_test.shape, Y_train.shape, Y_test.shape"
      ],
      "metadata": {
        "colab": {
          "base_uri": "https://localhost:8080/"
        },
        "id": "f1YZ1OHnC-xG",
        "outputId": "0cabb8d2-e395-474d-c4e8-5fbf0f9babd6"
      },
      "execution_count": 82,
      "outputs": [
        {
          "output_type": "execute_result",
          "data": {
            "text/plain": [
              "((13140, 8), (3286, 8), (13140,), (3286,))"
            ]
          },
          "metadata": {},
          "execution_count": 82
        }
      ]
    },
    {
      "cell_type": "markdown",
      "source": [
        "## Standardization"
      ],
      "metadata": {
        "id": "vk-2UVyAXxjL"
      }
    },
    {
      "cell_type": "code",
      "source": [
        "scaler = StandardScaler()\n",
        "scaler.fit(X_train)\n",
        "                            \n",
        "X_train = scaler.transform(X_train)\n",
        "X_test = scaler.transform(X_test)"
      ],
      "metadata": {
        "id": "xWzuik4wDVGd"
      },
      "execution_count": 83,
      "outputs": []
    },
    {
      "cell_type": "markdown",
      "source": [
        "# Machine Learning "
      ],
      "metadata": {
        "id": "WUX6tbYLXjlp"
      }
    },
    {
      "cell_type": "markdown",
      "source": [
        "## Logistic Regression"
      ],
      "metadata": {
        "id": "OfIQugi_QL3A"
      }
    },
    {
      "cell_type": "code",
      "source": [
        "LGR = LogisticRegression().fit(X_train,Y_train)\n",
        "\n",
        "Y_pred_LGR = LGR.predict(X_test)"
      ],
      "metadata": {
        "id": "RUa50CycFnMF"
      },
      "execution_count": 138,
      "outputs": []
    },
    {
      "cell_type": "code",
      "source": [
        "report = metrics.classification_report(Y_test, Y_pred_LGR)\n",
        "print(report)\n",
        "cm = metrics.confusion_matrix(Y_test,Y_pred_LGR)\n",
        "\n",
        "cm_display = metrics.ConfusionMatrixDisplay(confusion_matrix = cm, display_labels = ['Fraud','Non-Fraud'])\n",
        "cm_display.plot()\n",
        "plt.show()"
      ],
      "metadata": {
        "colab": {
          "base_uri": "https://localhost:8080/",
          "height": 435
        },
        "id": "nsr3g8JRF5Lt",
        "outputId": "a1e3aab9-759b-4c5f-fe25-31aff694f284"
      },
      "execution_count": 139,
      "outputs": [
        {
          "output_type": "stream",
          "name": "stdout",
          "text": [
            "              precision    recall  f1-score   support\n",
            "\n",
            "           0       0.88      0.94      0.91      1649\n",
            "           1       0.94      0.87      0.90      1637\n",
            "\n",
            "    accuracy                           0.91      3286\n",
            "   macro avg       0.91      0.91      0.91      3286\n",
            "weighted avg       0.91      0.91      0.91      3286\n",
            "\n"
          ]
        },
        {
          "output_type": "display_data",
          "data": {
            "text/plain": [
              "<Figure size 432x288 with 2 Axes>"
            ],
            "image/png": "[encoded data removed]"
          },
          "metadata": {
            "needs_background": "light"
          }
        }
      ]
    },
    {
      "cell_type": "code",
      "source": [
        "fpr, tpr, thresholds = metrics.roc_curve(Y_test.values.ravel(),Y_pred_LGR)\n",
        "roc_auc = metrics.auc(fpr,tpr)\n",
        "\n",
        "# Plot ROC\n",
        "plt.title('Receiver Operating Characteristic')\n",
        "plt.plot(fpr, tpr, 'b',label='AUC = %0.2f'% roc_auc)\n",
        "plt.legend(loc='lower right')\n",
        "plt.plot([0,1],[0,1],'r--')\n",
        "plt.xlim([-0.1,1.0])\n",
        "plt.ylim([-0.1,1.01])\n",
        "plt.ylabel('True Positive Rate')\n",
        "plt.xlabel('False Positive Rate')\n",
        "plt.show()"
      ],
      "metadata": {
        "colab": {
          "base_uri": "https://localhost:8080/",
          "height": 295
        },
        "id": "FfvOKUGxIY3p",
        "outputId": "91b274c5-b667-4e18-a0f7-aa9e73f2dac3"
      },
      "execution_count": 140,
      "outputs": [
        {
          "output_type": "display_data",
          "data": {
            "text/plain": [
              "<Figure size 432x288 with 1 Axes>"
            ],
            "image/png": "[encoded data removed]"
          },
          "metadata": {
            "needs_background": "light"
          }
        }
      ]
    },
    {
      "cell_type": "markdown",
      "source": [
        "## Bernouli Naive Bayes"
      ],
      "metadata": {
        "id": "UgcSNWrnQPOC"
      }
    },
    {
      "cell_type": "code",
      "source": [
        "BNBayes = BernoulliNB().fit(X_train, Y_train)\n",
        "\n",
        "Y_pred_BNB = BNBayes.predict(X_test)"
      ],
      "metadata": {
        "id": "a0JfzcofQTD_"
      },
      "execution_count": 136,
      "outputs": []
    },
    {
      "cell_type": "code",
      "source": [
        "report = metrics.classification_report(Y_test, Y_pred_BNB)\n",
        "print(report)\n",
        "cm = metrics.confusion_matrix(Y_test,Y_pred_BNB)\n",
        "\n",
        "cm_display = metrics.ConfusionMatrixDisplay(confusion_matrix = cm, display_labels = ['Fraud','Non-Fraud'])\n",
        "cm_display.plot()\n",
        "plt.show()"
      ],
      "metadata": {
        "colab": {
          "base_uri": "https://localhost:8080/",
          "height": 435
        },
        "id": "rPNs7QPdQmHQ",
        "outputId": "28560606-1a44-495d-a8a1-3344b9ed4972"
      },
      "execution_count": 137,
      "outputs": [
        {
          "output_type": "stream",
          "name": "stdout",
          "text": [
            "              precision    recall  f1-score   support\n",
            "\n",
            "           0       0.73      0.84      0.78      1649\n",
            "           1       0.81      0.68      0.74      1637\n",
            "\n",
            "    accuracy                           0.76      3286\n",
            "   macro avg       0.77      0.76      0.76      3286\n",
            "weighted avg       0.77      0.76      0.76      3286\n",
            "\n"
          ]
        },
        {
          "output_type": "display_data",
          "data": {
            "text/plain": [
              "<Figure size 432x288 with 2 Axes>"
            ],
            "image/png": "[encoded data removed]"
          },
          "metadata": {
            "needs_background": "light"
          }
        }
      ]
    },
    {
      "cell_type": "markdown",
      "source": [
        "## Suport Vector Machine\n"
      ],
      "metadata": {
        "id": "8d3n5YsZUTRY"
      }
    },
    {
      "cell_type": "code",
      "source": [
        "SVM = LinearSVC().fit(X_train, Y_train)\n",
        "\n",
        "Y_pred_SVM = SVM.predict(X_test)"
      ],
      "metadata": {
        "id": "MigqW642UVlZ"
      },
      "execution_count": null,
      "outputs": []
    },
    {
      "cell_type": "code",
      "source": [
        "report = metrics.classification_report(Y_test, Y_pred_SVM)\n",
        "print(report)\n",
        "cm = metrics.confusion_matrix(Y_test,Y_pred_SVM)\n",
        "\n",
        "cm_display = metrics.ConfusionMatrixDisplay(confusion_matrix = cm, display_labels = ['Fraud','Non-Fraud'])\n",
        "cm_display.plot()\n",
        "plt.show()"
      ],
      "metadata": {
        "colab": {
          "base_uri": "https://localhost:8080/",
          "height": 435
        },
        "id": "RmR8dw8cUfNw",
        "outputId": "4eb5fb60-00a9-4f74-a9f3-c82d8bbfd9dd"
      },
      "execution_count": 135,
      "outputs": [
        {
          "output_type": "stream",
          "name": "stdout",
          "text": [
            "              precision    recall  f1-score   support\n",
            "\n",
            "           0       0.89      0.94      0.91      1649\n",
            "           1       0.94      0.88      0.91      1637\n",
            "\n",
            "    accuracy                           0.91      3286\n",
            "   macro avg       0.91      0.91      0.91      3286\n",
            "weighted avg       0.91      0.91      0.91      3286\n",
            "\n"
          ]
        },
        {
          "output_type": "display_data",
          "data": {
            "text/plain": [
              "<Figure size 432x288 with 2 Axes>"
            ],
            "image/png": "[encoded data removed]"
          },
          "metadata": {
            "needs_background": "light"
          }
        }
      ]
    },
    {
      "cell_type": "markdown",
      "source": [
        "## K-Nearest Neighbors"
      ],
      "metadata": {
        "id": "4VymlsSgZAB0"
      }
    },
    {
      "cell_type": "code",
      "source": [
        "KNN = KNeighborsClassifier().fit(X_train, Y_train)\n",
        "\n",
        "Y_pred_KNN = KNN.predict(X_test)"
      ],
      "metadata": {
        "id": "t5iIRxGMZCES"
      },
      "execution_count": 147,
      "outputs": []
    },
    {
      "cell_type": "code",
      "source": [
        "report = metrics.classification_report(Y_test, Y_pred_KNN)\n",
        "print(report)\n",
        "cm = metrics.confusion_matrix(Y_test,Y_pred_KNN)\n",
        "\n",
        "cm_display = metrics.ConfusionMatrixDisplay(confusion_matrix = cm, display_labels = ['Fraud','Non-Fraud'])\n",
        "cm_display.plot()\n",
        "plt.show()"
      ],
      "metadata": {
        "colab": {
          "base_uri": "https://localhost:8080/",
          "height": 435
        },
        "id": "HxBiO151ZLWQ",
        "outputId": "c229bf65-9cf5-4961-f3c4-e16b2edb43cc"
      },
      "execution_count": 148,
      "outputs": [
        {
          "output_type": "stream",
          "name": "stdout",
          "text": [
            "              precision    recall  f1-score   support\n",
            "\n",
            "           0       0.92      0.94      0.93      1649\n",
            "           1       0.94      0.92      0.93      1637\n",
            "\n",
            "    accuracy                           0.93      3286\n",
            "   macro avg       0.93      0.93      0.93      3286\n",
            "weighted avg       0.93      0.93      0.93      3286\n",
            "\n"
          ]
        },
        {
          "output_type": "display_data",
          "data": {
            "text/plain": [
              "<Figure size 432x288 with 2 Axes>"
            ],
            "image/png": "[encoded data removed]"
          },
          "metadata": {
            "needs_background": "light"
          }
        }
      ]
    },
    {
      "cell_type": "markdown",
      "source": [
        "## Extreme Gradient Boosting"
      ],
      "metadata": {
        "id": "EFZ3C0u5RT9y"
      }
    },
    {
      "cell_type": "code",
      "source": [
        "XGB = XGBClassifier(max_depth = 3,  n_jobs = 4, random_state=42).fit(X_train, Y_train)\n",
        "\n",
        "Y_pred_XGB = XGB.predict(X_test)"
      ],
      "metadata": {
        "id": "Q8HihaV2RZBV"
      },
      "execution_count": 141,
      "outputs": []
    },
    {
      "cell_type": "code",
      "source": [
        "report = metrics.classification_report(Y_test, Y_pred_XGB)\n",
        "print(report)\n",
        "cm = metrics.confusion_matrix(Y_test,Y_pred_XGB)\n",
        "\n",
        "cm_display = metrics.ConfusionMatrixDisplay(confusion_matrix = cm, display_labels = ['Fraud','Non-Fraud'])\n",
        "cm_display.plot()\n",
        "plt.show()"
      ],
      "metadata": {
        "colab": {
          "base_uri": "https://localhost:8080/",
          "height": 435
        },
        "id": "af72NBQtRrdJ",
        "outputId": "cc221a40-7d0b-4100-a46d-0496b6285f9b"
      },
      "execution_count": 142,
      "outputs": [
        {
          "output_type": "stream",
          "name": "stdout",
          "text": [
            "              precision    recall  f1-score   support\n",
            "\n",
            "           0       1.00      0.99      0.99      1649\n",
            "           1       0.99      1.00      0.99      1637\n",
            "\n",
            "    accuracy                           0.99      3286\n",
            "   macro avg       0.99      0.99      0.99      3286\n",
            "weighted avg       0.99      0.99      0.99      3286\n",
            "\n"
          ]
        },
        {
          "output_type": "display_data",
          "data": {
            "text/plain": [
              "<Figure size 432x288 with 2 Axes>"
            ],
            "image/png": "[encoded data removed]"
          },
          "metadata": {
            "needs_background": "light"
          }
        }
      ]
    },
    {
      "cell_type": "code",
      "source": [
        "to_graphviz(XGB)"
      ],
      "metadata": {
        "colab": {
          "base_uri": "https://localhost:8080/",
          "height": 448
        },
        "id": "XHrN11DuR4ut",
        "outputId": "607fb19c-6b1b-4d11-ff95-f7ad96429b69"
      },
      "execution_count": 143,
      "outputs": [
        {
          "output_type": "execute_result",
          "data": {
            "text/plain": [
              "<graphviz.files.Source at 0x7fcc681530a0>"
            ],
            "image/svg+xml": "<?xml version=\"1.0\" encoding=\"UTF-8\" standalone=\"no\"?>\n<!DOCTYPE svg PUBLIC \"-//W3C//DTD SVG 1.1//EN\"\n \"http://www.w3.org/Graphics/SVG/1.1/DTD/svg11.dtd\">\n<!-- Generated by graphviz version 2.43.0 (0)\n -->\n<!-- Title: %3 Pages: 1 -->\n<svg width=\"1369pt\" height=\"305pt\"\n viewBox=\"0.00 0.00 1368.79 305.00\" xmlns=\"http://www.w3.org/2000/svg\" xmlns:xlink=\"http://www.w3.org/1999/xlink\">\n<g id=\"graph0\" class=\"graph\" transform=\"scale(1 1) rotate(0) translate(4 301)\">\n<title>%3</title>\n<polygon fill=\"white\" stroke=\"transparent\" points=\"-4,4 -4,-301 1364.79,-301 1364.79,4 -4,4\"/>\n<!-- 0 -->\n<g id=\"node1\" class=\"node\">\n<title>0</title>\n<ellipse fill=\"none\" stroke=\"black\" cx=\"661.39\" cy=\"-279\" rx=\"72.59\" ry=\"18\"/>\n<text text-anchor=\"middle\" x=\"661.39\" y=\"-275.3\" font-family=\"Times,serif\" font-size=\"14.00\">f2&lt;&#45;0.307073236</text>\n</g>\n<!-- 1 -->\n<g id=\"node2\" class=\"node\">\n<title>1</title>\n<ellipse fill=\"none\" stroke=\"black\" cx=\"488.39\" cy=\"-192\" rx=\"72.59\" ry=\"18\"/>\n<text text-anchor=\"middle\" x=\"488.39\" y=\"-188.3\" font-family=\"Times,serif\" font-size=\"14.00\">f5&lt;&#45;0.370676637</text>\n</g>\n<!-- 0&#45;&gt;1 -->\n<g id=\"edge1\" class=\"edge\">\n<title>0&#45;&gt;1</title>\n<path fill=\"none\" stroke=\"#0000ff\" d=\"M630.06,-262.61C601.65,-248.65 559.6,-227.99 528.7,-212.8\"/>\n<polygon fill=\"#0000ff\" stroke=\"#0000ff\" points=\"530.01,-209.55 519.49,-208.28 526.92,-215.83 530.01,-209.55\"/>\n<text text-anchor=\"middle\" x=\"619.89\" y=\"-231.8\" font-family=\"Times,serif\" font-size=\"14.00\">yes, missing</text>\n</g>\n<!-- 2 -->\n<g id=\"node3\" class=\"node\">\n<title>2</title>\n<ellipse fill=\"none\" stroke=\"black\" cx=\"834.39\" cy=\"-192\" rx=\"77.19\" ry=\"18\"/>\n<text text-anchor=\"middle\" x=\"834.39\" y=\"-188.3\" font-family=\"Times,serif\" font-size=\"14.00\">f3&lt;&#45;0.0715625212</text>\n</g>\n<!-- 0&#45;&gt;2 -->\n<g id=\"edge2\" class=\"edge\">\n<title>0&#45;&gt;2</title>\n<path fill=\"none\" stroke=\"#ff0000\" d=\"M692.72,-262.61C720.96,-248.73 762.66,-228.24 793.51,-213.09\"/>\n<polygon fill=\"#ff0000\" stroke=\"#ff0000\" points=\"795.28,-216.12 802.71,-208.57 792.19,-209.83 795.28,-216.12\"/>\n<text text-anchor=\"middle\" x=\"765.39\" y=\"-231.8\" font-family=\"Times,serif\" font-size=\"14.00\">no</text>\n</g>\n<!-- 3 -->\n<g id=\"node4\" class=\"node\">\n<title>3</title>\n<ellipse fill=\"none\" stroke=\"black\" cx=\"248.39\" cy=\"-105\" rx=\"68.49\" ry=\"18\"/>\n<text text-anchor=\"middle\" x=\"248.39\" y=\"-101.3\" font-family=\"Times,serif\" font-size=\"14.00\">f6&lt;&#45;0.32753399</text>\n</g>\n<!-- 1&#45;&gt;3 -->\n<g id=\"edge3\" class=\"edge\">\n<title>1&#45;&gt;3</title>\n<path fill=\"none\" stroke=\"#0000ff\" d=\"M448.49,-176.87C406.89,-162.14 341.66,-139.03 297.06,-123.24\"/>\n<polygon fill=\"#0000ff\" stroke=\"#0000ff\" points=\"298.19,-119.92 287.59,-119.88 295.85,-126.52 298.19,-119.92\"/>\n<text text-anchor=\"middle\" x=\"417.89\" y=\"-144.8\" font-family=\"Times,serif\" font-size=\"14.00\">yes, missing</text>\n</g>\n<!-- 4 -->\n<g id=\"node5\" class=\"node\">\n<title>4</title>\n<ellipse fill=\"none\" stroke=\"black\" cx=\"488.39\" cy=\"-105\" rx=\"72.59\" ry=\"18\"/>\n<text text-anchor=\"middle\" x=\"488.39\" y=\"-101.3\" font-family=\"Times,serif\" font-size=\"14.00\">f1&lt;&#45;0.434231937</text>\n</g>\n<!-- 1&#45;&gt;4 -->\n<g id=\"edge4\" class=\"edge\">\n<title>1&#45;&gt;4</title>\n<path fill=\"none\" stroke=\"#ff0000\" d=\"M488.39,-173.8C488.39,-162.16 488.39,-146.55 488.39,-133.24\"/>\n<polygon fill=\"#ff0000\" stroke=\"#ff0000\" points=\"491.89,-133.18 488.39,-123.18 484.89,-133.18 491.89,-133.18\"/>\n<text text-anchor=\"middle\" x=\"495.39\" y=\"-144.8\" font-family=\"Times,serif\" font-size=\"14.00\">no</text>\n</g>\n<!-- 5 -->\n<g id=\"node10\" class=\"node\">\n<title>5</title>\n<ellipse fill=\"none\" stroke=\"black\" cx=\"834.39\" cy=\"-105\" rx=\"72.59\" ry=\"18\"/>\n<text text-anchor=\"middle\" x=\"834.39\" y=\"-101.3\" font-family=\"Times,serif\" font-size=\"14.00\">f2&lt;&#45;0.264287144</text>\n</g>\n<!-- 2&#45;&gt;5 -->\n<g id=\"edge9\" class=\"edge\">\n<title>2&#45;&gt;5</title>\n<path fill=\"none\" stroke=\"#0000ff\" d=\"M834.39,-173.8C834.39,-162.16 834.39,-146.55 834.39,-133.24\"/>\n<polygon fill=\"#0000ff\" stroke=\"#0000ff\" points=\"837.89,-133.18 834.39,-123.18 830.89,-133.18 837.89,-133.18\"/>\n<text text-anchor=\"middle\" x=\"868.89\" y=\"-144.8\" font-family=\"Times,serif\" font-size=\"14.00\">yes, missing</text>\n</g>\n<!-- 6 -->\n<g id=\"node11\" class=\"node\">\n<title>6</title>\n<ellipse fill=\"none\" stroke=\"black\" cx=\"1113.39\" cy=\"-105\" rx=\"77.19\" ry=\"18\"/>\n<text text-anchor=\"middle\" x=\"1113.39\" y=\"-101.3\" font-family=\"Times,serif\" font-size=\"14.00\">f1&lt;&#45;0.0199594591</text>\n</g>\n<!-- 2&#45;&gt;6 -->\n<g id=\"edge10\" class=\"edge\">\n<title>2&#45;&gt;6</title>\n<path fill=\"none\" stroke=\"#ff0000\" d=\"M879.53,-177.25C928.36,-162.37 1006.22,-138.65 1058.54,-122.71\"/>\n<polygon fill=\"#ff0000\" stroke=\"#ff0000\" points=\"1059.78,-125.99 1068.32,-119.73 1057.74,-119.3 1059.78,-125.99\"/>\n<text text-anchor=\"middle\" x=\"998.39\" y=\"-144.8\" font-family=\"Times,serif\" font-size=\"14.00\">no</text>\n</g>\n<!-- 7 -->\n<g id=\"node6\" class=\"node\">\n<title>7</title>\n<ellipse fill=\"none\" stroke=\"black\" cx=\"75.39\" cy=\"-18\" rx=\"75.29\" ry=\"18\"/>\n<text text-anchor=\"middle\" x=\"75.39\" y=\"-14.3\" font-family=\"Times,serif\" font-size=\"14.00\">leaf=0.570588231</text>\n</g>\n<!-- 3&#45;&gt;7 -->\n<g id=\"edge5\" class=\"edge\">\n<title>3&#45;&gt;7</title>\n<path fill=\"none\" stroke=\"#0000ff\" d=\"M216.72,-88.95C203.87,-82.81 188.9,-75.61 175.39,-69 155.65,-59.33 133.8,-48.43 115.58,-39.28\"/>\n<polygon fill=\"#0000ff\" stroke=\"#0000ff\" points=\"116.91,-36.04 106.41,-34.67 113.77,-42.29 116.91,-36.04\"/>\n<text text-anchor=\"middle\" x=\"209.89\" y=\"-57.8\" font-family=\"Times,serif\" font-size=\"14.00\">yes, missing</text>\n</g>\n<!-- 8 -->\n<g id=\"node7\" class=\"node\">\n<title>8</title>\n<ellipse fill=\"none\" stroke=\"black\" cx=\"248.39\" cy=\"-18\" rx=\"79.89\" ry=\"18\"/>\n<text text-anchor=\"middle\" x=\"248.39\" y=\"-14.3\" font-family=\"Times,serif\" font-size=\"14.00\">leaf=0.0519402996</text>\n</g>\n<!-- 3&#45;&gt;8 -->\n<g id=\"edge6\" class=\"edge\">\n<title>3&#45;&gt;8</title>\n<path fill=\"none\" stroke=\"#ff0000\" d=\"M248.39,-86.8C248.39,-75.16 248.39,-59.55 248.39,-46.24\"/>\n<polygon fill=\"#ff0000\" stroke=\"#ff0000\" points=\"251.89,-46.18 248.39,-36.18 244.89,-46.18 251.89,-46.18\"/>\n<text text-anchor=\"middle\" x=\"255.39\" y=\"-57.8\" font-family=\"Times,serif\" font-size=\"14.00\">no</text>\n</g>\n<!-- 9 -->\n<g id=\"node8\" class=\"node\">\n<title>9</title>\n<ellipse fill=\"none\" stroke=\"black\" cx=\"425.39\" cy=\"-18\" rx=\"78.79\" ry=\"18\"/>\n<text text-anchor=\"middle\" x=\"425.39\" y=\"-14.3\" font-family=\"Times,serif\" font-size=\"14.00\">leaf=&#45;0.264864892</text>\n</g>\n<!-- 4&#45;&gt;9 -->\n<g id=\"edge7\" class=\"edge\">\n<title>4&#45;&gt;9</title>\n<path fill=\"none\" stroke=\"#0000ff\" d=\"M475.95,-87.21C466.86,-74.95 454.38,-58.11 444.1,-44.24\"/>\n<polygon fill=\"#0000ff\" stroke=\"#0000ff\" points=\"446.8,-42 438.03,-36.05 441.17,-46.17 446.8,-42\"/>\n<text text-anchor=\"middle\" x=\"495.89\" y=\"-57.8\" font-family=\"Times,serif\" font-size=\"14.00\">yes, missing</text>\n</g>\n<!-- 10 -->\n<g id=\"node9\" class=\"node\">\n<title>10</title>\n<ellipse fill=\"none\" stroke=\"black\" cx=\"600.39\" cy=\"-18\" rx=\"78.79\" ry=\"18\"/>\n<text text-anchor=\"middle\" x=\"600.39\" y=\"-14.3\" font-family=\"Times,serif\" font-size=\"14.00\">leaf=&#45;0.593717277</text>\n</g>\n<!-- 4&#45;&gt;10 -->\n<g id=\"edge8\" class=\"edge\">\n<title>4&#45;&gt;10</title>\n<path fill=\"none\" stroke=\"#ff0000\" d=\"M509.99,-87.61C527.26,-74.5 551.67,-55.98 570.77,-41.48\"/>\n<polygon fill=\"#ff0000\" stroke=\"#ff0000\" points=\"573.02,-44.17 578.86,-35.34 568.78,-38.6 573.02,-44.17\"/>\n<text text-anchor=\"middle\" x=\"558.39\" y=\"-57.8\" font-family=\"Times,serif\" font-size=\"14.00\">no</text>\n</g>\n<!-- 11 -->\n<g id=\"node12\" class=\"node\">\n<title>11</title>\n<ellipse fill=\"none\" stroke=\"black\" cx=\"772.39\" cy=\"-18\" rx=\"75.29\" ry=\"18\"/>\n<text text-anchor=\"middle\" x=\"772.39\" y=\"-14.3\" font-family=\"Times,serif\" font-size=\"14.00\">leaf=0.239144534</text>\n</g>\n<!-- 5&#45;&gt;11 -->\n<g id=\"edge11\" class=\"edge\">\n<title>5&#45;&gt;11</title>\n<path fill=\"none\" stroke=\"#0000ff\" d=\"M822.14,-87.21C813.2,-74.95 800.92,-58.11 790.8,-44.24\"/>\n<polygon fill=\"#0000ff\" stroke=\"#0000ff\" points=\"793.55,-42.07 784.83,-36.05 787.89,-46.19 793.55,-42.07\"/>\n<text text-anchor=\"middle\" x=\"841.89\" y=\"-57.8\" font-family=\"Times,serif\" font-size=\"14.00\">yes, missing</text>\n</g>\n<!-- 12 -->\n<g id=\"node13\" class=\"node\">\n<title>12</title>\n<ellipse fill=\"none\" stroke=\"black\" cx=\"941.39\" cy=\"-18\" rx=\"75.29\" ry=\"18\"/>\n<text text-anchor=\"middle\" x=\"941.39\" y=\"-14.3\" font-family=\"Times,serif\" font-size=\"14.00\">leaf=0.567595601</text>\n</g>\n<!-- 5&#45;&gt;12 -->\n<g id=\"edge12\" class=\"edge\">\n<title>5&#45;&gt;12</title>\n<path fill=\"none\" stroke=\"#ff0000\" d=\"M856.05,-87.78C863.78,-81.92 872.52,-75.22 880.39,-69 891.42,-60.29 903.4,-50.54 913.8,-41.97\"/>\n<polygon fill=\"#ff0000\" stroke=\"#ff0000\" points=\"916.28,-44.46 921.76,-35.4 911.82,-39.07 916.28,-44.46\"/>\n<text text-anchor=\"middle\" x=\"906.39\" y=\"-57.8\" font-family=\"Times,serif\" font-size=\"14.00\">no</text>\n</g>\n<!-- 13 -->\n<g id=\"node14\" class=\"node\">\n<title>13</title>\n<ellipse fill=\"none\" stroke=\"black\" cx=\"1113.39\" cy=\"-18\" rx=\"78.79\" ry=\"18\"/>\n<text text-anchor=\"middle\" x=\"1113.39\" y=\"-14.3\" font-family=\"Times,serif\" font-size=\"14.00\">leaf=&#45;0.589110732</text>\n</g>\n<!-- 6&#45;&gt;13 -->\n<g id=\"edge13\" class=\"edge\">\n<title>6&#45;&gt;13</title>\n<path fill=\"none\" stroke=\"#0000ff\" d=\"M1113.39,-86.8C1113.39,-75.16 1113.39,-59.55 1113.39,-46.24\"/>\n<polygon fill=\"#0000ff\" stroke=\"#0000ff\" points=\"1116.89,-46.18 1113.39,-36.18 1109.89,-46.18 1116.89,-46.18\"/>\n<text text-anchor=\"middle\" x=\"1147.89\" y=\"-57.8\" font-family=\"Times,serif\" font-size=\"14.00\">yes, missing</text>\n</g>\n<!-- 14 -->\n<g id=\"node15\" class=\"node\">\n<title>14</title>\n<ellipse fill=\"none\" stroke=\"black\" cx=\"1285.39\" cy=\"-18\" rx=\"75.29\" ry=\"18\"/>\n<text text-anchor=\"middle\" x=\"1285.39\" y=\"-14.3\" font-family=\"Times,serif\" font-size=\"14.00\">leaf=0.580487788</text>\n</g>\n<!-- 6&#45;&gt;14 -->\n<g id=\"edge14\" class=\"edge\">\n<title>6&#45;&gt;14</title>\n<path fill=\"none\" stroke=\"#ff0000\" d=\"M1145.81,-88.64C1158.49,-82.58 1173.15,-75.52 1186.39,-69 1205.96,-59.37 1227.59,-48.47 1245.63,-39.32\"/>\n<polygon fill=\"#ff0000\" stroke=\"#ff0000\" points=\"1247.38,-42.36 1254.71,-34.7 1244.2,-36.12 1247.38,-42.36\"/>\n<text text-anchor=\"middle\" x=\"1223.39\" y=\"-57.8\" font-family=\"Times,serif\" font-size=\"14.00\">no</text>\n</g>\n</g>\n</svg>\n"
          },
          "metadata": {},
          "execution_count": 143
        }
      ]
    },
    {
      "cell_type": "code",
      "source": [
        "fig = plt.figure(figsize = (14, 9))\n",
        "ax = fig.add_subplot(111)\n",
        "\n",
        "colours = plt.cm.Set1(np.linspace(0, 1, 9))\n",
        "\n",
        "ax = plot_importance(XGB, height = 1, color = colours, grid = False, \\\n",
        "                     show_values = False, importance_type = 'cover', ax = ax);\n",
        "for axis in ['top','bottom','left','right']:\n",
        "            ax.spines[axis].set_linewidth(2)\n",
        "        \n",
        "ax.set_xlabel('importance score', size = 16);\n",
        "ax.set_ylabel('features', size = 16);\n",
        "ax.set_yticklabels(ax.get_yticklabels(), size = 12);\n",
        "ax.set_title('Ordering of features by importance to the model learnt', size = 20);"
      ],
      "metadata": {
        "colab": {
          "base_uri": "https://localhost:8080/",
          "height": 577
        },
        "id": "nwzc6SVHTjxR",
        "outputId": "ad4657e6-310a-4174-cc5d-9b81198dc26a"
      },
      "execution_count": 108,
      "outputs": [
        {
          "output_type": "display_data",
          "data": {
            "text/plain": [
              "<Figure size 1008x648 with 1 Axes>"
            ],
            "image/png": "[encoded data removed]"
          },
          "metadata": {
            "needs_background": "light"
          }
        }
      ]
    },
    {
      "cell_type": "code",
      "source": [
        "%%time\n",
        "from sklearn.model_selection import learning_curve    \n",
        "trainSizes, trainScores, crossValScores = learning_curve(\\\n",
        "                              XGBClassifier(max_depth = 3, n_jobs = 4), X_train, Y_train, scoring = 'average_precision')"
      ],
      "metadata": {
        "colab": {
          "base_uri": "https://localhost:8080/"
        },
        "id": "2NfmfI8GV_r_",
        "outputId": "6aef3cde-696f-4a11-8777-b5e57a566c30"
      },
      "execution_count": 145,
      "outputs": [
        {
          "output_type": "stream",
          "name": "stdout",
          "text": [
            "CPU times: user 11.1 s, sys: 833 ms, total: 11.9 s\n",
            "Wall time: 7.59 s\n"
          ]
        }
      ]
    },
    {
      "cell_type": "code",
      "source": [
        "trainScoresMean = np.mean(trainScores, axis=1)\n",
        "trainScoresStd = np.std(trainScores, axis=1)\n",
        "crossValScoresMean = np.mean(crossValScores, axis=1)\n",
        "crossValScoresStd = np.std(crossValScores, axis=1)\n",
        "\n",
        "colours = plt.cm.tab10(np.linspace(0, 1, 9))\n",
        "\n",
        "fig = plt.figure(figsize = (14, 9))\n",
        "plt.fill_between(trainSizes, trainScoresMean - trainScoresStd,\n",
        "    trainScoresMean + trainScoresStd, alpha=0.1, color=colours[0])\n",
        "plt.fill_between(trainSizes, crossValScoresMean - crossValScoresStd,\n",
        "    crossValScoresMean + crossValScoresStd, alpha=0.1, color=colours[1])\n",
        "plt.plot(trainSizes, trainScores.mean(axis = 1), 'o-', label = 'train', \\\n",
        "         color = colours[0])\n",
        "plt.plot(trainSizes, crossValScores.mean(axis = 1), 'o-', label = 'cross-val', \\\n",
        "         color = colours[1])\n",
        "\n",
        "ax = plt.gca()\n",
        "for axis in ['top','bottom','left','right']:\n",
        "    ax.spines[axis].set_linewidth(2)\n",
        "\n",
        "handles, labels = ax.get_legend_handles_labels()\n",
        "plt.legend(handles, ['train', 'cross-val'], bbox_to_anchor=(0.8, 0.15), \\\n",
        "               loc=2, borderaxespad=0, fontsize = 16);\n",
        "plt.xlabel('training set size', size = 16); \n",
        "plt.ylabel('AUPRC', size = 16)\n",
        "plt.title('Learning curves indicate slightly underfit model', size = 20);"
      ],
      "metadata": {
        "colab": {
          "base_uri": "https://localhost:8080/",
          "height": 577
        },
        "id": "VQEA9M-vV_Q3",
        "outputId": "63382782-66ea-4744-a026-1df0c3e0ccec"
      },
      "execution_count": 146,
      "outputs": [
        {
          "output_type": "display_data",
          "data": {
            "text/plain": [
              "<Figure size 1008x648 with 1 Axes>"
            ],
            "image/png": "[encoded data removed]"
          },
          "metadata": {
            "needs_background": "light"
          }
        }
      ]
    },
    {
      "cell_type": "markdown",
      "source": [
        "## Multi Layer Perceptron"
      ],
      "metadata": {
        "id": "bV1BjlP0Gx3I"
      }
    },
    {
      "cell_type": "code",
      "source": [
        "from sklearn.neural_network import MLPClassifier"
      ],
      "metadata": {
        "id": "v5rCTxEtG53_"
      },
      "execution_count": 43,
      "outputs": []
    },
    {
      "cell_type": "code",
      "source": [
        "ncols = len(X.columns)\n",
        "hidden_layers = (ncols,ncols,ncols)\n",
        "max_iter = 1000\n",
        "print(hidden_layers)"
      ],
      "metadata": {
        "colab": {
          "base_uri": "https://localhost:8080/"
        },
        "id": "n6WoeSUbGyHU",
        "outputId": "4057f77f-ba81-4aef-f905-147c6a2d041b"
      },
      "execution_count": 102,
      "outputs": [
        {
          "output_type": "stream",
          "name": "stdout",
          "text": [
            "(8, 8, 8)\n"
          ]
        }
      ]
    },
    {
      "cell_type": "code",
      "source": [
        "MLP = MLPClassifier(hidden_layer_sizes=hidden_layers,max_iter=1000,random_state=42)\n",
        "\n",
        "# training model\n",
        "MLP.fit(X_train,Y_train)"
      ],
      "metadata": {
        "colab": {
          "base_uri": "https://localhost:8080/",
          "height": 74
        },
        "id": "hg1KwMZFHFG0",
        "outputId": "ab0826fa-c433-419c-cfb4-97e81324b005"
      },
      "execution_count": 103,
      "outputs": [
        {
          "output_type": "execute_result",
          "data": {
            "text/plain": [
              "MLPClassifier(hidden_layer_sizes=(8, 8, 8), max_iter=1000, random_state=42)"
            ],
            "text/html": [
              "<style>#sk-container-id-3 {color: black;background-color: white;}#sk-container-id-3 pre{padding: 0;}#sk-container-id-3 div.sk-toggleable {background-color: white;}#sk-container-id-3 label.sk-toggleable__label {cursor: pointer;display: block;width: 100%;margin-bottom: 0;padding: 0.3em;box-sizing: border-box;text-align: center;}#sk-container-id-3 label.sk-toggleable__label-arrow:before {content: \"▸\";float: left;margin-right: 0.25em;color: #696969;}#sk-container-id-3 label.sk-toggleable__label-arrow:hover:before {color: black;}#sk-container-id-3 div.sk-estimator:hover label.sk-toggleable__label-arrow:before {color: black;}#sk-container-id-3 div.sk-toggleable__content {max-height: 0;max-width: 0;overflow: hidden;text-align: left;background-color: #f0f8ff;}#sk-container-id-3 div.sk-toggleable__content pre {margin: 0.2em;color: black;border-radius: 0.25em;background-color: #f0f8ff;}#sk-container-id-3 input.sk-toggleable__control:checked~div.sk-toggleable__content {max-height: 200px;max-width: 100%;overflow: auto;}#sk-container-id-3 input.sk-toggleable__control:checked~label.sk-toggleable__label-arrow:before {content: \"▾\";}#sk-container-id-3 div.sk-estimator input.sk-toggleable__control:checked~label.sk-toggleable__label {background-color: #d4ebff;}#sk-container-id-3 div.sk-label input.sk-toggleable__control:checked~label.sk-toggleable__label {background-color: #d4ebff;}#sk-container-id-3 input.sk-hidden--visually {border: 0;clip: rect(1px 1px 1px 1px);clip: rect(1px, 1px, 1px, 1px);height: 1px;margin: -1px;overflow: hidden;padding: 0;position: absolute;width: 1px;}#sk-container-id-3 div.sk-estimator {font-family: monospace;background-color: #f0f8ff;border: 1px dotted black;border-radius: 0.25em;box-sizing: border-box;margin-bottom: 0.5em;}#sk-container-id-3 div.sk-estimator:hover {background-color: #d4ebff;}#sk-container-id-3 div.sk-parallel-item::after {content: \"\";width: 100%;border-bottom: 1px solid gray;flex-grow: 1;}#sk-container-id-3 div.sk-label:hover label.sk-toggleable__label {background-color: #d4ebff;}#sk-container-id-3 div.sk-serial::before {content: \"\";position: absolute;border-left: 1px solid gray;box-sizing: border-box;top: 0;bottom: 0;left: 50%;z-index: 0;}#sk-container-id-3 div.sk-serial {display: flex;flex-direction: column;align-items: center;background-color: white;padding-right: 0.2em;padding-left: 0.2em;position: relative;}#sk-container-id-3 div.sk-item {position: relative;z-index: 1;}#sk-container-id-3 div.sk-parallel {display: flex;align-items: stretch;justify-content: center;background-color: white;position: relative;}#sk-container-id-3 div.sk-item::before, #sk-container-id-3 div.sk-parallel-item::before {content: \"\";position: absolute;border-left: 1px solid gray;box-sizing: border-box;top: 0;bottom: 0;left: 50%;z-index: -1;}#sk-container-id-3 div.sk-parallel-item {display: flex;flex-direction: column;z-index: 1;position: relative;background-color: white;}#sk-container-id-3 div.sk-parallel-item:first-child::after {align-self: flex-end;width: 50%;}#sk-container-id-3 div.sk-parallel-item:last-child::after {align-self: flex-start;width: 50%;}#sk-container-id-3 div.sk-parallel-item:only-child::after {width: 0;}#sk-container-id-3 div.sk-dashed-wrapped {border: 1px dashed gray;margin: 0 0.4em 0.5em 0.4em;box-sizing: border-box;padding-bottom: 0.4em;background-color: white;}#sk-container-id-3 div.sk-label label {font-family: monospace;font-weight: bold;display: inline-block;line-height: 1.2em;}#sk-container-id-3 div.sk-label-container {text-align: center;}#sk-container-id-3 div.sk-container {/* jupyter's `normalize.less` sets `[hidden] { display: none; }` but bootstrap.min.css set `[hidden] { display: none !important; }` so we also need the `!important` here to be able to override the default hidden behavior on the sphinx rendered scikit-learn.org. See: https://github.com/scikit-learn/scikit-learn/issues/21755 */display: inline-block !important;position: relative;}#sk-container-id-3 div.sk-text-repr-fallback {display: none;}</style><div id=\"sk-container-id-3\" class=\"sk-top-container\"><div class=\"sk-text-repr-fallback\"><pre>MLPClassifier(hidden_layer_sizes=(8, 8, 8), max_iter=1000, random_state=42)</pre><b>In a Jupyter environment, please rerun this cell to show the HTML representation or trust the notebook. <br />On GitHub, the HTML representation is unable to render, please try loading this page with nbviewer.org.</b></div><div class=\"sk-container\" hidden><div class=\"sk-item\"><div class=\"sk-estimator sk-toggleable\"><input class=\"sk-toggleable__control sk-hidden--visually\" id=\"sk-estimator-id-3\" type=\"checkbox\" checked><label for=\"sk-estimator-id-3\" class=\"sk-toggleable__label sk-toggleable__label-arrow\">MLPClassifier</label><div class=\"sk-toggleable__content\"><pre>MLPClassifier(hidden_layer_sizes=(8, 8, 8), max_iter=1000, random_state=42)</pre></div></div></div></div></div>"
            ]
          },
          "metadata": {},
          "execution_count": 103
        }
      ]
    },
    {
      "cell_type": "code",
      "source": [
        "# evaluating model on how it performs on balanced datasets\n",
        "predictionsMLP = MLP.predict(X_test)\n",
        "CM_MLP = metrics.confusion_matrix(Y_test,predictionsMLP)\n",
        "CR_MLP = metrics.classification_report(Y_test,predictionsMLP)\n",
        "fprMLP, recallMLP, thresholdsMLP = metrics.roc_curve(Y_test, predictionsMLP)\n",
        "AUC_MLP = metrics.auc(fprMLP, recallMLP)\n",
        "    \n",
        "resultsMLP = {\"Confusion Matrix\":CM_MLP,\"Classification Report\":CR_MLP,\"Area Under Curve\":AUC_MLP}"
      ],
      "metadata": {
        "id": "3OPL2yk5HGwd"
      },
      "execution_count": 105,
      "outputs": []
    },
    {
      "cell_type": "code",
      "source": [
        "# showing results from Multilayered perceptrons developed from each dataset\n",
        "for measure in resultsMLP:\n",
        "    print(measure,\": \\n\",resultsMLP[measure])"
      ],
      "metadata": {
        "colab": {
          "base_uri": "https://localhost:8080/"
        },
        "id": "ZiZC69f-HYVq",
        "outputId": "028763c3-5e59-4c0e-a34d-3b834712f01d"
      },
      "execution_count": 111,
      "outputs": [
        {
          "output_type": "stream",
          "name": "stdout",
          "text": [
            "Confusion Matrix : \n",
            " [[1628   21]\n",
            " [  44 1593]]\n",
            "Classification Report : \n",
            "               precision    recall  f1-score   support\n",
            "\n",
            "           0       0.97      0.99      0.98      1649\n",
            "           1       0.99      0.97      0.98      1637\n",
            "\n",
            "    accuracy                           0.98      3286\n",
            "   macro avg       0.98      0.98      0.98      3286\n",
            "weighted avg       0.98      0.98      0.98      3286\n",
            "\n",
            "Area Under Curve : \n",
            " 0.9801932864663541\n"
          ]
        }
      ]
    },
    {
      "cell_type": "markdown",
      "source": [
        "# Evaluation"
      ],
      "metadata": {
        "id": "dyxamn4oSJVP"
      }
    },
    {
      "cell_type": "code",
      "source": [
        "print('skew = {}'.format( len(df.loc[df[\"isFraud\"]==1]) / float(len(X)) ))\n"
      ],
      "metadata": {
        "colab": {
          "base_uri": "https://localhost:8080/"
        },
        "id": "pUebiCKz4k7Y",
        "outputId": "33d22a5a-3fe0-4ab6-b8e8-a58c4218f33f"
      },
      "execution_count": 125,
      "outputs": [
        {
          "output_type": "stream",
          "name": "stdout",
          "text": [
            "skew = 0.5\n"
          ]
        }
      ]
    },
    {
      "cell_type": "code",
      "source": [
        "AUPRC_LGR = metrics.average_precision_score(Y_test, Y_pred_LGR)\n",
        "AUPRC_SVM = metrics.average_precision_score(Y_test, Y_pred_SVM)\n",
        "AUPRC_BNB = metrics.average_precision_score(Y_test, Y_pred_BNB)\n",
        "AUPRC_KNN = metrics.average_precision_score(Y_test, Y_pred_KNN)\n",
        "AUPRC_XGB = metrics.average_precision_score(Y_test, Y_pred_XGB)\n",
        "\n",
        "model_name = [\"LogisticsR\",\"SVM\",\"BernouliNB\",\"KNN\",\"XGBoost\"]\n",
        "AUPRC_score = [AUPRC_LGR, AUPRC_SVM, AUPRC_BNB, AUPRC_KNN, AUPRC_XGB]"
      ],
      "metadata": {
        "id": "yOegJsKCaxj8"
      },
      "execution_count": 154,
      "outputs": []
    },
    {
      "cell_type": "code",
      "source": [
        "sns.set_style(\"whitegrid\")\n",
        "plt.figure(figsize = (10, 5))\n",
        "ax = sns.barplot(x=model_name, y=AUPRC_score, palette=\"Blues\")\n",
        "\n",
        "# set the y-axis limit to 1.0\n",
        "ax.set_ylim(0, 1.0)\n",
        "\n",
        "# add text labels to the bars\n",
        "for i, score in enumerate(AUPRC_score):\n",
        "    ax.text(i, score+0.01, round(score, 2), ha='center', fontsize=12)\n",
        "\n",
        "# set the plot title and axis labels\n",
        "ax.set_title('Comparison of AUPRC scores for KNN and XGBoost models', fontsize=16)\n",
        "ax.set_xlabel('Models', fontsize=14)\n",
        "ax.set_ylabel('AUPRC', fontsize=14)\n",
        "\n",
        "# show the plot\n",
        "plt.show()"
      ],
      "metadata": {
        "colab": {
          "base_uri": "https://localhost:8080/",
          "height": 356
        },
        "id": "rmf4F2u_hZp4",
        "outputId": "ee843daa-735d-4640-89e3-65a78d003f14"
      },
      "execution_count": 164,
      "outputs": [
        {
          "output_type": "display_data",
          "data": {
            "text/plain": [
              "<Figure size 720x360 with 1 Axes>"
            ],
            "image/png": "[encoded data removed]"
          },
          "metadata": {}
        }
      ]
    },
    {
      "cell_type": "markdown",
      "source": [
        "We thoroughly interrogated the data at the outset to gain insight into which features could be discarded and those which could be valuably engineered. The plots provided visual confirmation that the data could be indeed be discriminated with the aid of the new features. To deal with the large skew in the data, we chose an appropriate metric and used an ML algorithm based on an ensemble of decision trees which works best with strongly imbalanced classes. The method used in this kernel should therefore be broadly applicable to a range of such problems"
      ],
      "metadata": {
        "id": "kqdM-CYQ7mFR"
      }
    },
    {
      "cell_type": "markdown",
      "source": [
        "# The end"
      ],
      "metadata": {
        "id": "ftbA-pY8cxlP"
      }
    }
  ]
}