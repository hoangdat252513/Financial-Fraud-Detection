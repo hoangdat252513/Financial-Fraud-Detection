{
  "cells": [
    {
      "cell_type": "markdown",
      "metadata": {
        "id": "a_M6i19aYRx4"
      },
      "source": [
        "# Load Data"
      ]
    },
    {
      "cell_type": "code",
      "execution_count": 1,
      "metadata": {
        "colab": {
          "base_uri": "https://localhost:8080/",
          "height": 0
        },
        "id": "1i9sX5P5cNYL",
        "outputId": "8ac9d1a1-47b0-4bda-af8a-86b8a8531020"
      },
      "outputs": [
        {
          "name": "stdout",
          "output_type": "stream",
          "text": [
            "Mounted at /content/drive\n"
          ]
        }
      ],
      "source": [
        "from google.colab import drive\n",
        "drive.mount('/content/drive')"
      ]
    },
    {
      "cell_type": "code",
      "execution_count": 2,
      "metadata": {
        "id": "-A8cqzRTdiI4"
      },
      "outputs": [],
      "source": [
        "import pandas as pd\n",
        "import numpy as np\n",
        "\n",
        "import matplotlib.pyplot as plt\n",
        "import seaborn as sns"
      ]
    },
    {
      "cell_type": "markdown",
      "metadata": {
        "id": "zybeYmOVju1Y"
      },
      "source": [
        "Source dataset: https://www.kaggle.com/datasets/ealaxi/paysim1"
      ]
    },
    {
      "cell_type": "code",
      "execution_count": 3,
      "metadata": {
        "colab": {
          "base_uri": "https://localhost:8080/",
          "height": 267
        },
        "id": "PYclK-osev4q",
        "outputId": "85d590c6-70c6-4253-f7b2-5315b9e42cd4"
      },
      "outputs": [
        {
          "name": "stdout",
          "output_type": "stream",
          "text": [
            "Shape:  (6362620, 11)\n"
          ]
        },
        {
          "data": {
            "text/html": [
              "\n",
              "  <div id=\"df-48f23e55-0959-4798-a58e-a949d6cb085d\">\n",
              "    <div class=\"colab-df-container\">\n",
              "      <div>\n",
              "<style scoped>\n",
              "    .dataframe tbody tr th:only-of-type {\n",
              "        vertical-align: middle;\n",
              "    }\n",
              "\n",
              "    .dataframe tbody tr th {\n",
              "        vertical-align: top;\n",
              "    }\n",
              "\n",
              "    .dataframe thead th {\n",
              "        text-align: right;\n",
              "    }\n",
              "</style>\n",
              "<table border=\"1\" class=\"dataframe\">\n",
              "  <thead>\n",
              "    <tr style=\"text-align: right;\">\n",
              "      <th></th>\n",
              "      <th>step</th>\n",
              "      <th>type</th>\n",
              "      <th>amount</th>\n",
              "      <th>nameOrig</th>\n",
              "      <th>oldbalanceOrg</th>\n",
              "      <th>newbalanceOrig</th>\n",
              "      <th>nameDest</th>\n",
              "      <th>oldbalanceDest</th>\n",
              "      <th>newbalanceDest</th>\n",
              "      <th>isFraud</th>\n",
              "      <th>isFlaggedFraud</th>\n",
              "    </tr>\n",
              "  </thead>\n",
              "  <tbody>\n",
              "    <tr>\n",
              "      <th>0</th>\n",
              "      <td>1</td>\n",
              "      <td>PAYMENT</td>\n",
              "      <td>9839.64</td>\n",
              "      <td>C1231006815</td>\n",
              "      <td>170136.0</td>\n",
              "      <td>160296.36</td>\n",
              "      <td>M1979787155</td>\n",
              "      <td>0.0</td>\n",
              "      <td>0.0</td>\n",
              "      <td>0</td>\n",
              "      <td>0</td>\n",
              "    </tr>\n",
              "    <tr>\n",
              "      <th>1</th>\n",
              "      <td>1</td>\n",
              "      <td>PAYMENT</td>\n",
              "      <td>1864.28</td>\n",
              "      <td>C1666544295</td>\n",
              "      <td>21249.0</td>\n",
              "      <td>19384.72</td>\n",
              "      <td>M2044282225</td>\n",
              "      <td>0.0</td>\n",
              "      <td>0.0</td>\n",
              "      <td>0</td>\n",
              "      <td>0</td>\n",
              "    </tr>\n",
              "    <tr>\n",
              "      <th>2</th>\n",
              "      <td>1</td>\n",
              "      <td>TRANSFER</td>\n",
              "      <td>181.00</td>\n",
              "      <td>C1305486145</td>\n",
              "      <td>181.0</td>\n",
              "      <td>0.00</td>\n",
              "      <td>C553264065</td>\n",
              "      <td>0.0</td>\n",
              "      <td>0.0</td>\n",
              "      <td>1</td>\n",
              "      <td>0</td>\n",
              "    </tr>\n",
              "    <tr>\n",
              "      <th>3</th>\n",
              "      <td>1</td>\n",
              "      <td>CASH_OUT</td>\n",
              "      <td>181.00</td>\n",
              "      <td>C840083671</td>\n",
              "      <td>181.0</td>\n",
              "      <td>0.00</td>\n",
              "      <td>C38997010</td>\n",
              "      <td>21182.0</td>\n",
              "      <td>0.0</td>\n",
              "      <td>1</td>\n",
              "      <td>0</td>\n",
              "    </tr>\n",
              "    <tr>\n",
              "      <th>4</th>\n",
              "      <td>1</td>\n",
              "      <td>PAYMENT</td>\n",
              "      <td>11668.14</td>\n",
              "      <td>C2048537720</td>\n",
              "      <td>41554.0</td>\n",
              "      <td>29885.86</td>\n",
              "      <td>M1230701703</td>\n",
              "      <td>0.0</td>\n",
              "      <td>0.0</td>\n",
              "      <td>0</td>\n",
              "      <td>0</td>\n",
              "    </tr>\n",
              "  </tbody>\n",
              "</table>\n",
              "</div>\n",
              "      <button class=\"colab-df-convert\" onclick=\"convertToInteractive('df-48f23e55-0959-4798-a58e-a949d6cb085d')\"\n",
              "              title=\"Convert this dataframe to an interactive table.\"\n",
              "              style=\"display:none;\">\n",
              "        \n",
              "  <svg xmlns=\"http://www.w3.org/2000/svg\" height=\"24px\"viewBox=\"0 0 24 24\"\n",
              "       width=\"24px\">\n",
              "    <path d=\"M0 0h24v24H0V0z\" fill=\"none\"/>\n",
              "    <path d=\"M18.56 5.44l.94 2.06.94-2.06 2.06-.94-2.06-.94-.94-2.06-.94 2.06-2.06.94zm-11 1L8.5 8.5l.94-2.06 2.06-.94-2.06-.94L8.5 2.5l-.94 2.06-2.06.94zm10 10l.94 2.06.94-2.06 2.06-.94-2.06-.94-.94-2.06-.94 2.06-2.06.94z\"/><path d=\"M17.41 7.96l-1.37-1.37c-.4-.4-.92-.59-1.43-.59-.52 0-1.04.2-1.43.59L10.3 9.45l-7.72 7.72c-.78.78-.78 2.05 0 2.83L4 21.41c.39.39.9.59 1.41.59.51 0 1.02-.2 1.41-.59l7.78-7.78 2.81-2.81c.8-.78.8-2.07 0-2.86zM5.41 20L4 18.59l7.72-7.72 1.47 1.35L5.41 20z\"/>\n",
              "  </svg>\n",
              "      </button>\n",
              "      \n",
              "  <style>\n",
              "    .colab-df-container {\n",
              "      display:flex;\n",
              "      flex-wrap:wrap;\n",
              "      gap: 12px;\n",
              "    }\n",
              "\n",
              "    .colab-df-convert {\n",
              "      background-color: #E8F0FE;\n",
              "      border: none;\n",
              "      border-radius: 50%;\n",
              "      cursor: pointer;\n",
              "      display: none;\n",
              "      fill: #1967D2;\n",
              "      height: 32px;\n",
              "      padding: 0 0 0 0;\n",
              "      width: 32px;\n",
              "    }\n",
              "\n",
              "    .colab-df-convert:hover {\n",
              "      background-color: #E2EBFA;\n",
              "      box-shadow: 0px 1px 2px rgba(60, 64, 67, 0.3), 0px 1px 3px 1px rgba(60, 64, 67, 0.15);\n",
              "      fill: #174EA6;\n",
              "    }\n",
              "\n",
              "    [theme=dark] .colab-df-convert {\n",
              "      background-color: #3B4455;\n",
              "      fill: #D2E3FC;\n",
              "    }\n",
              "\n",
              "    [theme=dark] .colab-df-convert:hover {\n",
              "      background-color: #434B5C;\n",
              "      box-shadow: 0px 1px 3px 1px rgba(0, 0, 0, 0.15);\n",
              "      filter: drop-shadow(0px 1px 2px rgba(0, 0, 0, 0.3));\n",
              "      fill: #FFFFFF;\n",
              "    }\n",
              "  </style>\n",
              "\n",
              "      <script>\n",
              "        const buttonEl =\n",
              "          document.querySelector('#df-48f23e55-0959-4798-a58e-a949d6cb085d button.colab-df-convert');\n",
              "        buttonEl.style.display =\n",
              "          google.colab.kernel.accessAllowed ? 'block' : 'none';\n",
              "\n",
              "        async function convertToInteractive(key) {\n",
              "          const element = document.querySelector('#df-48f23e55-0959-4798-a58e-a949d6cb085d');\n",
              "          const dataTable =\n",
              "            await google.colab.kernel.invokeFunction('convertToInteractive',\n",
              "                                                     [key], {});\n",
              "          if (!dataTable) return;\n",
              "\n",
              "          const docLinkHtml = 'Like what you see? Visit the ' +\n",
              "            '<a target=\"_blank\" href=https://colab.research.google.com/notebooks/data_table.ipynb>data table notebook</a>'\n",
              "            + ' to learn more about interactive tables.';\n",
              "          element.innerHTML = '';\n",
              "          dataTable['output_type'] = 'display_data';\n",
              "          await google.colab.output.renderOutput(dataTable, element);\n",
              "          const docLink = document.createElement('div');\n",
              "          docLink.innerHTML = docLinkHtml;\n",
              "          element.appendChild(docLink);\n",
              "        }\n",
              "      </script>\n",
              "    </div>\n",
              "  </div>\n",
              "  "
            ],
            "text/plain": [
              "   step      type    amount     nameOrig  oldbalanceOrg  newbalanceOrig  \\\n",
              "0     1   PAYMENT   9839.64  C1231006815       170136.0       160296.36   \n",
              "1     1   PAYMENT   1864.28  C1666544295        21249.0        19384.72   \n",
              "2     1  TRANSFER    181.00  C1305486145          181.0            0.00   \n",
              "3     1  CASH_OUT    181.00   C840083671          181.0            0.00   \n",
              "4     1   PAYMENT  11668.14  C2048537720        41554.0        29885.86   \n",
              "\n",
              "      nameDest  oldbalanceDest  newbalanceDest  isFraud  isFlaggedFraud  \n",
              "0  M1979787155             0.0             0.0        0               0  \n",
              "1  M2044282225             0.0             0.0        0               0  \n",
              "2   C553264065             0.0             0.0        1               0  \n",
              "3    C38997010         21182.0             0.0        1               0  \n",
              "4  M1230701703             0.0             0.0        0               0  "
            ]
          },
          "execution_count": 3,
          "metadata": {},
          "output_type": "execute_result"
        }
      ],
      "source": [
        "df = pd.read_csv(\"/content/drive/MyDrive/Dataset /Customer_Analysis/PS_20174392719_1491204439457_log.csv\")\n",
        "print('Shape: ',df.shape)\n",
        "df.head()"
      ]
    },
    {
      "cell_type": "code",
      "execution_count": 4,
      "metadata": {
        "colab": {
          "base_uri": "https://localhost:8080/",
          "height": 0
        },
        "id": "mJAsFVIbe6bj",
        "outputId": "82dd1f23-af21-410e-89cc-e0085ad379d9"
      },
      "outputs": [
        {
          "name": "stdout",
          "output_type": "stream",
          "text": [
            "<class 'pandas.core.frame.DataFrame'>\n",
            "RangeIndex: 6362620 entries, 0 to 6362619\n",
            "Data columns (total 11 columns):\n",
            " #   Column          Dtype  \n",
            "---  ------          -----  \n",
            " 0   step            int64  \n",
            " 1   type            object \n",
            " 2   amount          float64\n",
            " 3   nameOrig        object \n",
            " 4   oldbalanceOrg   float64\n",
            " 5   newbalanceOrig  float64\n",
            " 6   nameDest        object \n",
            " 7   oldbalanceDest  float64\n",
            " 8   newbalanceDest  float64\n",
            " 9   isFraud         int64  \n",
            " 10  isFlaggedFraud  int64  \n",
            "dtypes: float64(5), int64(3), object(3)\n",
            "memory usage: 534.0+ MB\n"
          ]
        }
      ],
      "source": [
        "df.info()"
      ]
    },
    {
      "cell_type": "code",
      "execution_count": 5,
      "metadata": {
        "colab": {
          "base_uri": "https://localhost:8080/",
          "height": 0
        },
        "id": "2Szv85lle7di",
        "outputId": "528b26d3-8316-46eb-e51d-216cee064455"
      },
      "outputs": [
        {
          "data": {
            "text/plain": [
              "step              0\n",
              "type              0\n",
              "amount            0\n",
              "nameOrig          0\n",
              "oldbalanceOrg     0\n",
              "newbalanceOrig    0\n",
              "nameDest          0\n",
              "oldbalanceDest    0\n",
              "newbalanceDest    0\n",
              "isFraud           0\n",
              "isFlaggedFraud    0\n",
              "dtype: int64"
            ]
          },
          "execution_count": 5,
          "metadata": {},
          "output_type": "execute_result"
        }
      ],
      "source": [
        "df.isnull().sum()"
      ]
    },
    {
      "cell_type": "markdown",
      "metadata": {
        "id": "kM0sxJ6gtcST"
      },
      "source": [
        "Seem likes dataset has been preprocessed. Its kinda clear"
      ]
    },
    {
      "cell_type": "markdown",
      "metadata": {
        "id": "XSHtBZm5tRPf"
      },
      "source": [
        "# Explotary Data Analysis"
      ]
    },
    {
      "cell_type": "code",
      "execution_count": 6,
      "metadata": {
        "colab": {
          "base_uri": "https://localhost:8080/",
          "height": 300
        },
        "id": "g5BzeVz3e9ES",
        "outputId": "abaca42e-4719-4b41-891c-43ac7105234c"
      },
      "outputs": [
        {
          "data": {
            "text/html": [
              "\n",
              "  <div id=\"df-ad99c4c2-7c89-4f66-8baa-4e30ff19b5d7\">\n",
              "    <div class=\"colab-df-container\">\n",
              "      <div>\n",
              "<style scoped>\n",
              "    .dataframe tbody tr th:only-of-type {\n",
              "        vertical-align: middle;\n",
              "    }\n",
              "\n",
              "    .dataframe tbody tr th {\n",
              "        vertical-align: top;\n",
              "    }\n",
              "\n",
              "    .dataframe thead th {\n",
              "        text-align: right;\n",
              "    }\n",
              "</style>\n",
              "<table border=\"1\" class=\"dataframe\">\n",
              "  <thead>\n",
              "    <tr style=\"text-align: right;\">\n",
              "      <th></th>\n",
              "      <th>step</th>\n",
              "      <th>amount</th>\n",
              "      <th>oldbalanceOrg</th>\n",
              "      <th>newbalanceOrig</th>\n",
              "      <th>oldbalanceDest</th>\n",
              "      <th>newbalanceDest</th>\n",
              "      <th>isFraud</th>\n",
              "      <th>isFlaggedFraud</th>\n",
              "    </tr>\n",
              "  </thead>\n",
              "  <tbody>\n",
              "    <tr>\n",
              "      <th>count</th>\n",
              "      <td>6.362620e+06</td>\n",
              "      <td>6.362620e+06</td>\n",
              "      <td>6.362620e+06</td>\n",
              "      <td>6.362620e+06</td>\n",
              "      <td>6.362620e+06</td>\n",
              "      <td>6.362620e+06</td>\n",
              "      <td>6.362620e+06</td>\n",
              "      <td>6.362620e+06</td>\n",
              "    </tr>\n",
              "    <tr>\n",
              "      <th>mean</th>\n",
              "      <td>2.433972e+02</td>\n",
              "      <td>1.798619e+05</td>\n",
              "      <td>8.338831e+05</td>\n",
              "      <td>8.551137e+05</td>\n",
              "      <td>1.100702e+06</td>\n",
              "      <td>1.224996e+06</td>\n",
              "      <td>1.290820e-03</td>\n",
              "      <td>2.514687e-06</td>\n",
              "    </tr>\n",
              "    <tr>\n",
              "      <th>std</th>\n",
              "      <td>1.423320e+02</td>\n",
              "      <td>6.038582e+05</td>\n",
              "      <td>2.888243e+06</td>\n",
              "      <td>2.924049e+06</td>\n",
              "      <td>3.399180e+06</td>\n",
              "      <td>3.674129e+06</td>\n",
              "      <td>3.590480e-02</td>\n",
              "      <td>1.585775e-03</td>\n",
              "    </tr>\n",
              "    <tr>\n",
              "      <th>min</th>\n",
              "      <td>1.000000e+00</td>\n",
              "      <td>0.000000e+00</td>\n",
              "      <td>0.000000e+00</td>\n",
              "      <td>0.000000e+00</td>\n",
              "      <td>0.000000e+00</td>\n",
              "      <td>0.000000e+00</td>\n",
              "      <td>0.000000e+00</td>\n",
              "      <td>0.000000e+00</td>\n",
              "    </tr>\n",
              "    <tr>\n",
              "      <th>25%</th>\n",
              "      <td>1.560000e+02</td>\n",
              "      <td>1.338957e+04</td>\n",
              "      <td>0.000000e+00</td>\n",
              "      <td>0.000000e+00</td>\n",
              "      <td>0.000000e+00</td>\n",
              "      <td>0.000000e+00</td>\n",
              "      <td>0.000000e+00</td>\n",
              "      <td>0.000000e+00</td>\n",
              "    </tr>\n",
              "    <tr>\n",
              "      <th>50%</th>\n",
              "      <td>2.390000e+02</td>\n",
              "      <td>7.487194e+04</td>\n",
              "      <td>1.420800e+04</td>\n",
              "      <td>0.000000e+00</td>\n",
              "      <td>1.327057e+05</td>\n",
              "      <td>2.146614e+05</td>\n",
              "      <td>0.000000e+00</td>\n",
              "      <td>0.000000e+00</td>\n",
              "    </tr>\n",
              "    <tr>\n",
              "      <th>75%</th>\n",
              "      <td>3.350000e+02</td>\n",
              "      <td>2.087215e+05</td>\n",
              "      <td>1.073152e+05</td>\n",
              "      <td>1.442584e+05</td>\n",
              "      <td>9.430367e+05</td>\n",
              "      <td>1.111909e+06</td>\n",
              "      <td>0.000000e+00</td>\n",
              "      <td>0.000000e+00</td>\n",
              "    </tr>\n",
              "    <tr>\n",
              "      <th>max</th>\n",
              "      <td>7.430000e+02</td>\n",
              "      <td>9.244552e+07</td>\n",
              "      <td>5.958504e+07</td>\n",
              "      <td>4.958504e+07</td>\n",
              "      <td>3.560159e+08</td>\n",
              "      <td>3.561793e+08</td>\n",
              "      <td>1.000000e+00</td>\n",
              "      <td>1.000000e+00</td>\n",
              "    </tr>\n",
              "  </tbody>\n",
              "</table>\n",
              "</div>\n",
              "      <button class=\"colab-df-convert\" onclick=\"convertToInteractive('df-ad99c4c2-7c89-4f66-8baa-4e30ff19b5d7')\"\n",
              "              title=\"Convert this dataframe to an interactive table.\"\n",
              "              style=\"display:none;\">\n",
              "        \n",
              "  <svg xmlns=\"http://www.w3.org/2000/svg\" height=\"24px\"viewBox=\"0 0 24 24\"\n",
              "       width=\"24px\">\n",
              "    <path d=\"M0 0h24v24H0V0z\" fill=\"none\"/>\n",
              "    <path d=\"M18.56 5.44l.94 2.06.94-2.06 2.06-.94-2.06-.94-.94-2.06-.94 2.06-2.06.94zm-11 1L8.5 8.5l.94-2.06 2.06-.94-2.06-.94L8.5 2.5l-.94 2.06-2.06.94zm10 10l.94 2.06.94-2.06 2.06-.94-2.06-.94-.94-2.06-.94 2.06-2.06.94z\"/><path d=\"M17.41 7.96l-1.37-1.37c-.4-.4-.92-.59-1.43-.59-.52 0-1.04.2-1.43.59L10.3 9.45l-7.72 7.72c-.78.78-.78 2.05 0 2.83L4 21.41c.39.39.9.59 1.41.59.51 0 1.02-.2 1.41-.59l7.78-7.78 2.81-2.81c.8-.78.8-2.07 0-2.86zM5.41 20L4 18.59l7.72-7.72 1.47 1.35L5.41 20z\"/>\n",
              "  </svg>\n",
              "      </button>\n",
              "      \n",
              "  <style>\n",
              "    .colab-df-container {\n",
              "      display:flex;\n",
              "      flex-wrap:wrap;\n",
              "      gap: 12px;\n",
              "    }\n",
              "\n",
              "    .colab-df-convert {\n",
              "      background-color: #E8F0FE;\n",
              "      border: none;\n",
              "      border-radius: 50%;\n",
              "      cursor: pointer;\n",
              "      display: none;\n",
              "      fill: #1967D2;\n",
              "      height: 32px;\n",
              "      padding: 0 0 0 0;\n",
              "      width: 32px;\n",
              "    }\n",
              "\n",
              "    .colab-df-convert:hover {\n",
              "      background-color: #E2EBFA;\n",
              "      box-shadow: 0px 1px 2px rgba(60, 64, 67, 0.3), 0px 1px 3px 1px rgba(60, 64, 67, 0.15);\n",
              "      fill: #174EA6;\n",
              "    }\n",
              "\n",
              "    [theme=dark] .colab-df-convert {\n",
              "      background-color: #3B4455;\n",
              "      fill: #D2E3FC;\n",
              "    }\n",
              "\n",
              "    [theme=dark] .colab-df-convert:hover {\n",
              "      background-color: #434B5C;\n",
              "      box-shadow: 0px 1px 3px 1px rgba(0, 0, 0, 0.15);\n",
              "      filter: drop-shadow(0px 1px 2px rgba(0, 0, 0, 0.3));\n",
              "      fill: #FFFFFF;\n",
              "    }\n",
              "  </style>\n",
              "\n",
              "      <script>\n",
              "        const buttonEl =\n",
              "          document.querySelector('#df-ad99c4c2-7c89-4f66-8baa-4e30ff19b5d7 button.colab-df-convert');\n",
              "        buttonEl.style.display =\n",
              "          google.colab.kernel.accessAllowed ? 'block' : 'none';\n",
              "\n",
              "        async function convertToInteractive(key) {\n",
              "          const element = document.querySelector('#df-ad99c4c2-7c89-4f66-8baa-4e30ff19b5d7');\n",
              "          const dataTable =\n",
              "            await google.colab.kernel.invokeFunction('convertToInteractive',\n",
              "                                                     [key], {});\n",
              "          if (!dataTable) return;\n",
              "\n",
              "          const docLinkHtml = 'Like what you see? Visit the ' +\n",
              "            '<a target=\"_blank\" href=https://colab.research.google.com/notebooks/data_table.ipynb>data table notebook</a>'\n",
              "            + ' to learn more about interactive tables.';\n",
              "          element.innerHTML = '';\n",
              "          dataTable['output_type'] = 'display_data';\n",
              "          await google.colab.output.renderOutput(dataTable, element);\n",
              "          const docLink = document.createElement('div');\n",
              "          docLink.innerHTML = docLinkHtml;\n",
              "          element.appendChild(docLink);\n",
              "        }\n",
              "      </script>\n",
              "    </div>\n",
              "  </div>\n",
              "  "
            ],
            "text/plain": [
              "               step        amount  oldbalanceOrg  newbalanceOrig  \\\n",
              "count  6.362620e+06  6.362620e+06   6.362620e+06    6.362620e+06   \n",
              "mean   2.433972e+02  1.798619e+05   8.338831e+05    8.551137e+05   \n",
              "std    1.423320e+02  6.038582e+05   2.888243e+06    2.924049e+06   \n",
              "min    1.000000e+00  0.000000e+00   0.000000e+00    0.000000e+00   \n",
              "25%    1.560000e+02  1.338957e+04   0.000000e+00    0.000000e+00   \n",
              "50%    2.390000e+02  7.487194e+04   1.420800e+04    0.000000e+00   \n",
              "75%    3.350000e+02  2.087215e+05   1.073152e+05    1.442584e+05   \n",
              "max    7.430000e+02  9.244552e+07   5.958504e+07    4.958504e+07   \n",
              "\n",
              "       oldbalanceDest  newbalanceDest       isFraud  isFlaggedFraud  \n",
              "count    6.362620e+06    6.362620e+06  6.362620e+06    6.362620e+06  \n",
              "mean     1.100702e+06    1.224996e+06  1.290820e-03    2.514687e-06  \n",
              "std      3.399180e+06    3.674129e+06  3.590480e-02    1.585775e-03  \n",
              "min      0.000000e+00    0.000000e+00  0.000000e+00    0.000000e+00  \n",
              "25%      0.000000e+00    0.000000e+00  0.000000e+00    0.000000e+00  \n",
              "50%      1.327057e+05    2.146614e+05  0.000000e+00    0.000000e+00  \n",
              "75%      9.430367e+05    1.111909e+06  0.000000e+00    0.000000e+00  \n",
              "max      3.560159e+08    3.561793e+08  1.000000e+00    1.000000e+00  "
            ]
          },
          "execution_count": 6,
          "metadata": {},
          "output_type": "execute_result"
        }
      ],
      "source": [
        "df.describe()"
      ]
    },
    {
      "cell_type": "code",
      "execution_count": 7,
      "metadata": {
        "colab": {
          "base_uri": "https://localhost:8080/",
          "height": 300
        },
        "id": "HnLQuNAMSBY9",
        "outputId": "09f864fa-1029-4f66-d85d-2dcf3877cb3d"
      },
      "outputs": [
        {
          "data": {
            "text/html": [
              "<style type=\"text/css\">\n",
              "#T_1202f_row0_col0 {\n",
              "  background-color: #bbdcbb;\n",
              "  color: #000000;\n",
              "}\n",
              "#T_1202f_row0_col1, #T_1202f_row0_col2, #T_1202f_row0_col4, #T_1202f_row0_col5, #T_1202f_row1_col1, #T_1202f_row1_col4, #T_1202f_row2_col0, #T_1202f_row2_col1, #T_1202f_row2_col2, #T_1202f_row2_col3, #T_1202f_row2_col4, #T_1202f_row2_col5, #T_1202f_row3_col1, #T_1202f_row3_col2, #T_1202f_row3_col3, #T_1202f_row3_col4, #T_1202f_row3_col5 {\n",
              "  background-color: #ebf3eb;\n",
              "  color: #000000;\n",
              "}\n",
              "#T_1202f_row0_col3 {\n",
              "  background-color: #ddecdd;\n",
              "  color: #000000;\n",
              "}\n",
              "#T_1202f_row1_col0 {\n",
              "  background-color: #9acb9a;\n",
              "  color: #000000;\n",
              "}\n",
              "#T_1202f_row1_col2 {\n",
              "  background-color: #75b975;\n",
              "  color: #f1f1f1;\n",
              "}\n",
              "#T_1202f_row1_col3 {\n",
              "  background-color: #d6e9d6;\n",
              "  color: #000000;\n",
              "}\n",
              "#T_1202f_row1_col5 {\n",
              "  background-color: #78bb78;\n",
              "  color: #f1f1f1;\n",
              "}\n",
              "#T_1202f_row3_col0 {\n",
              "  background-color: #e5f0e5;\n",
              "  color: #000000;\n",
              "}\n",
              "#T_1202f_row4_col0 {\n",
              "  background-color: #87c287;\n",
              "  color: #000000;\n",
              "}\n",
              "#T_1202f_row4_col1, #T_1202f_row4_col3, #T_1202f_row4_col4, #T_1202f_row4_col5, #T_1202f_row5_col0, #T_1202f_row5_col1, #T_1202f_row5_col2 {\n",
              "  background-color: #008000;\n",
              "  color: #f1f1f1;\n",
              "}\n",
              "#T_1202f_row4_col2 {\n",
              "  background-color: #76ba76;\n",
              "  color: #f1f1f1;\n",
              "}\n",
              "#T_1202f_row5_col3 {\n",
              "  background-color: #a0cea0;\n",
              "  color: #000000;\n",
              "}\n",
              "#T_1202f_row5_col4 {\n",
              "  background-color: #a6d2a6;\n",
              "  color: #000000;\n",
              "}\n",
              "#T_1202f_row5_col5 {\n",
              "  background-color: #8ac48a;\n",
              "  color: #000000;\n",
              "}\n",
              "</style>\n",
              "<table id=\"T_1202f\" class=\"dataframe\">\n",
              "  <thead>\n",
              "    <tr>\n",
              "      <th class=\"blank level0\" >&nbsp;</th>\n",
              "      <th id=\"T_1202f_level0_col0\" class=\"col_heading level0 col0\" colspan=\"3\">sum</th>\n",
              "      <th id=\"T_1202f_level0_col3\" class=\"col_heading level0 col3\" colspan=\"3\">std</th>\n",
              "    </tr>\n",
              "    <tr>\n",
              "      <th class=\"blank level1\" >&nbsp;</th>\n",
              "      <th id=\"T_1202f_level1_col0\" class=\"col_heading level1 col0\" >amount</th>\n",
              "      <th id=\"T_1202f_level1_col1\" class=\"col_heading level1 col1\" >isFlaggedFraud</th>\n",
              "      <th id=\"T_1202f_level1_col2\" class=\"col_heading level1 col2\" >isFraud</th>\n",
              "      <th id=\"T_1202f_level1_col3\" class=\"col_heading level1 col3\" >amount</th>\n",
              "      <th id=\"T_1202f_level1_col4\" class=\"col_heading level1 col4\" >isFlaggedFraud</th>\n",
              "      <th id=\"T_1202f_level1_col5\" class=\"col_heading level1 col5\" >isFraud</th>\n",
              "    </tr>\n",
              "    <tr>\n",
              "      <th class=\"index_name level0\" >type</th>\n",
              "      <th class=\"blank col0\" >&nbsp;</th>\n",
              "      <th class=\"blank col1\" >&nbsp;</th>\n",
              "      <th class=\"blank col2\" >&nbsp;</th>\n",
              "      <th class=\"blank col3\" >&nbsp;</th>\n",
              "      <th class=\"blank col4\" >&nbsp;</th>\n",
              "      <th class=\"blank col5\" >&nbsp;</th>\n",
              "    </tr>\n",
              "  </thead>\n",
              "  <tbody>\n",
              "    <tr>\n",
              "      <th id=\"T_1202f_level0_row0\" class=\"row_heading level0 row0\" >CASH_IN</th>\n",
              "      <td id=\"T_1202f_row0_col0\" class=\"data row0 col0\" >236367391912.459991</td>\n",
              "      <td id=\"T_1202f_row0_col1\" class=\"data row0 col1\" >0</td>\n",
              "      <td id=\"T_1202f_row0_col2\" class=\"data row0 col2\" >0</td>\n",
              "      <td id=\"T_1202f_row0_col3\" class=\"data row0 col3\" >126508.255272</td>\n",
              "      <td id=\"T_1202f_row0_col4\" class=\"data row0 col4\" >0.000000</td>\n",
              "      <td id=\"T_1202f_row0_col5\" class=\"data row0 col5\" >0.000000</td>\n",
              "    </tr>\n",
              "    <tr>\n",
              "      <th id=\"T_1202f_level0_row1\" class=\"row_heading level0 row1\" >CASH_OUT</th>\n",
              "      <td id=\"T_1202f_row1_col0\" class=\"data row1 col0\" >394412995224.489990</td>\n",
              "      <td id=\"T_1202f_row1_col1\" class=\"data row1 col1\" >0</td>\n",
              "      <td id=\"T_1202f_row1_col2\" class=\"data row1 col2\" >4116</td>\n",
              "      <td id=\"T_1202f_row1_col3\" class=\"data row1 col3\" >175329.744483</td>\n",
              "      <td id=\"T_1202f_row1_col4\" class=\"data row1 col4\" >0.000000</td>\n",
              "      <td id=\"T_1202f_row1_col5\" class=\"data row1 col5\" >0.042851</td>\n",
              "    </tr>\n",
              "    <tr>\n",
              "      <th id=\"T_1202f_level0_row2\" class=\"row_heading level0 row2\" >DEBIT</th>\n",
              "      <td id=\"T_1202f_row2_col0\" class=\"data row2 col0\" >227199221.280000</td>\n",
              "      <td id=\"T_1202f_row2_col1\" class=\"data row2 col1\" >0</td>\n",
              "      <td id=\"T_1202f_row2_col2\" class=\"data row2 col2\" >0</td>\n",
              "      <td id=\"T_1202f_row2_col3\" class=\"data row2 col3\" >13318.535518</td>\n",
              "      <td id=\"T_1202f_row2_col4\" class=\"data row2 col4\" >0.000000</td>\n",
              "      <td id=\"T_1202f_row2_col5\" class=\"data row2 col5\" >0.000000</td>\n",
              "    </tr>\n",
              "    <tr>\n",
              "      <th id=\"T_1202f_level0_row3\" class=\"row_heading level0 row3\" >PAYMENT</th>\n",
              "      <td id=\"T_1202f_row3_col0\" class=\"data row3 col0\" >28093371138.369999</td>\n",
              "      <td id=\"T_1202f_row3_col1\" class=\"data row3 col1\" >0</td>\n",
              "      <td id=\"T_1202f_row3_col2\" class=\"data row3 col2\" >0</td>\n",
              "      <td id=\"T_1202f_row3_col3\" class=\"data row3 col3\" >12556.450186</td>\n",
              "      <td id=\"T_1202f_row3_col4\" class=\"data row3 col4\" >0.000000</td>\n",
              "      <td id=\"T_1202f_row3_col5\" class=\"data row3 col5\" >0.000000</td>\n",
              "    </tr>\n",
              "    <tr>\n",
              "      <th id=\"T_1202f_level0_row4\" class=\"row_heading level0 row4\" >TRANSFER</th>\n",
              "      <td id=\"T_1202f_row4_col0\" class=\"data row4 col0\" >485291987263.169983</td>\n",
              "      <td id=\"T_1202f_row4_col1\" class=\"data row4 col1\" >16</td>\n",
              "      <td id=\"T_1202f_row4_col2\" class=\"data row4 col2\" >4097</td>\n",
              "      <td id=\"T_1202f_row4_col3\" class=\"data row4 col3\" >1879573.528908</td>\n",
              "      <td id=\"T_1202f_row4_col4\" class=\"data row4 col4\" >0.005479</td>\n",
              "      <td id=\"T_1202f_row4_col5\" class=\"data row4 col5\" >0.087344</td>\n",
              "    </tr>\n",
              "    <tr>\n",
              "      <th id=\"T_1202f_level0_row5\" class=\"row_heading level0 row5\" >All</th>\n",
              "      <td id=\"T_1202f_row5_col0\" class=\"data row5 col0\" >1144392944759.770020</td>\n",
              "      <td id=\"T_1202f_row5_col1\" class=\"data row5 col1\" >16</td>\n",
              "      <td id=\"T_1202f_row5_col2\" class=\"data row5 col2\" >8213</td>\n",
              "      <td id=\"T_1202f_row5_col3\" class=\"data row5 col3\" >603858.184009</td>\n",
              "      <td id=\"T_1202f_row5_col4\" class=\"data row5 col4\" >0.001586</td>\n",
              "      <td id=\"T_1202f_row5_col5\" class=\"data row5 col5\" >0.035905</td>\n",
              "    </tr>\n",
              "  </tbody>\n",
              "</table>\n"
            ],
            "text/plain": [
              "<pandas.io.formats.style.Styler at 0x7f335ecf7f40>"
            ]
          },
          "execution_count": 7,
          "metadata": {},
          "output_type": "execute_result"
        }
      ],
      "source": [
        "df_pivot=pd.pivot_table(df,index=[\"type\"],\n",
        "                               values=['amount','isFraud','isFlaggedFraud'],\n",
        "                               aggfunc=[np.sum,np.std], margins=True)\n",
        "\n",
        "#Adding color gradient \n",
        "cm = sns.light_palette(\"green\", as_cmap=True)\n",
        "df_pivot.style.background_gradient(cmap=cm)"
      ]
    },
    {
      "cell_type": "code",
      "execution_count": 8,
      "metadata": {
        "colab": {
          "base_uri": "https://localhost:8080/",
          "height": 359
        },
        "id": "uESLDRxskG_N",
        "outputId": "1e738039-62fe-42b9-ded1-a4c51ce38f22"
      },
      "outputs": [
        {
          "data": {
            "text/plain": [
              "<AxesSubplot:>"
            ]
          },
          "execution_count": 8,
          "metadata": {},
          "output_type": "execute_result"
        },
        {
          "data": {
            "image/png": "[encoded data removed]",
            "text/plain": [
              "<Figure size 432x288 with 2 Axes>"
            ]
          },
          "metadata": {
            "needs_background": "light"
          },
          "output_type": "display_data"
        }
      ],
      "source": [
        "sns.heatmap(df.corr(), annot = True, cmap= 'icefire')"
      ]
    },
    {
      "cell_type": "markdown",
      "metadata": {
        "id": "VjkGbHfpwbkN"
      },
      "source": [
        " From the hypothesis, isFraud is the indicator which indicates the actual fraud transactions whereas isFlaggedFraud is what the system prevents the transaction due to some thresholds (amount 200k transactions) being triggered."
      ]
    },
    {
      "cell_type": "code",
      "execution_count": 9,
      "metadata": {
        "colab": {
          "base_uri": "https://localhost:8080/",
          "height": 0
        },
        "id": "rleIOPUEfFxb",
        "outputId": "dc0535a2-94f4-41c7-e3ea-ea43acc63cc9"
      },
      "outputs": [
        {
          "name": "stdout",
          "output_type": "stream",
          "text": [
            "isFraud counts:\n",
            " 0    6354407\n",
            "1       8213\n",
            "Name: isFraud, dtype: int64\n",
            "isFlaggedFraud counts:\n",
            " 0    6362604\n",
            "1         16\n",
            "Name: isFlaggedFraud, dtype: int64\n"
          ]
        }
      ],
      "source": [
        "print('isFraud counts:\\n',df['isFraud'].value_counts())\n",
        "print('isFlaggedFraud counts:\\n',df['isFlaggedFraud'].value_counts())"
      ]
    },
    {
      "cell_type": "markdown",
      "metadata": {
        "id": "Vb-H01f_w9sH"
      },
      "source": [
        "Look at this skewed show that how dataset imbalanced is =))"
      ]
    },
    {
      "cell_type": "code",
      "execution_count": 11,
      "metadata": {
        "colab": {
          "base_uri": "https://localhost:8080/",
          "height": 402
        },
        "id": "t39KJ-gGk2LI",
        "outputId": "879d8329-7ce2-4e5d-fd57-1b21c23ddc8d"
      },
      "outputs": [
        {
          "name": "stdout",
          "output_type": "stream",
          "text": [
            "No Frauds 99.87 % of the dataset\n",
            "Frauds 0.13 % of the dataset\n"
          ]
        },
        {
          "name": "stderr",
          "output_type": "stream",
          "text": [
            "/usr/local/lib/python3.9/dist-packages/seaborn/_decorators.py:36: FutureWarning: Pass the following variable as a keyword arg: x. From version 0.12, the only valid positional argument will be `data`, and passing other arguments without an explicit keyword will result in an error or misinterpretation.\n",
            "  warnings.warn(\n"
          ]
        },
        {
          "data": {
            "image/png": "[encoded data removed]",
            "text/plain": [
              "<Figure size 432x288 with 1 Axes>"
            ]
          },
          "metadata": {
            "needs_background": "light"
          },
          "output_type": "display_data"
        }
      ],
      "source": [
        "print('No Frauds', round(df['isFraud'].value_counts()[0]/len(df) * 100,2), '% of the dataset')\n",
        "print('Frauds', round(df['isFraud'].value_counts()[1]/len(df) * 100,2), '% of the dataset')\n",
        "\n",
        "sns.countplot('isFraud', data=df)\n",
        "plt.title('Fraud Distributions \\n (0: Non-Fraud || 1: Fraud)', fontsize=14)\n",
        "value_counts = df['isFraud'].value_counts()\n",
        "\n",
        "# Iterate over the value counts and add them to the plot\n",
        "for i, count in enumerate(value_counts):\n",
        "    plt.text(i, count+100, count, ha='center')  \n",
        "\n",
        "plt.show()"
      ]
    },
    {
      "cell_type": "markdown",
      "metadata": {
        "id": "F3bCsT_KlLM9"
      },
      "source": [
        "The original dataset is imbalanced between Fraud and non-Fraud, most of them are non-fraud. If we use this dataframe as the base for our predictive models and analysis we might get a lot of errors and our algorithms will probably overfit since it will \"assume\" that most transactions are non-fraud."
      ]
    },
    {
      "cell_type": "markdown",
      "metadata": {
        "id": "kFxM_LpbYxK5"
      },
      "source": [
        "## FlaggedFraud"
      ]
    },
    {
      "cell_type": "markdown",
      "metadata": {
        "id": "2BhDakPc2lL-"
      },
      "source": [
        "Now let see whether which type have only 16 FlaggedFraud in 6 milion transactions =))"
      ]
    },
    {
      "cell_type": "code",
      "execution_count": 12,
      "metadata": {
        "colab": {
          "base_uri": "https://localhost:8080/",
          "height": 0
        },
        "id": "i_QIHD5r27o3",
        "outputId": "0dbc1377-2319-4023-e3c4-9bccec934c35"
      },
      "outputs": [
        {
          "name": "stdout",
          "output_type": "stream",
          "text": [
            "The types of flagged fraudulent transactions are ['TRANSFER']\n"
          ]
        }
      ],
      "source": [
        "print('The types of flagged fraudulent transactions are {}'.format(list(df.loc[df['isFlaggedFraud'] == 1].type.drop_duplicates().values)))"
      ]
    },
    {
      "cell_type": "code",
      "execution_count": 13,
      "metadata": {
        "colab": {
          "base_uri": "https://localhost:8080/",
          "height": 0
        },
        "id": "3-VJQuCX3VlO",
        "outputId": "2103e19f-1ae0-4e23-a1a6-a3be3d5b0827"
      },
      "outputs": [
        {
          "name": "stdout",
          "output_type": "stream",
          "text": [
            "The number of flagged fraudulent TRANSFER = 16\n"
          ]
        }
      ],
      "source": [
        "print('The number of flagged fraudulent TRANSFER = {}'.format(len(df.loc[(df['isFlaggedFraud'] == 1) & (df['type'] == 'TRANSFER')])))"
      ]
    },
    {
      "cell_type": "code",
      "execution_count": 14,
      "metadata": {
        "colab": {
          "base_uri": "https://localhost:8080/",
          "height": 0
        },
        "id": "JFtKqQI8LjVF",
        "outputId": "3c284bf7-6f2a-4e95-e73a-9a8c9583cfd2"
      },
      "outputs": [
        {
          "name": "stdout",
          "output_type": "stream",
          "text": [
            "16 observations were flagged correctly and 0 observations were flagged wrongly for a total of 16 flagged observations.\n",
            "number of observations that should be flagged:  2740\n"
          ]
        }
      ],
      "source": [
        "flagged = df.loc[df[\"isFlaggedFraud\"] == 1] #observation\n",
        "flagged_correctly = sum(flagged[\"isFraud\"] == 1) #number of transactions is actual fraud and flagged\n",
        "flagged_wrongly = len(flagged) - flagged_correctly\n",
        "print(flagged_correctly,\"observations were flagged correctly and\", flagged_wrongly, \\\n",
        "      \"observations were flagged wrongly for a total of\", len(flagged), \"flagged observations.\")\n",
        "\n",
        "# how many observations where the transaction is fraudulent, the transaction is a transfer\n",
        "# and the amount is greater than 200.000 are in the dataset\n",
        "should_be_flagged = df.loc[df[\"isFraud\"] == 1][(df.loc[df[\"isFraud\"] == 1][\"amount\"] > 200000) & (df.loc[df[\"isFraud\"] == 1][\"type\"] == \"TRANSFER\")]\n",
        "print(\"number of observations that should be flagged: \",len(should_be_flagged))"
      ]
    },
    {
      "cell_type": "code",
      "execution_count": 15,
      "metadata": {
        "colab": {
          "base_uri": "https://localhost:8080/",
          "height": 0
        },
        "id": "UTo4QGs9bQZE",
        "outputId": "0d31c338-056b-40dd-f123-652acfcf5724"
      },
      "outputs": [
        {
          "name": "stdout",
          "output_type": "stream",
          "text": [
            "Min amount transacted when isFlaggedFraud is set = 353874.22\n",
            "Max amount transacted in a TRANSFER where isFlaggedFraud is not set = 92445516.64\n"
          ]
        }
      ],
      "source": [
        "dfTransfer = df.loc[df[\"type\"] == 'TRANSFER']\n",
        "dfFlagged = df.loc[df[\"isFlaggedFraud\"] == 1]\n",
        "dfNotFlagged = df.loc[df[\"isFlaggedFraud\"] == 0]\n",
        "\n",
        "print('Min amount transacted when isFlaggedFraud is set = {}'.format(dfFlagged[\"amount\"].min()))\n",
        "\n",
        "print('Max amount transacted in a TRANSFER where isFlaggedFraud is not set =\\\n",
        " {}'.format(dfTransfer.loc[dfTransfer[\"isFlaggedFraud\"] == 0][\"amount\"].max()))"
      ]
    },
    {
      "cell_type": "code",
      "execution_count": 16,
      "metadata": {
        "colab": {
          "base_uri": "https://localhost:8080/",
          "height": 0
        },
        "id": "2FS0ZEsfcHLj",
        "outputId": "15a3c2ea-37d4-4950-d59f-156d4bb53ee2"
      },
      "outputs": [
        {
          "name": "stdout",
          "output_type": "stream",
          "text": [
            "Have originators of transactions flagged as fraud transacted more than once? False\n",
            "Have destinations for transactions flagged as fraud initiated other transactions? False\n",
            "How many destination accounts of transactions flagged as fraud have been destination accounts more than once?: 2\n"
          ]
        }
      ],
      "source": [
        "print('Have originators of transactions flagged as fraud transacted more than once? {}'\\\n",
        ".format((dfFlagged[\"nameOrig\"].isin(pd.concat([dfNotFlagged[\"nameOrig\"], dfNotFlagged[\"nameDest\"]]))).any()))\n",
        "\n",
        "print('Have destinations for transactions flagged as fraud initiated other transactions? \\\n",
        "{}'.format((dfFlagged[\"nameDest\"].isin(dfNotFlagged[\"nameOrig\"])).any()))\n",
        "# Since only 2 destination accounts of 16 that have 'isFlaggedFraud' set have been destination accounts more than once,\n",
        "# Clearly 'isFlaggedFraud' being set is independent of whether a destination account has been used before or not\n",
        "\n",
        "print('How many destination accounts of transactions flagged as fraud have been destination accounts more than once?: {}'\\\n",
        ".format(sum(dfFlagged[\"nameDest\"].isin(dfNotFlagged[\"nameDest\"])))) "
      ]
    },
    {
      "cell_type": "markdown",
      "metadata": {
        "id": "t04pDWGrMFs7"
      },
      "source": [
        "In a modified dataset with more than 2 million observations, a variable that brings attention to only 16 observations is insignificant.\n",
        "\n",
        "Furthermore, the number of transactions that should have been flagged(16) far exceeds the number of observations that were actually flagged(2740).\n",
        "\n",
        "For that reason, I am omitting the isFlaggedFraud column from the analysis."
      ]
    },
    {
      "cell_type": "markdown",
      "metadata": {
        "id": "wXgQzfJCCPlu"
      },
      "source": [
        "## Account type"
      ]
    },
    {
      "cell_type": "markdown",
      "metadata": {
        "id": "9eqlHHXmCV6m"
      },
      "source": [
        "One feature of the dataset that is not immediately presented on the kaggle overview page is the account types \"C\" (customer) and \"M\" (Merchant), which would be the first character for each value under nameOrig and nameDest. Could this be a predictor?"
      ]
    },
    {
      "cell_type": "code",
      "execution_count": 17,
      "metadata": {
        "id": "SmJ8jaSOCRjc"
      },
      "outputs": [],
      "source": [
        "data_account = df.copy() # creating copy of dataset in case I need original dataset\n",
        "data_account[\"type1\"] = np.nan # initializing feature column\n",
        "\n",
        "# filling feature column\n",
        "data_account.loc[df[\"nameOrig\"].str.contains('C') & df[\"nameDest\"].str.contains('C'),\"type1\"] = \"CC\" \n",
        "data_account.loc[df[\"nameOrig\"].str.contains('C') & df[\"nameDest\"].str.contains('M'),\"type1\"] = \"CM\"\n",
        "data_account.loc[df[\"nameOrig\"].str.contains('M') & df[\"nameDest\"].str.contains('C'),\"type1\"] = \"MC\"\n",
        "data_account.loc[df[\"nameOrig\"].str.contains('M') & df[\"nameDest\"].str.contains('M'),\"type1\"] = \"MM\""
      ]
    },
    {
      "cell_type": "code",
      "execution_count": 18,
      "metadata": {
        "colab": {
          "base_uri": "https://localhost:8080/",
          "height": 0
        },
        "id": "SkQcZjqoCmad",
        "outputId": "a0de7769-de3d-4a21-8ced-c17ade49a7b7"
      },
      "outputs": [
        {
          "name": "stdout",
          "output_type": "stream",
          "text": [
            "Account types count: \n",
            " CC    4211125\n",
            "CM    2151495\n",
            "Name: type1, dtype: int64\n",
            "\n",
            "Fraud transactions by type1: \n",
            " CC    8213\n",
            "Name: type1, dtype: int64\n",
            "\n",
            "Valid transactions by type1: \n",
            " CC    4202912\n",
            "CM    2151495\n",
            "Name: type1, dtype: int64\n"
          ]
        }
      ],
      "source": [
        "# seeing the counts of transactions by type1 (CC,CM,MC,MM)\n",
        "type_account = data_account['type1'].value_counts()\n",
        "fraud_type_account = data_account[data_account[\"isFraud\"] == 1][\"type1\"].value_counts()\n",
        "non_fraud_type_account = data_account[data_account[\"isFraud\"] == 0][\"type1\"].value_counts()\n",
        "\n",
        "print(\"Account types count: \\n\", type_account)\n",
        "print(\"\\nFraud transactions by type1: \\n\", fraud_type_account)\n",
        "print(\"\\nValid transactions by type1: \\n\", non_fraud_type_account)"
      ]
    },
    {
      "cell_type": "code",
      "execution_count": 19,
      "metadata": {
        "colab": {
          "base_uri": "https://localhost:8080/",
          "height": 342
        },
        "id": "TzHIl77XEtFB",
        "outputId": "923fe758-5737-4b47-8277-8338297e9055"
      },
      "outputs": [
        {
          "data": {
            "image/png": "[encoded data removed]",
            "text/plain": [
              "<Figure size 1296x720 with 3 Axes>"
            ]
          },
          "metadata": {},
          "output_type": "display_data"
        }
      ],
      "source": [
        "fig, ax = plt.subplots(1, 3, figsize=(18,10))\n",
        "\n",
        "# add count values to autopct string\n",
        "fraud_autopct = lambda p: '{:.0f}\\n({:.1f}%)'.format(p * sum(fraud_type_account.values)/100, p)\n",
        "non_fraud_autopct = lambda p: '{:.0f}\\n({:.1f}%)'.format(p * sum(non_fraud_type_account.values)/100, p)\n",
        "type_account_autpct = lambda p:'{:.0f}\\n({:.1f}%)'.format(p * sum(type_account.values)/100, p)\n",
        "\n",
        "ax[0].pie(type_account.values, labels = type_account.index, autopct = type_account_autpct, colors = ['#DD7596', '#B7C3F3'])\n",
        "ax[0].set_title('Type account')\n",
        "\n",
        "ax[1].pie(fraud_type_account.values, labels=fraud_type_account.index, autopct=fraud_autopct)\n",
        "ax[1].set_title('Fraudulent transactions')\n",
        "\n",
        "ax[2].pie(non_fraud_type_account.values, labels=non_fraud_type_account.index, autopct=non_fraud_autopct)\n",
        "ax[2].set_title('Non-fraudulent transactions')\n",
        "\n",
        "plt.show()"
      ]
    },
    {
      "cell_type": "markdown",
      "metadata": {
        "id": "AiBmrZtWCq37"
      },
      "source": [
        "From the dataset, it seems that fraud transactions only occur when the transaction type1 is CC (Customer to Customer). I will assume that fraudulent transaction only occur when transaction type1 is CC.\n",
        "\n",
        "However, since all relevant observations have type1 = \"CC\", the type1 column is no longer necessary."
      ]
    },
    {
      "cell_type": "markdown",
      "metadata": {
        "id": "HI-dj2KwCNFc"
      },
      "source": [
        "## Transaction type"
      ]
    },
    {
      "cell_type": "code",
      "execution_count": 20,
      "metadata": {
        "colab": {
          "base_uri": "https://localhost:8080/",
          "height": 482
        },
        "id": "1RwXdvOzkISn",
        "outputId": "d5a8a2c8-0afe-4178-caaf-a3734913de35"
      },
      "outputs": [
        {
          "data": {
            "image/png": "[encoded data removed]",
            "text/plain": [
              "<Figure size 576x576 with 1 Axes>"
            ]
          },
          "metadata": {},
          "output_type": "display_data"
        }
      ],
      "source": [
        "type_transaction = df['type'].value_counts()\n",
        "\n",
        "plt.figure(figsize=(8,8))\n",
        "plt.pie(type_transaction.values, labels=type_transaction.index, autopct='%1.0f%%')\n",
        "plt.title('Percentage type of Transaction')\n",
        "plt.legend(loc='upper left', title = 'Type of transaction')\n",
        "plt.show()"
      ]
    },
    {
      "cell_type": "code",
      "execution_count": 21,
      "metadata": {
        "colab": {
          "base_uri": "https://localhost:8080/",
          "height": 0
        },
        "id": "67UUuQkgxcU9",
        "outputId": "85c1e13f-5053-42e1-d0d0-9809e815911e"
      },
      "outputs": [
        {
          "name": "stdout",
          "output_type": "stream",
          "text": [
            "The types of fraudulent transactions are ['TRANSFER', 'CASH_OUT']\n"
          ]
        }
      ],
      "source": [
        "print('The types of fraudulent transactions are {}'.format(list(df.loc[df['isFraud'] == 1][\"type\"].drop_duplicates().values))) "
      ]
    },
    {
      "cell_type": "code",
      "execution_count": 22,
      "metadata": {
        "colab": {
          "base_uri": "https://localhost:8080/",
          "height": 0
        },
        "id": "qlrLWQyeGCDf",
        "outputId": "a9311c71-af2e-4fc9-d0e1-8589f4516ee6"
      },
      "outputs": [
        {
          "name": "stdout",
          "output_type": "stream",
          "text": [
            "The number of fraudulent TRANSFERs = 4097\n",
            "The number of fraudulent CASH_OUTs = 4116\n"
          ]
        }
      ],
      "source": [
        "dfFraudTransfer = df.loc[(df['isFraud'] == 1) & (df['type'] == 'TRANSFER')]\n",
        "dfFraudCashout = df.loc[(df['isFraud'] == 1) & (df['type'] == 'CASH_OUT')]\n",
        "\n",
        "print ('The number of fraudulent TRANSFERs = {}'.format(len(dfFraudTransfer)))\n",
        "print ('The number of fraudulent CASH_OUTs = {}'.format(len(dfFraudCashout)))"
      ]
    },
    {
      "cell_type": "code",
      "execution_count": 23,
      "metadata": {
        "colab": {
          "base_uri": "https://localhost:8080/",
          "height": 359
        },
        "id": "HTBwr_PU6iNQ",
        "outputId": "38140129-6fd6-4743-8720-304003556321"
      },
      "outputs": [
        {
          "data": {
            "image/png": "[encoded data removed]",
            "text/plain": [
              "<Figure size 432x288 with 1 Axes>"
            ]
          },
          "metadata": {
            "needs_background": "light"
          },
          "output_type": "display_data"
        }
      ],
      "source": [
        "ax = df.groupby(['type', 'isFraud']).size().plot(kind='bar')\n",
        "ax.set_title(\"The actual fraud & non-fraud per transaction type\")\n",
        "ax.set_xlabel(\"(Type, isFraud)\")\n",
        "ax.set_ylabel(\"Count of transaction\")\n",
        "for p in ax.patches:\n",
        "    ax.annotate(str(format(int(p.get_height()), ',d')), (p.get_x(), p.get_height()*1.01))"
      ]
    },
    {
      "cell_type": "markdown",
      "metadata": {
        "id": "DcZ94fglGCx_"
      },
      "source": [
        "It seem likes only TRANSFER and CASH_OUT transaction approximately have the same number of Fraud"
      ]
    },
    {
      "cell_type": "markdown",
      "metadata": {
        "id": "POc_bmiAZRRT"
      },
      "source": [
        "## Looking balances before and after the transaction"
      ]
    },
    {
      "cell_type": "markdown",
      "metadata": {
        "id": "wK053TfCeZb0"
      },
      "source": [
        "Whether account labels common to fraudulent TRANSFERs and CASH_OUTs?\n"
      ]
    },
    {
      "cell_type": "code",
      "execution_count": 24,
      "metadata": {
        "colab": {
          "base_uri": "https://localhost:8080/",
          "height": 0
        },
        "id": "THwwxRpKdAP-",
        "outputId": "c3195d18-1171-45ee-abad-9f39765f8f84"
      },
      "outputs": [
        {
          "name": "stdout",
          "output_type": "stream",
          "text": [
            "Within fraudulent transactions, are there destinations for TRANSFERS that are also originators for CASH_OUTs? False\n"
          ]
        }
      ],
      "source": [
        "dfFraudTransfer = df.loc[(df.isFraud == 1) & (df.type == 'TRANSFER')]\n",
        "dfFraudCashout = df.loc[(df.isFraud == 1) & (df.type == 'CASH_OUT')]\n",
        "\n",
        "print('Within fraudulent transactions, are there destinations for TRANSFERS that are also originators for CASH_OUTs? {}'\\\n",
        "      .format((dfFraudTransfer.nameDest.isin(dfFraudCashout.nameOrig)).any())) \n",
        "\n",
        "dfNotFraud = df.loc[df.isFraud == 0]"
      ]
    },
    {
      "cell_type": "code",
      "execution_count": 25,
      "metadata": {
        "colab": {
          "base_uri": "https://localhost:8080/",
          "height": 0
        },
        "id": "Rb2NMHzXh2XK",
        "outputId": "0fa27dc6-29ec-4c21-bac9-249dda08177b"
      },
      "outputs": [
        {
          "name": "stdout",
          "output_type": "stream",
          "text": [
            "\n",
            "Fraudulent TRANSFERs whose destination accounts are originators of genuine CASH_OUTs: \n",
            "\n",
            "         step      type      amount     nameOrig  oldbalanceOrg  \\\n",
            "1030443    65  TRANSFER  1282971.57  C1175896731     1282971.57   \n",
            "6039814   486  TRANSFER   214793.32  C2140495649      214793.32   \n",
            "6362556   738  TRANSFER   814689.88  C2029041842      814689.88   \n",
            "\n",
            "         newbalanceOrig     nameDest  oldbalanceDest  newbalanceDest  isFraud  \\\n",
            "1030443             0.0  C1714931087             0.0             0.0        1   \n",
            "6039814             0.0   C423543548             0.0             0.0        1   \n",
            "6362556             0.0  C1023330867             0.0             0.0        1   \n",
            "\n",
            "         isFlaggedFraud  \n",
            "1030443               0  \n",
            "6039814               0  \n",
            "6362556               0  \n"
          ]
        }
      ],
      "source": [
        "print('\\nFraudulent TRANSFERs whose destination accounts are originators of genuine CASH_OUTs: \\n\\n{}'\\\n",
        "      .format(dfFraudTransfer.loc[dfFraudTransfer.nameDest.\\\n",
        "                                  isin(dfNotFraud.loc[dfNotFraud.type == 'CASH_OUT'].nameOrig.drop_duplicates())]))"
      ]
    },
    {
      "cell_type": "code",
      "execution_count": 26,
      "metadata": {
        "colab": {
          "base_uri": "https://localhost:8080/",
          "height": 0
        },
        "id": "Snbj_e0ZiKyg",
        "outputId": "650e4117-28be-491b-dfdb-26c17f2bc4da"
      },
      "outputs": [
        {
          "name": "stdout",
          "output_type": "stream",
          "text": [
            "\n",
            "Fraudulent TRANSFER to C423543548 occured at step = 486 whereas genuine CASH_OUT from this account occured earlier at step = [185]\n",
            "\n",
            "Fraudulent TRANSFER to C423543548 occured at step = 486 whereas genuine CASH_OUT from this account occured earlier at step = [546]\n",
            "\n",
            "Fraudulent TRANSFER to C423543548 occured at step = 486 whereas genuine CASH_OUT from this account occured earlier at step = [132]\n"
          ]
        }
      ],
      "source": [
        "print('\\nFraudulent TRANSFER to C423543548 occured at step = 486 whereas genuine CASH_OUT from this account occured earlier at step = {}'\\\n",
        "      .format(dfNotFraud.loc[(dfNotFraud.type == 'CASH_OUT') & (dfNotFraud.nameOrig == 'C423543548')].step.values)) # 185\n",
        "\n",
        "print('\\nFraudulent TRANSFER to C423543548 occured at step = 486 whereas genuine CASH_OUT from this account occured earlier at step = {}'\\\n",
        "      .format(dfNotFraud.loc[(dfNotFraud.type == 'CASH_OUT') & (dfNotFraud.nameOrig == 'C1714931087')].step.values)) # 185\n",
        "\n",
        "print('\\nFraudulent TRANSFER to C423543548 occured at step = 486 whereas genuine CASH_OUT from this account occured earlier at step = {}'\\\n",
        "      .format(dfNotFraud.loc[(dfNotFraud.type == 'CASH_OUT') & (dfNotFraud.nameOrig == 'C1023330867')].step.values)) # 185"
      ]
    },
    {
      "cell_type": "markdown",
      "metadata": {
        "id": "JFxX2y3tiVjv"
      },
      "source": [
        "Noting from the nameOrig and nameDest features neither encode merchant accounts in the expected way, below, we drop these features from the data since they are meaningless."
      ]
    },
    {
      "cell_type": "markdown",
      "metadata": {
        "id": "8rrnJUK_ZbhQ"
      },
      "source": [
        "## Time step (Hour) and Amount transactions"
      ]
    },
    {
      "cell_type": "code",
      "execution_count": 27,
      "metadata": {
        "id": "D9QPSOs6Zdd-"
      },
      "outputs": [],
      "source": [
        "df_Fraud = df.loc[df[\"isFraud\"] == 1]\n",
        "df_Valid = df.loc[df[\"isFraud\"] == 0]"
      ]
    },
    {
      "cell_type": "code",
      "execution_count": 28,
      "metadata": {
        "colab": {
          "base_uri": "https://localhost:8080/",
          "height": 350
        },
        "id": "BK-bBMzTyX13",
        "outputId": "e7dad992-8850-4262-e7ab-ffd93693f610"
      },
      "outputs": [
        {
          "data": {
            "image/png": "[encoded data removed]",
            "text/plain": [
              "<Figure size 720x360 with 2 Axes>"
            ]
          },
          "metadata": {
            "needs_background": "light"
          },
          "output_type": "display_data"
        }
      ],
      "source": [
        "bins = round(744 / 10) #I take total step per 10, its equivalent each 10 hours per column\n",
        "\n",
        "fig, axs = plt.subplots(1, 2, figsize=(10, 5))\n",
        "\n",
        "# plot histogram for valid transactions\n",
        "df_Valid.hist(column=\"step\", color=\"green\", bins=bins, ax=axs[0])\n",
        "axs[0].set_xlabel(\"1 hour time step\")\n",
        "axs[0].set_ylabel(\"Number of transactions\")\n",
        "axs[0].set_title(\"Number of valid transactions over time\")\n",
        "\n",
        "# plot histogram for fraud transactions\n",
        "df_Fraud.hist(column=\"step\", color=\"red\", bins=bins, ax=axs[1])\n",
        "axs[1].set_xlabel(\"1 hour time step\")\n",
        "axs[1].set_ylabel(\"Number of transactions\")\n",
        "axs[1].set_title(\"Number of fraud transactions over time\")\n",
        "\n",
        "plt.show()"
      ]
    },
    {
      "cell_type": "markdown",
      "metadata": {
        "id": "sOHLR6KLyvmI"
      },
      "source": [
        "There are stark difference between the step data between valid and fraud transactions.\n",
        "\n",
        "A large proportion of valid transactions occur between around the 0th and 60th timestep as well as the 110th and 410th hours.\n",
        "The frequency at which fraudulent transactions occur does not seem to change much over time."
      ]
    },
    {
      "cell_type": "code",
      "execution_count": 29,
      "metadata": {
        "colab": {
          "base_uri": "https://localhost:8080/",
          "height": 312
        },
        "id": "mtAGD9A01rtY",
        "outputId": "94b8ac8d-2945-454d-ee1a-f7aec54e5bfd"
      },
      "outputs": [
        {
          "data": {
            "image/png": "[encoded data removed]",
            "text/plain": [
              "<Figure size 432x288 with 1 Axes>"
            ]
          },
          "metadata": {
            "needs_background": "light"
          },
          "output_type": "display_data"
        },
        {
          "name": "stdout",
          "output_type": "stream",
          "text": [
            "Proportion of transactions where the amount moved is greater than 10 million:  0.00038396132410862193\n"
          ]
        }
      ],
      "source": [
        "# plotting overlayed step vs amount scatter plots\n",
        "fig,ax = plt.subplots()\n",
        "df_Fraud.plot.scatter(x=\"step\",y=\"amount\",color=\"red\",ax=ax,label=\"Valid Transactions\")\n",
        "df_Valid.plot.scatter(x=\"step\",y=\"amount\",color=\"green\",ax=ax, label=\"Fraudulent Transactions\")\n",
        "\n",
        "plt.title(\"1 hour timestep vs amount\")\n",
        "plt.xlabel(\"1 hour time-step\")\n",
        "plt.ylabel(\"amount moved in transaction\")\n",
        "plt.legend(loc=\"upper right\")\n",
        "\n",
        "# plotting a horizontal line to show where valid transactions behave very differently from fraud transactions\n",
        "plt.axhline(y=1e7)\n",
        "plt.show()\n",
        "\n",
        "print(\"Proportion of transactions where the amount moved is greater than 10 million: \", \\\n",
        "      len(df[df.amount > 1e7])/len(df))"
      ]
    },
    {
      "cell_type": "markdown",
      "metadata": {
        "id": "UlXZyH2n2MSc"
      },
      "source": [
        "Only valid transaction involved amounts larger than 10,000,000, however these transactions make up less than 0.01% of the relevant data.\n",
        "\n",
        "When the amounts moved is less than 10,000,000 there doesn't seem to be a large difference fraudulent and valid transactions."
      ]
    },
    {
      "cell_type": "markdown",
      "metadata": {
        "id": "K728MZcz_9T0"
      },
      "source": [
        "# Preprocess"
      ]
    },
    {
      "cell_type": "code",
      "execution_count": 105,
      "metadata": {
        "id": "72Mi23cdDXP1"
      },
      "outputs": [],
      "source": [
        "from sklearn.model_selection import train_test_split\n",
        "from sklearn.preprocessing import StandardScaler\n",
        "from imblearn.under_sampling import RandomUnderSampler\n",
        "\n",
        "from sklearn.linear_model import LogisticRegression\n",
        "from sklearn.naive_bayes import BernoulliNB\n",
        "from sklearn.svm import LinearSVC\n",
        "from sklearn.neighbors import KNeighborsClassifier\n",
        "from xgboost.sklearn import XGBClassifier\n",
        "from xgboost import plot_importance, to_graphviz\n",
        "\n",
        "from sklearn import metrics"
      ]
    },
    {
      "cell_type": "code",
      "execution_count": 106,
      "metadata": {
        "id": "Ot2Bt2O9EUkB"
      },
      "outputs": [],
      "source": [
        "df1 = df.copy()\n",
        "df1 = df1.drop([\"isFlaggedFraud\",'nameOrig','nameDest'], axis = 1) # drop meaningless features from data\n",
        "df1 = df1.loc[(df['type'].isin(['TRANSFER', 'CASH_OUT'])),:] # take sample have fraud transactions"
      ]
    },
    {
      "cell_type": "code",
      "execution_count": 107,
      "metadata": {
        "id": "DVO-XfukEEWp"
      },
      "outputs": [],
      "source": [
        "# enconding TRANSFER and CASH_OUT by int number, its like hot-encoding\n",
        "df1 = pd.get_dummies(df1,prefix=['type']) "
      ]
    },
    {
      "cell_type": "code",
      "execution_count": 108,
      "metadata": {
        "colab": {
          "base_uri": "https://localhost:8080/",
          "height": 223
        },
        "id": "x48upZMoEJ6Q",
        "outputId": "625d7954-4278-43ef-8025-13669cf16baf"
      },
      "outputs": [
        {
          "name": "stdout",
          "output_type": "stream",
          "text": [
            "(2770409, 9)\n"
          ]
        },
        {
          "data": {
            "text/html": [
              "\n",
              "  <div id=\"df-6056ea12-0ed1-4300-a57f-08d4536fce22\">\n",
              "    <div class=\"colab-df-container\">\n",
              "      <div>\n",
              "<style scoped>\n",
              "    .dataframe tbody tr th:only-of-type {\n",
              "        vertical-align: middle;\n",
              "    }\n",
              "\n",
              "    .dataframe tbody tr th {\n",
              "        vertical-align: top;\n",
              "    }\n",
              "\n",
              "    .dataframe thead th {\n",
              "        text-align: right;\n",
              "    }\n",
              "</style>\n",
              "<table border=\"1\" class=\"dataframe\">\n",
              "  <thead>\n",
              "    <tr style=\"text-align: right;\">\n",
              "      <th></th>\n",
              "      <th>step</th>\n",
              "      <th>amount</th>\n",
              "      <th>oldbalanceOrg</th>\n",
              "      <th>newbalanceOrig</th>\n",
              "      <th>oldbalanceDest</th>\n",
              "      <th>newbalanceDest</th>\n",
              "      <th>isFraud</th>\n",
              "      <th>type_CASH_OUT</th>\n",
              "      <th>type_TRANSFER</th>\n",
              "    </tr>\n",
              "  </thead>\n",
              "  <tbody>\n",
              "    <tr>\n",
              "      <th>2</th>\n",
              "      <td>1</td>\n",
              "      <td>181.00</td>\n",
              "      <td>181.0</td>\n",
              "      <td>0.0</td>\n",
              "      <td>0.0</td>\n",
              "      <td>0.00</td>\n",
              "      <td>1</td>\n",
              "      <td>0</td>\n",
              "      <td>1</td>\n",
              "    </tr>\n",
              "    <tr>\n",
              "      <th>3</th>\n",
              "      <td>1</td>\n",
              "      <td>181.00</td>\n",
              "      <td>181.0</td>\n",
              "      <td>0.0</td>\n",
              "      <td>21182.0</td>\n",
              "      <td>0.00</td>\n",
              "      <td>1</td>\n",
              "      <td>1</td>\n",
              "      <td>0</td>\n",
              "    </tr>\n",
              "    <tr>\n",
              "      <th>15</th>\n",
              "      <td>1</td>\n",
              "      <td>229133.94</td>\n",
              "      <td>15325.0</td>\n",
              "      <td>0.0</td>\n",
              "      <td>5083.0</td>\n",
              "      <td>51513.44</td>\n",
              "      <td>0</td>\n",
              "      <td>1</td>\n",
              "      <td>0</td>\n",
              "    </tr>\n",
              "    <tr>\n",
              "      <th>19</th>\n",
              "      <td>1</td>\n",
              "      <td>215310.30</td>\n",
              "      <td>705.0</td>\n",
              "      <td>0.0</td>\n",
              "      <td>22425.0</td>\n",
              "      <td>0.00</td>\n",
              "      <td>0</td>\n",
              "      <td>0</td>\n",
              "      <td>1</td>\n",
              "    </tr>\n",
              "    <tr>\n",
              "      <th>24</th>\n",
              "      <td>1</td>\n",
              "      <td>311685.89</td>\n",
              "      <td>10835.0</td>\n",
              "      <td>0.0</td>\n",
              "      <td>6267.0</td>\n",
              "      <td>2719172.89</td>\n",
              "      <td>0</td>\n",
              "      <td>0</td>\n",
              "      <td>1</td>\n",
              "    </tr>\n",
              "  </tbody>\n",
              "</table>\n",
              "</div>\n",
              "      <button class=\"colab-df-convert\" onclick=\"convertToInteractive('df-6056ea12-0ed1-4300-a57f-08d4536fce22')\"\n",
              "              title=\"Convert this dataframe to an interactive table.\"\n",
              "              style=\"display:none;\">\n",
              "        \n",
              "  <svg xmlns=\"http://www.w3.org/2000/svg\" height=\"24px\"viewBox=\"0 0 24 24\"\n",
              "       width=\"24px\">\n",
              "    <path d=\"M0 0h24v24H0V0z\" fill=\"none\"/>\n",
              "    <path d=\"M18.56 5.44l.94 2.06.94-2.06 2.06-.94-2.06-.94-.94-2.06-.94 2.06-2.06.94zm-11 1L8.5 8.5l.94-2.06 2.06-.94-2.06-.94L8.5 2.5l-.94 2.06-2.06.94zm10 10l.94 2.06.94-2.06 2.06-.94-2.06-.94-.94-2.06-.94 2.06-2.06.94z\"/><path d=\"M17.41 7.96l-1.37-1.37c-.4-.4-.92-.59-1.43-.59-.52 0-1.04.2-1.43.59L10.3 9.45l-7.72 7.72c-.78.78-.78 2.05 0 2.83L4 21.41c.39.39.9.59 1.41.59.51 0 1.02-.2 1.41-.59l7.78-7.78 2.81-2.81c.8-.78.8-2.07 0-2.86zM5.41 20L4 18.59l7.72-7.72 1.47 1.35L5.41 20z\"/>\n",
              "  </svg>\n",
              "      </button>\n",
              "      \n",
              "  <style>\n",
              "    .colab-df-container {\n",
              "      display:flex;\n",
              "      flex-wrap:wrap;\n",
              "      gap: 12px;\n",
              "    }\n",
              "\n",
              "    .colab-df-convert {\n",
              "      background-color: #E8F0FE;\n",
              "      border: none;\n",
              "      border-radius: 50%;\n",
              "      cursor: pointer;\n",
              "      display: none;\n",
              "      fill: #1967D2;\n",
              "      height: 32px;\n",
              "      padding: 0 0 0 0;\n",
              "      width: 32px;\n",
              "    }\n",
              "\n",
              "    .colab-df-convert:hover {\n",
              "      background-color: #E2EBFA;\n",
              "      box-shadow: 0px 1px 2px rgba(60, 64, 67, 0.3), 0px 1px 3px 1px rgba(60, 64, 67, 0.15);\n",
              "      fill: #174EA6;\n",
              "    }\n",
              "\n",
              "    [theme=dark] .colab-df-convert {\n",
              "      background-color: #3B4455;\n",
              "      fill: #D2E3FC;\n",
              "    }\n",
              "\n",
              "    [theme=dark] .colab-df-convert:hover {\n",
              "      background-color: #434B5C;\n",
              "      box-shadow: 0px 1px 3px 1px rgba(0, 0, 0, 0.15);\n",
              "      filter: drop-shadow(0px 1px 2px rgba(0, 0, 0, 0.3));\n",
              "      fill: #FFFFFF;\n",
              "    }\n",
              "  </style>\n",
              "\n",
              "      <script>\n",
              "        const buttonEl =\n",
              "          document.querySelector('#df-6056ea12-0ed1-4300-a57f-08d4536fce22 button.colab-df-convert');\n",
              "        buttonEl.style.display =\n",
              "          google.colab.kernel.accessAllowed ? 'block' : 'none';\n",
              "\n",
              "        async function convertToInteractive(key) {\n",
              "          const element = document.querySelector('#df-6056ea12-0ed1-4300-a57f-08d4536fce22');\n",
              "          const dataTable =\n",
              "            await google.colab.kernel.invokeFunction('convertToInteractive',\n",
              "                                                     [key], {});\n",
              "          if (!dataTable) return;\n",
              "\n",
              "          const docLinkHtml = 'Like what you see? Visit the ' +\n",
              "            '<a target=\"_blank\" href=https://colab.research.google.com/notebooks/data_table.ipynb>data table notebook</a>'\n",
              "            + ' to learn more about interactive tables.';\n",
              "          element.innerHTML = '';\n",
              "          dataTable['output_type'] = 'display_data';\n",
              "          await google.colab.output.renderOutput(dataTable, element);\n",
              "          const docLink = document.createElement('div');\n",
              "          docLink.innerHTML = docLinkHtml;\n",
              "          element.appendChild(docLink);\n",
              "        }\n",
              "      </script>\n",
              "    </div>\n",
              "  </div>\n",
              "  "
            ],
            "text/plain": [
              "    step     amount  oldbalanceOrg  newbalanceOrig  oldbalanceDest  \\\n",
              "2      1     181.00          181.0             0.0             0.0   \n",
              "3      1     181.00          181.0             0.0         21182.0   \n",
              "15     1  229133.94        15325.0             0.0          5083.0   \n",
              "19     1  215310.30          705.0             0.0         22425.0   \n",
              "24     1  311685.89        10835.0             0.0          6267.0   \n",
              "\n",
              "    newbalanceDest  isFraud  type_CASH_OUT  type_TRANSFER  \n",
              "2             0.00        1              0              1  \n",
              "3             0.00        1              1              0  \n",
              "15        51513.44        0              1              0  \n",
              "19            0.00        0              0              1  \n",
              "24      2719172.89        0              0              1  "
            ]
          },
          "execution_count": 108,
          "metadata": {},
          "output_type": "execute_result"
        }
      ],
      "source": [
        "print(df1.shape)\n",
        "df1.head()"
      ]
    },
    {
      "cell_type": "code",
      "execution_count": 109,
      "metadata": {
        "colab": {
          "base_uri": "https://localhost:8080/",
          "height": 0
        },
        "id": "glyiIAT-YgqR",
        "outputId": "22cd0f7c-8a9d-449a-985c-8b60b0a183cf"
      },
      "outputs": [
        {
          "data": {
            "text/plain": [
              "0    2762196\n",
              "1       8213\n",
              "Name: isFraud, dtype: int64"
            ]
          },
          "execution_count": 109,
          "metadata": {},
          "output_type": "execute_result"
        }
      ],
      "source": [
        "df1[\"isFraud\"].value_counts()"
      ]
    },
    {
      "cell_type": "code",
      "execution_count": 110,
      "metadata": {
        "colab": {
          "base_uri": "https://localhost:8080/",
          "height": 0
        },
        "id": "e59YYq8eCvGd",
        "outputId": "f59f78d9-daf4-4395-f0be-a9a2e5723ecf"
      },
      "outputs": [
        {
          "name": "stderr",
          "output_type": "stream",
          "text": [
            "<ipython-input-110-23b139a65bf4>:1: FutureWarning: In a future version of pandas all arguments of DataFrame.drop except for the argument 'labels' will be keyword-only.\n",
            "  X = df1.drop(\"isFraud\",1)\n"
          ]
        }
      ],
      "source": [
        "X = df1.drop(\"isFraud\",1)\n",
        "Y = df1[\"isFraud\"]"
      ]
    },
    {
      "cell_type": "markdown",
      "metadata": {
        "id": "3ZMeX-mfXsE3"
      },
      "source": [
        "## Undersampling"
      ]
    },
    {
      "cell_type": "markdown",
      "metadata": {
        "id": "GB8VZaydirFo"
      },
      "source": [
        "Deal with Imbalanced data: https://www.kaggle.com/code/janiobachmann/credit-fraud-dealing-with-imbalanced-datasets#notebook-container"
      ]
    },
    {
      "cell_type": "code",
      "execution_count": 111,
      "metadata": {
        "id": "gFwDXY7bPZeS"
      },
      "outputs": [],
      "source": [
        " # I set strategy = 1 to pick same sample X and Y\n",
        " rus = RandomUnderSampler(sampling_strategy=1, random_state=42)\n",
        " # If you wanna experiment how performance machine learning model \n",
        " # effected by imbalanced data you can set sampling_strategy < 1"
      ]
    },
    {
      "cell_type": "code",
      "execution_count": 112,
      "metadata": {
        "id": "38NCE6eDPbjp"
      },
      "outputs": [],
      "source": [
        "X, Y = rus.fit_resample(X, Y)"
      ]
    },
    {
      "cell_type": "code",
      "execution_count": 113,
      "metadata": {
        "colab": {
          "base_uri": "https://localhost:8080/",
          "height": 0
        },
        "id": "ieRyS4t-Pg-t",
        "outputId": "e2d29557-e1bd-4b16-eca2-b543e1657771"
      },
      "outputs": [
        {
          "data": {
            "text/plain": [
              "0    8213\n",
              "1    8213\n",
              "Name: isFraud, dtype: int64"
            ]
          },
          "execution_count": 113,
          "metadata": {},
          "output_type": "execute_result"
        }
      ],
      "source": [
        "Y.value_counts()"
      ]
    },
    {
      "cell_type": "markdown",
      "metadata": {
        "id": "8wpGlgOPXvAW"
      },
      "source": [
        "## Split data "
      ]
    },
    {
      "cell_type": "code",
      "execution_count": 114,
      "metadata": {
        "colab": {
          "base_uri": "https://localhost:8080/",
          "height": 0
        },
        "id": "f1YZ1OHnC-xG",
        "outputId": "15897249-5541-44a5-c5f5-26ef31c8eaa0"
      },
      "outputs": [
        {
          "data": {
            "text/plain": [
              "((13140, 8), (3286, 8), (13140,), (3286,))"
            ]
          },
          "execution_count": 114,
          "metadata": {},
          "output_type": "execute_result"
        }
      ],
      "source": [
        "X_train, X_test, Y_train, Y_test = train_test_split(X, Y, test_size = 0.2, random_state = 42)\n",
        "X_train.shape, X_test.shape, Y_train.shape, Y_test.shape"
      ]
    },
    {
      "cell_type": "markdown",
      "metadata": {
        "id": "vk-2UVyAXxjL"
      },
      "source": [
        "## Standardization"
      ]
    },
    {
      "cell_type": "code",
      "execution_count": 115,
      "metadata": {
        "id": "xWzuik4wDVGd"
      },
      "outputs": [],
      "source": [
        "scaler = StandardScaler()\n",
        "scaler.fit(X_train)\n",
        "                            \n",
        "X_train = scaler.transform(X_train)\n",
        "X_test = scaler.transform(X_test)"
      ]
    },
    {
      "cell_type": "markdown",
      "metadata": {
        "id": "WUX6tbYLXjlp"
      },
      "source": [
        "# Machine Learning "
      ]
    },
    {
      "cell_type": "code",
      "execution_count": 116,
      "metadata": {
        "colab": {
          "base_uri": "https://localhost:8080/",
          "height": 0
        },
        "id": "pUebiCKz4k7Y",
        "outputId": "b74dde83-9ef3-4425-f76b-daf1a9a9165b"
      },
      "outputs": [
        {
          "name": "stdout",
          "output_type": "stream",
          "text": [
            "Skew Fraud transactions vs total transactions = 0.5\n"
          ]
        }
      ],
      "source": [
        "print('Skew Fraud transactions vs total transactions = {}'.format( len(Y.loc[Y == 1]) / float(len(X)) ))"
      ]
    },
    {
      "cell_type": "markdown",
      "metadata": {
        "id": "OfIQugi_QL3A"
      },
      "source": [
        "## Logistic Regression"
      ]
    },
    {
      "cell_type": "code",
      "execution_count": 117,
      "metadata": {
        "id": "RUa50CycFnMF"
      },
      "outputs": [],
      "source": [
        "LGR = LogisticRegression().fit(X_train,Y_train)\n",
        "\n",
        "Y_pred_LGR = LGR.predict(X_test)"
      ]
    },
    {
      "cell_type": "code",
      "execution_count": 118,
      "metadata": {
        "colab": {
          "base_uri": "https://localhost:8080/",
          "height": 0
        },
        "id": "nsr3g8JRF5Lt",
        "outputId": "ad4313d6-137c-44a8-f6b7-2ad8c881a117"
      },
      "outputs": [
        {
          "name": "stdout",
          "output_type": "stream",
          "text": [
            "              precision    recall  f1-score   support\n",
            "\n",
            "           0       0.88      0.94      0.91      1649\n",
            "           1       0.94      0.87      0.90      1637\n",
            "\n",
            "    accuracy                           0.91      3286\n",
            "   macro avg       0.91      0.91      0.91      3286\n",
            "weighted avg       0.91      0.91      0.91      3286\n",
            "\n"
          ]
        },
        {
          "data": {
            "image/png": "[encoded data removed]",
            "text/plain": [
              "<Figure size 432x288 with 2 Axes>"
            ]
          },
          "metadata": {},
          "output_type": "display_data"
        }
      ],
      "source": [
        "report = metrics.classification_report(Y_test, Y_pred_LGR)\n",
        "print(report)\n",
        "cm = metrics.confusion_matrix(Y_test,Y_pred_LGR)\n",
        "\n",
        "cm_display = metrics.ConfusionMatrixDisplay(confusion_matrix = cm, display_labels = ['Fraud','Non-Fraud'])\n",
        "cm_display.plot()\n",
        "plt.show()"
      ]
    },
    {
      "cell_type": "markdown",
      "metadata": {
        "id": "UgcSNWrnQPOC"
      },
      "source": [
        "## Bernouli Naive Bayes"
      ]
    },
    {
      "cell_type": "code",
      "execution_count": 119,
      "metadata": {
        "id": "a0JfzcofQTD_"
      },
      "outputs": [],
      "source": [
        "BNBayes = BernoulliNB().fit(X_train, Y_train)\n",
        "\n",
        "Y_pred_BNB = BNBayes.predict(X_test)"
      ]
    },
    {
      "cell_type": "code",
      "execution_count": 120,
      "metadata": {
        "colab": {
          "base_uri": "https://localhost:8080/",
          "height": 0
        },
        "id": "rPNs7QPdQmHQ",
        "outputId": "4f9ce822-1d9e-4eac-9a5e-2787350e1c6a"
      },
      "outputs": [
        {
          "name": "stdout",
          "output_type": "stream",
          "text": [
            "              precision    recall  f1-score   support\n",
            "\n",
            "           0       0.73      0.84      0.78      1649\n",
            "           1       0.81      0.68      0.74      1637\n",
            "\n",
            "    accuracy                           0.76      3286\n",
            "   macro avg       0.77      0.76      0.76      3286\n",
            "weighted avg       0.77      0.76      0.76      3286\n",
            "\n"
          ]
        },
        {
          "data": {
            "image/png": "[encoded data removed]",
            "text/plain": [
              "<Figure size 432x288 with 2 Axes>"
            ]
          },
          "metadata": {},
          "output_type": "display_data"
        }
      ],
      "source": [
        "report = metrics.classification_report(Y_test, Y_pred_BNB)\n",
        "print(report)\n",
        "cm = metrics.confusion_matrix(Y_test,Y_pred_BNB)\n",
        "\n",
        "cm_display = metrics.ConfusionMatrixDisplay(confusion_matrix = cm, display_labels = ['Fraud','Non-Fraud'])\n",
        "cm_display.plot()\n",
        "plt.show()"
      ]
    },
    {
      "cell_type": "markdown",
      "metadata": {
        "id": "8d3n5YsZUTRY"
      },
      "source": [
        "## Suport Vector Machine\n"
      ]
    },
    {
      "cell_type": "code",
      "execution_count": 121,
      "metadata": {
        "colab": {
          "base_uri": "https://localhost:8080/",
          "height": 0
        },
        "id": "MigqW642UVlZ",
        "outputId": "71f52ca8-2861-4790-f648-feae0210de45"
      },
      "outputs": [
        {
          "name": "stderr",
          "output_type": "stream",
          "text": [
            "/usr/local/lib/python3.9/dist-packages/sklearn/svm/_base.py:1244: ConvergenceWarning: Liblinear failed to converge, increase the number of iterations.\n",
            "  warnings.warn(\n"
          ]
        }
      ],
      "source": [
        "SVM = LinearSVC().fit(X_train, Y_train)\n",
        "\n",
        "Y_pred_SVM = SVM.predict(X_test)"
      ]
    },
    {
      "cell_type": "code",
      "execution_count": 122,
      "metadata": {
        "colab": {
          "base_uri": "https://localhost:8080/",
          "height": 0
        },
        "id": "RmR8dw8cUfNw",
        "outputId": "341f774d-dc21-46cd-9f81-710f54da3bfb"
      },
      "outputs": [
        {
          "name": "stdout",
          "output_type": "stream",
          "text": [
            "              precision    recall  f1-score   support\n",
            "\n",
            "           0       0.89      0.94      0.91      1649\n",
            "           1       0.94      0.88      0.91      1637\n",
            "\n",
            "    accuracy                           0.91      3286\n",
            "   macro avg       0.91      0.91      0.91      3286\n",
            "weighted avg       0.91      0.91      0.91      3286\n",
            "\n"
          ]
        },
        {
          "data": {
            "image/png": "[encoded data removed]",
            "text/plain": [
              "<Figure size 432x288 with 2 Axes>"
            ]
          },
          "metadata": {},
          "output_type": "display_data"
        }
      ],
      "source": [
        "report = metrics.classification_report(Y_test, Y_pred_SVM)\n",
        "print(report)\n",
        "cm = metrics.confusion_matrix(Y_test,Y_pred_SVM)\n",
        "\n",
        "cm_display = metrics.ConfusionMatrixDisplay(confusion_matrix = cm, display_labels = ['Fraud','Non-Fraud'])\n",
        "cm_display.plot()\n",
        "plt.show()"
      ]
    },
    {
      "cell_type": "markdown",
      "metadata": {
        "id": "4VymlsSgZAB0"
      },
      "source": [
        "## K-Nearest Neighbors"
      ]
    },
    {
      "cell_type": "code",
      "execution_count": 123,
      "metadata": {
        "id": "t5iIRxGMZCES"
      },
      "outputs": [],
      "source": [
        "KNN = KNeighborsClassifier().fit(X_train, Y_train)\n",
        "\n",
        "Y_pred_KNN = KNN.predict(X_test)"
      ]
    },
    {
      "cell_type": "code",
      "execution_count": 124,
      "metadata": {
        "colab": {
          "base_uri": "https://localhost:8080/",
          "height": 0
        },
        "id": "HxBiO151ZLWQ",
        "outputId": "a7271cc1-19c3-4730-910c-92c67619a458"
      },
      "outputs": [
        {
          "name": "stdout",
          "output_type": "stream",
          "text": [
            "              precision    recall  f1-score   support\n",
            "\n",
            "           0       0.92      0.94      0.93      1649\n",
            "           1       0.94      0.92      0.93      1637\n",
            "\n",
            "    accuracy                           0.93      3286\n",
            "   macro avg       0.93      0.93      0.93      3286\n",
            "weighted avg       0.93      0.93      0.93      3286\n",
            "\n"
          ]
        },
        {
          "data": {
            "image/png": "[encoded data removed]",
            "text/plain": [
              "<Figure size 432x288 with 2 Axes>"
            ]
          },
          "metadata": {},
          "output_type": "display_data"
        }
      ],
      "source": [
        "report = metrics.classification_report(Y_test, Y_pred_KNN)\n",
        "print(report)\n",
        "cm = metrics.confusion_matrix(Y_test,Y_pred_KNN)\n",
        "\n",
        "cm_display = metrics.ConfusionMatrixDisplay(confusion_matrix = cm, display_labels = ['Fraud','Non-Fraud'])\n",
        "cm_display.plot()\n",
        "plt.show()"
      ]
    },
    {
      "cell_type": "markdown",
      "metadata": {
        "id": "EFZ3C0u5RT9y"
      },
      "source": [
        "## Extreme Gradient Boosting"
      ]
    },
    {
      "cell_type": "code",
      "execution_count": 144,
      "metadata": {
        "id": "Q8HihaV2RZBV"
      },
      "outputs": [],
      "source": [
        "XGB = XGBClassifier(max_depth = 3,  n_jobs = 4, random_state=42).fit(X_train, Y_train)\n",
        "\n",
        "Y_pred_XGB = XGB.predict(X_test)"
      ]
    },
    {
      "cell_type": "code",
      "execution_count": 145,
      "metadata": {
        "colab": {
          "base_uri": "https://localhost:8080/",
          "height": 435
        },
        "id": "af72NBQtRrdJ",
        "outputId": "0f86699c-dd80-448f-8cfc-3a4f0d02e512"
      },
      "outputs": [
        {
          "name": "stdout",
          "output_type": "stream",
          "text": [
            "              precision    recall  f1-score   support\n",
            "\n",
            "           0       1.00      0.99      0.99      1649\n",
            "           1       0.99      1.00      0.99      1637\n",
            "\n",
            "    accuracy                           0.99      3286\n",
            "   macro avg       0.99      0.99      0.99      3286\n",
            "weighted avg       0.99      0.99      0.99      3286\n",
            "\n"
          ]
        },
        {
          "data": {
            "image/png": "[encoded data removed]",
            "text/plain": [
              "<Figure size 432x288 with 2 Axes>"
            ]
          },
          "metadata": {},
          "output_type": "display_data"
        }
      ],
      "source": [
        "report = metrics.classification_report(Y_test, Y_pred_XGB)\n",
        "print(report)\n",
        "cm = metrics.confusion_matrix(Y_test,Y_pred_XGB)\n",
        "\n",
        "cm_display = metrics.ConfusionMatrixDisplay(confusion_matrix = cm, display_labels = ['Fraud','Non-Fraud'])\n",
        "cm_display.plot()\n",
        "plt.show()"
      ]
    },
    {
      "cell_type": "markdown",
      "metadata": {
        "id": "bV1BjlP0Gx3I"
      },
      "source": [
        "## Multi Layer Perceptron"
      ]
    },
    {
      "cell_type": "code",
      "execution_count": 131,
      "metadata": {
        "id": "v5rCTxEtG53_"
      },
      "outputs": [],
      "source": [
        "from sklearn.neural_network import MLPClassifier"
      ]
    },
    {
      "cell_type": "code",
      "execution_count": 132,
      "metadata": {
        "colab": {
          "base_uri": "https://localhost:8080/",
          "height": 0
        },
        "id": "n6WoeSUbGyHU",
        "outputId": "cbd9f237-3565-4d78-fe83-3f5f765392b4"
      },
      "outputs": [
        {
          "name": "stdout",
          "output_type": "stream",
          "text": [
            "(8, 8, 8)\n"
          ]
        }
      ],
      "source": [
        "ncols = len(X.columns)\n",
        "hidden_layers = (ncols,ncols,ncols)\n",
        "max_iter = 1000\n",
        "print(hidden_layers)"
      ]
    },
    {
      "cell_type": "code",
      "execution_count": 133,
      "metadata": {
        "colab": {
          "base_uri": "https://localhost:8080/",
          "height": 0
        },
        "id": "hg1KwMZFHFG0",
        "outputId": "256702f3-8375-4438-9735-6b070ec0e677"
      },
      "outputs": [
        {
          "data": {
            "text/html": [
              "<style>#sk-container-id-2 {color: black;background-color: white;}#sk-container-id-2 pre{padding: 0;}#sk-container-id-2 div.sk-toggleable {background-color: white;}#sk-container-id-2 label.sk-toggleable__label {cursor: pointer;display: block;width: 100%;margin-bottom: 0;padding: 0.3em;box-sizing: border-box;text-align: center;}#sk-container-id-2 label.sk-toggleable__label-arrow:before {content: \"▸\";float: left;margin-right: 0.25em;color: #696969;}#sk-container-id-2 label.sk-toggleable__label-arrow:hover:before {color: black;}#sk-container-id-2 div.sk-estimator:hover label.sk-toggleable__label-arrow:before {color: black;}#sk-container-id-2 div.sk-toggleable__content {max-height: 0;max-width: 0;overflow: hidden;text-align: left;background-color: #f0f8ff;}#sk-container-id-2 div.sk-toggleable__content pre {margin: 0.2em;color: black;border-radius: 0.25em;background-color: #f0f8ff;}#sk-container-id-2 input.sk-toggleable__control:checked~div.sk-toggleable__content {max-height: 200px;max-width: 100%;overflow: auto;}#sk-container-id-2 input.sk-toggleable__control:checked~label.sk-toggleable__label-arrow:before {content: \"▾\";}#sk-container-id-2 div.sk-estimator input.sk-toggleable__control:checked~label.sk-toggleable__label {background-color: #d4ebff;}#sk-container-id-2 div.sk-label input.sk-toggleable__control:checked~label.sk-toggleable__label {background-color: #d4ebff;}#sk-container-id-2 input.sk-hidden--visually {border: 0;clip: rect(1px 1px 1px 1px);clip: rect(1px, 1px, 1px, 1px);height: 1px;margin: -1px;overflow: hidden;padding: 0;position: absolute;width: 1px;}#sk-container-id-2 div.sk-estimator {font-family: monospace;background-color: #f0f8ff;border: 1px dotted black;border-radius: 0.25em;box-sizing: border-box;margin-bottom: 0.5em;}#sk-container-id-2 div.sk-estimator:hover {background-color: #d4ebff;}#sk-container-id-2 div.sk-parallel-item::after {content: \"\";width: 100%;border-bottom: 1px solid gray;flex-grow: 1;}#sk-container-id-2 div.sk-label:hover label.sk-toggleable__label {background-color: #d4ebff;}#sk-container-id-2 div.sk-serial::before {content: \"\";position: absolute;border-left: 1px solid gray;box-sizing: border-box;top: 0;bottom: 0;left: 50%;z-index: 0;}#sk-container-id-2 div.sk-serial {display: flex;flex-direction: column;align-items: center;background-color: white;padding-right: 0.2em;padding-left: 0.2em;position: relative;}#sk-container-id-2 div.sk-item {position: relative;z-index: 1;}#sk-container-id-2 div.sk-parallel {display: flex;align-items: stretch;justify-content: center;background-color: white;position: relative;}#sk-container-id-2 div.sk-item::before, #sk-container-id-2 div.sk-parallel-item::before {content: \"\";position: absolute;border-left: 1px solid gray;box-sizing: border-box;top: 0;bottom: 0;left: 50%;z-index: -1;}#sk-container-id-2 div.sk-parallel-item {display: flex;flex-direction: column;z-index: 1;position: relative;background-color: white;}#sk-container-id-2 div.sk-parallel-item:first-child::after {align-self: flex-end;width: 50%;}#sk-container-id-2 div.sk-parallel-item:last-child::after {align-self: flex-start;width: 50%;}#sk-container-id-2 div.sk-parallel-item:only-child::after {width: 0;}#sk-container-id-2 div.sk-dashed-wrapped {border: 1px dashed gray;margin: 0 0.4em 0.5em 0.4em;box-sizing: border-box;padding-bottom: 0.4em;background-color: white;}#sk-container-id-2 div.sk-label label {font-family: monospace;font-weight: bold;display: inline-block;line-height: 1.2em;}#sk-container-id-2 div.sk-label-container {text-align: center;}#sk-container-id-2 div.sk-container {/* jupyter's `normalize.less` sets `[hidden] { display: none; }` but bootstrap.min.css set `[hidden] { display: none !important; }` so we also need the `!important` here to be able to override the default hidden behavior on the sphinx rendered scikit-learn.org. See: https://github.com/scikit-learn/scikit-learn/issues/21755 */display: inline-block !important;position: relative;}#sk-container-id-2 div.sk-text-repr-fallback {display: none;}</style><div id=\"sk-container-id-2\" class=\"sk-top-container\"><div class=\"sk-text-repr-fallback\"><pre>MLPClassifier(hidden_layer_sizes=(8, 8, 8), max_iter=1000, random_state=42)</pre><b>In a Jupyter environment, please rerun this cell to show the HTML representation or trust the notebook. <br />On GitHub, the HTML representation is unable to render, please try loading this page with nbviewer.org.</b></div><div class=\"sk-container\" hidden><div class=\"sk-item\"><div class=\"sk-estimator sk-toggleable\"><input class=\"sk-toggleable__control sk-hidden--visually\" id=\"sk-estimator-id-2\" type=\"checkbox\" checked><label for=\"sk-estimator-id-2\" class=\"sk-toggleable__label sk-toggleable__label-arrow\">MLPClassifier</label><div class=\"sk-toggleable__content\"><pre>MLPClassifier(hidden_layer_sizes=(8, 8, 8), max_iter=1000, random_state=42)</pre></div></div></div></div></div>"
            ],
            "text/plain": [
              "MLPClassifier(hidden_layer_sizes=(8, 8, 8), max_iter=1000, random_state=42)"
            ]
          },
          "execution_count": 133,
          "metadata": {},
          "output_type": "execute_result"
        }
      ],
      "source": [
        "MLP = MLPClassifier(hidden_layer_sizes=hidden_layers,max_iter=1000,random_state=42)\n",
        "\n",
        "# training model\n",
        "MLP.fit(X_train,Y_train)"
      ]
    },
    {
      "cell_type": "code",
      "execution_count": 134,
      "metadata": {
        "id": "3OPL2yk5HGwd"
      },
      "outputs": [],
      "source": [
        "# evaluating model on how it performs on balanced datasets\n",
        "predictionsMLP = MLP.predict(X_test)\n",
        "CM_MLP = metrics.confusion_matrix(Y_test,predictionsMLP)\n",
        "CR_MLP = metrics.classification_report(Y_test,predictionsMLP)\n",
        "fprMLP, recallMLP, thresholdsMLP = metrics.roc_curve(Y_test, predictionsMLP)\n",
        "AUC_MLP = metrics.auc(fprMLP, recallMLP)\n",
        "    \n",
        "resultsMLP = {\"Confusion Matrix\":CM_MLP,\"Classification Report\":CR_MLP,\"Area Under Curve\":AUC_MLP}"
      ]
    },
    {
      "cell_type": "code",
      "execution_count": 135,
      "metadata": {
        "colab": {
          "base_uri": "https://localhost:8080/",
          "height": 0
        },
        "id": "ZiZC69f-HYVq",
        "outputId": "08e27085-f0b3-4ca6-dedb-286d2a01482a"
      },
      "outputs": [
        {
          "name": "stdout",
          "output_type": "stream",
          "text": [
            "Confusion Matrix : \n",
            " [[1628   21]\n",
            " [  44 1593]]\n",
            "Classification Report : \n",
            "               precision    recall  f1-score   support\n",
            "\n",
            "           0       0.97      0.99      0.98      1649\n",
            "           1       0.99      0.97      0.98      1637\n",
            "\n",
            "    accuracy                           0.98      3286\n",
            "   macro avg       0.98      0.98      0.98      3286\n",
            "weighted avg       0.98      0.98      0.98      3286\n",
            "\n",
            "Area Under Curve : \n",
            " 0.9801932864663541\n"
          ]
        }
      ],
      "source": [
        "# showing results from Multilayered perceptrons developed from each dataset\n",
        "for measure in resultsMLP:\n",
        "    print(measure,\": \\n\",resultsMLP[measure])"
      ]
    },
    {
      "cell_type": "markdown",
      "metadata": {
        "id": "dyxamn4oSJVP"
      },
      "source": [
        "# Evaluation"
      ]
    },
    {
      "cell_type": "markdown",
      "metadata": {
        "id": "dr1zt47ZsB3i"
      },
      "source": [
        "## Performance Comparision"
      ]
    },
    {
      "cell_type": "code",
      "execution_count": 136,
      "metadata": {
        "id": "yOegJsKCaxj8"
      },
      "outputs": [],
      "source": [
        "AUPRC_LGR = metrics.average_precision_score(Y_test, Y_pred_LGR)\n",
        "AUPRC_SVM = metrics.average_precision_score(Y_test, Y_pred_SVM)\n",
        "AUPRC_BNB = metrics.average_precision_score(Y_test, Y_pred_BNB)\n",
        "AUPRC_KNN = metrics.average_precision_score(Y_test, Y_pred_KNN)\n",
        "AUPRC_XGB = metrics.average_precision_score(Y_test, Y_pred_XGB)\n",
        "\n",
        "model_name = [\"LogisticsR\",\"SVM\",\"BernouliNB\",\"KNN\",\"XGBoost\"]\n",
        "AUPRC_score = [AUPRC_LGR, AUPRC_SVM, AUPRC_BNB, AUPRC_KNN, AUPRC_XGB]"
      ]
    },
    {
      "cell_type": "code",
      "execution_count": 137,
      "metadata": {
        "colab": {
          "base_uri": "https://localhost:8080/",
          "height": 356
        },
        "id": "rmf4F2u_hZp4",
        "outputId": "7637b7b8-ac4f-4442-b900-406197cd06a7"
      },
      "outputs": [
        {
          "data": {
            "image/png": "[encoded data removed]",
            "text/plain": [
              "<Figure size 720x360 with 1 Axes>"
            ]
          },
          "metadata": {},
          "output_type": "display_data"
        }
      ],
      "source": [
        "sns.set_style(\"whitegrid\")\n",
        "plt.figure(figsize = (10, 5))\n",
        "ax = sns.barplot(x=model_name, y=AUPRC_score, palette=\"Blues\")\n",
        "\n",
        "# set the y-axis limit to 1.0\n",
        "ax.set_ylim(0, 1.0)\n",
        "\n",
        "# add text labels to the bars\n",
        "for i, score in enumerate(AUPRC_score):\n",
        "    ax.text(i, score+0.01, round(score, 2), ha='center', fontsize=12)\n",
        "\n",
        "# set the plot title and axis labels\n",
        "ax.set_title('Comparison of AUPRC scores for models', fontsize=16)\n",
        "ax.set_xlabel('Models', fontsize=14)\n",
        "ax.set_ylabel('AUPRC', fontsize=14)\n",
        "\n",
        "# show the plot\n",
        "plt.show()"
      ]
    },
    {
      "cell_type": "markdown",
      "metadata": {
        "id": "kqdM-CYQ7mFR"
      },
      "source": [
        "We thoroughly interrogated the data at the outset to gain insight into which features could be discarded and those which could be valuably engineered. The plots provided visual confirmation that the data could be indeed be discriminated with the aid of the new features. To deal with the large skew in the data, we chose an appropriate metric and used an ML algorithm based on an ensemble of decision trees which works best with strongly imbalanced classes. The method used in this kernel should therefore be broadly applicable to a range of such problems"
      ]
    },
    {
      "cell_type": "markdown",
      "metadata": {
        "id": "esmD5Sm8r3QV"
      },
      "source": [
        "## XGB evaluation"
      ]
    },
    {
      "cell_type": "code",
      "execution_count": 155,
      "metadata": {
        "colab": {
          "base_uri": "https://localhost:8080/",
          "height": 0
        },
        "id": "YtmM6qmZt752",
        "outputId": "a8b29f1e-dfe2-4928-da46-fbeaa3a4404c"
      },
      "outputs": [
        {
          "data": {
            "text/plain": [
              "Index(['step', 'amount', 'oldbalanceOrg', 'newbalanceOrig', 'oldbalanceDest',\n",
              "       'newbalanceDest', 'type_CASH_OUT', 'type_TRANSFER'],\n",
              "      dtype='object')"
            ]
          },
          "execution_count": 155,
          "metadata": {},
          "output_type": "execute_result"
        }
      ],
      "source": [
        "X.columns"
      ]
    },
    {
      "cell_type": "code",
      "execution_count": 157,
      "metadata": {
        "colab": {
          "base_uri": "https://localhost:8080/",
          "height": 448
        },
        "id": "XHrN11DuR4ut",
        "outputId": "dafa3c16-2a8f-4164-ffe0-c637d5114daf"
      },
      "outputs": [
        {
          "data": {
            "image/svg+xml": "<?xml version=\"1.0\" encoding=\"UTF-8\" standalone=\"no\"?>\n<!DOCTYPE svg PUBLIC \"-//W3C//DTD SVG 1.1//EN\"\n \"http://www.w3.org/Graphics/SVG/1.1/DTD/svg11.dtd\">\n<!-- Generated by graphviz version 2.43.0 (0)\n -->\n<!-- Title: %3 Pages: 1 -->\n<svg width=\"1369pt\" height=\"305pt\"\n viewBox=\"0.00 0.00 1368.79 305.00\" xmlns=\"http://www.w3.org/2000/svg\" xmlns:xlink=\"http://www.w3.org/1999/xlink\">\n<g id=\"graph0\" class=\"graph\" transform=\"scale(1 1) rotate(0) translate(4 301)\">\n<title>%3</title>\n<polygon fill=\"white\" stroke=\"transparent\" points=\"-4,4 -4,-301 1364.79,-301 1364.79,4 -4,4\"/>\n<!-- 0 -->\n<g id=\"node1\" class=\"node\">\n<title>0</title>\n<ellipse fill=\"none\" stroke=\"black\" cx=\"661.39\" cy=\"-279\" rx=\"72.59\" ry=\"18\"/>\n<text text-anchor=\"middle\" x=\"661.39\" y=\"-275.3\" font-family=\"Times,serif\" font-size=\"14.00\">f2&lt;&#45;0.307073236</text>\n</g>\n<!-- 1 -->\n<g id=\"node2\" class=\"node\">\n<title>1</title>\n<ellipse fill=\"none\" stroke=\"black\" cx=\"488.39\" cy=\"-192\" rx=\"72.59\" ry=\"18\"/>\n<text text-anchor=\"middle\" x=\"488.39\" y=\"-188.3\" font-family=\"Times,serif\" font-size=\"14.00\">f5&lt;&#45;0.370676637</text>\n</g>\n<!-- 0&#45;&gt;1 -->\n<g id=\"edge1\" class=\"edge\">\n<title>0&#45;&gt;1</title>\n<path fill=\"none\" stroke=\"#0000ff\" d=\"M630.06,-262.61C601.65,-248.65 559.6,-227.99 528.7,-212.8\"/>\n<polygon fill=\"#0000ff\" stroke=\"#0000ff\" points=\"530.01,-209.55 519.49,-208.28 526.92,-215.83 530.01,-209.55\"/>\n<text text-anchor=\"middle\" x=\"619.89\" y=\"-231.8\" font-family=\"Times,serif\" font-size=\"14.00\">yes, missing</text>\n</g>\n<!-- 2 -->\n<g id=\"node3\" class=\"node\">\n<title>2</title>\n<ellipse fill=\"none\" stroke=\"black\" cx=\"834.39\" cy=\"-192\" rx=\"77.19\" ry=\"18\"/>\n<text text-anchor=\"middle\" x=\"834.39\" y=\"-188.3\" font-family=\"Times,serif\" font-size=\"14.00\">f3&lt;&#45;0.0715625212</text>\n</g>\n<!-- 0&#45;&gt;2 -->\n<g id=\"edge2\" class=\"edge\">\n<title>0&#45;&gt;2</title>\n<path fill=\"none\" stroke=\"#ff0000\" d=\"M692.72,-262.61C720.96,-248.73 762.66,-228.24 793.51,-213.09\"/>\n<polygon fill=\"#ff0000\" stroke=\"#ff0000\" points=\"795.28,-216.12 802.71,-208.57 792.19,-209.83 795.28,-216.12\"/>\n<text text-anchor=\"middle\" x=\"765.39\" y=\"-231.8\" font-family=\"Times,serif\" font-size=\"14.00\">no</text>\n</g>\n<!-- 3 -->\n<g id=\"node4\" class=\"node\">\n<title>3</title>\n<ellipse fill=\"none\" stroke=\"black\" cx=\"248.39\" cy=\"-105\" rx=\"68.49\" ry=\"18\"/>\n<text text-anchor=\"middle\" x=\"248.39\" y=\"-101.3\" font-family=\"Times,serif\" font-size=\"14.00\">f6&lt;&#45;0.32753399</text>\n</g>\n<!-- 1&#45;&gt;3 -->\n<g id=\"edge3\" class=\"edge\">\n<title>1&#45;&gt;3</title>\n<path fill=\"none\" stroke=\"#0000ff\" d=\"M448.49,-176.87C406.89,-162.14 341.66,-139.03 297.06,-123.24\"/>\n<polygon fill=\"#0000ff\" stroke=\"#0000ff\" points=\"298.19,-119.92 287.59,-119.88 295.85,-126.52 298.19,-119.92\"/>\n<text text-anchor=\"middle\" x=\"417.89\" y=\"-144.8\" font-family=\"Times,serif\" font-size=\"14.00\">yes, missing</text>\n</g>\n<!-- 4 -->\n<g id=\"node5\" class=\"node\">\n<title>4</title>\n<ellipse fill=\"none\" stroke=\"black\" cx=\"488.39\" cy=\"-105\" rx=\"72.59\" ry=\"18\"/>\n<text text-anchor=\"middle\" x=\"488.39\" y=\"-101.3\" font-family=\"Times,serif\" font-size=\"14.00\">f1&lt;&#45;0.434231937</text>\n</g>\n<!-- 1&#45;&gt;4 -->\n<g id=\"edge4\" class=\"edge\">\n<title>1&#45;&gt;4</title>\n<path fill=\"none\" stroke=\"#ff0000\" d=\"M488.39,-173.8C488.39,-162.16 488.39,-146.55 488.39,-133.24\"/>\n<polygon fill=\"#ff0000\" stroke=\"#ff0000\" points=\"491.89,-133.18 488.39,-123.18 484.89,-133.18 491.89,-133.18\"/>\n<text text-anchor=\"middle\" x=\"495.39\" y=\"-144.8\" font-family=\"Times,serif\" font-size=\"14.00\">no</text>\n</g>\n<!-- 5 -->\n<g id=\"node10\" class=\"node\">\n<title>5</title>\n<ellipse fill=\"none\" stroke=\"black\" cx=\"834.39\" cy=\"-105\" rx=\"72.59\" ry=\"18\"/>\n<text text-anchor=\"middle\" x=\"834.39\" y=\"-101.3\" font-family=\"Times,serif\" font-size=\"14.00\">f2&lt;&#45;0.264287144</text>\n</g>\n<!-- 2&#45;&gt;5 -->\n<g id=\"edge9\" class=\"edge\">\n<title>2&#45;&gt;5</title>\n<path fill=\"none\" stroke=\"#0000ff\" d=\"M834.39,-173.8C834.39,-162.16 834.39,-146.55 834.39,-133.24\"/>\n<polygon fill=\"#0000ff\" stroke=\"#0000ff\" points=\"837.89,-133.18 834.39,-123.18 830.89,-133.18 837.89,-133.18\"/>\n<text text-anchor=\"middle\" x=\"868.89\" y=\"-144.8\" font-family=\"Times,serif\" font-size=\"14.00\">yes, missing</text>\n</g>\n<!-- 6 -->\n<g id=\"node11\" class=\"node\">\n<title>6</title>\n<ellipse fill=\"none\" stroke=\"black\" cx=\"1113.39\" cy=\"-105\" rx=\"77.19\" ry=\"18\"/>\n<text text-anchor=\"middle\" x=\"1113.39\" y=\"-101.3\" font-family=\"Times,serif\" font-size=\"14.00\">f1&lt;&#45;0.0199594591</text>\n</g>\n<!-- 2&#45;&gt;6 -->\n<g id=\"edge10\" class=\"edge\">\n<title>2&#45;&gt;6</title>\n<path fill=\"none\" stroke=\"#ff0000\" d=\"M879.53,-177.25C928.36,-162.37 1006.22,-138.65 1058.54,-122.71\"/>\n<polygon fill=\"#ff0000\" stroke=\"#ff0000\" points=\"1059.78,-125.99 1068.32,-119.73 1057.74,-119.3 1059.78,-125.99\"/>\n<text text-anchor=\"middle\" x=\"998.39\" y=\"-144.8\" font-family=\"Times,serif\" font-size=\"14.00\">no</text>\n</g>\n<!-- 7 -->\n<g id=\"node6\" class=\"node\">\n<title>7</title>\n<ellipse fill=\"none\" stroke=\"black\" cx=\"75.39\" cy=\"-18\" rx=\"75.29\" ry=\"18\"/>\n<text text-anchor=\"middle\" x=\"75.39\" y=\"-14.3\" font-family=\"Times,serif\" font-size=\"14.00\">leaf=0.570588231</text>\n</g>\n<!-- 3&#45;&gt;7 -->\n<g id=\"edge5\" class=\"edge\">\n<title>3&#45;&gt;7</title>\n<path fill=\"none\" stroke=\"#0000ff\" d=\"M216.72,-88.95C203.87,-82.81 188.9,-75.61 175.39,-69 155.65,-59.33 133.8,-48.43 115.58,-39.28\"/>\n<polygon fill=\"#0000ff\" stroke=\"#0000ff\" points=\"116.91,-36.04 106.41,-34.67 113.77,-42.29 116.91,-36.04\"/>\n<text text-anchor=\"middle\" x=\"209.89\" y=\"-57.8\" font-family=\"Times,serif\" font-size=\"14.00\">yes, missing</text>\n</g>\n<!-- 8 -->\n<g id=\"node7\" class=\"node\">\n<title>8</title>\n<ellipse fill=\"none\" stroke=\"black\" cx=\"248.39\" cy=\"-18\" rx=\"79.89\" ry=\"18\"/>\n<text text-anchor=\"middle\" x=\"248.39\" y=\"-14.3\" font-family=\"Times,serif\" font-size=\"14.00\">leaf=0.0519402996</text>\n</g>\n<!-- 3&#45;&gt;8 -->\n<g id=\"edge6\" class=\"edge\">\n<title>3&#45;&gt;8</title>\n<path fill=\"none\" stroke=\"#ff0000\" d=\"M248.39,-86.8C248.39,-75.16 248.39,-59.55 248.39,-46.24\"/>\n<polygon fill=\"#ff0000\" stroke=\"#ff0000\" points=\"251.89,-46.18 248.39,-36.18 244.89,-46.18 251.89,-46.18\"/>\n<text text-anchor=\"middle\" x=\"255.39\" y=\"-57.8\" font-family=\"Times,serif\" font-size=\"14.00\">no</text>\n</g>\n<!-- 9 -->\n<g id=\"node8\" class=\"node\">\n<title>9</title>\n<ellipse fill=\"none\" stroke=\"black\" cx=\"425.39\" cy=\"-18\" rx=\"78.79\" ry=\"18\"/>\n<text text-anchor=\"middle\" x=\"425.39\" y=\"-14.3\" font-family=\"Times,serif\" font-size=\"14.00\">leaf=&#45;0.264864892</text>\n</g>\n<!-- 4&#45;&gt;9 -->\n<g id=\"edge7\" class=\"edge\">\n<title>4&#45;&gt;9</title>\n<path fill=\"none\" stroke=\"#0000ff\" d=\"M475.95,-87.21C466.86,-74.95 454.38,-58.11 444.1,-44.24\"/>\n<polygon fill=\"#0000ff\" stroke=\"#0000ff\" points=\"446.8,-42 438.03,-36.05 441.17,-46.17 446.8,-42\"/>\n<text text-anchor=\"middle\" x=\"495.89\" y=\"-57.8\" font-family=\"Times,serif\" font-size=\"14.00\">yes, missing</text>\n</g>\n<!-- 10 -->\n<g id=\"node9\" class=\"node\">\n<title>10</title>\n<ellipse fill=\"none\" stroke=\"black\" cx=\"600.39\" cy=\"-18\" rx=\"78.79\" ry=\"18\"/>\n<text text-anchor=\"middle\" x=\"600.39\" y=\"-14.3\" font-family=\"Times,serif\" font-size=\"14.00\">leaf=&#45;0.593717277</text>\n</g>\n<!-- 4&#45;&gt;10 -->\n<g id=\"edge8\" class=\"edge\">\n<title>4&#45;&gt;10</title>\n<path fill=\"none\" stroke=\"#ff0000\" d=\"M509.99,-87.61C527.26,-74.5 551.67,-55.98 570.77,-41.48\"/>\n<polygon fill=\"#ff0000\" stroke=\"#ff0000\" points=\"573.02,-44.17 578.86,-35.34 568.78,-38.6 573.02,-44.17\"/>\n<text text-anchor=\"middle\" x=\"558.39\" y=\"-57.8\" font-family=\"Times,serif\" font-size=\"14.00\">no</text>\n</g>\n<!-- 11 -->\n<g id=\"node12\" class=\"node\">\n<title>11</title>\n<ellipse fill=\"none\" stroke=\"black\" cx=\"772.39\" cy=\"-18\" rx=\"75.29\" ry=\"18\"/>\n<text text-anchor=\"middle\" x=\"772.39\" y=\"-14.3\" font-family=\"Times,serif\" font-size=\"14.00\">leaf=0.239144534</text>\n</g>\n<!-- 5&#45;&gt;11 -->\n<g id=\"edge11\" class=\"edge\">\n<title>5&#45;&gt;11</title>\n<path fill=\"none\" stroke=\"#0000ff\" d=\"M822.14,-87.21C813.2,-74.95 800.92,-58.11 790.8,-44.24\"/>\n<polygon fill=\"#0000ff\" stroke=\"#0000ff\" points=\"793.55,-42.07 784.83,-36.05 787.89,-46.19 793.55,-42.07\"/>\n<text text-anchor=\"middle\" x=\"841.89\" y=\"-57.8\" font-family=\"Times,serif\" font-size=\"14.00\">yes, missing</text>\n</g>\n<!-- 12 -->\n<g id=\"node13\" class=\"node\">\n<title>12</title>\n<ellipse fill=\"none\" stroke=\"black\" cx=\"941.39\" cy=\"-18\" rx=\"75.29\" ry=\"18\"/>\n<text text-anchor=\"middle\" x=\"941.39\" y=\"-14.3\" font-family=\"Times,serif\" font-size=\"14.00\">leaf=0.567595601</text>\n</g>\n<!-- 5&#45;&gt;12 -->\n<g id=\"edge12\" class=\"edge\">\n<title>5&#45;&gt;12</title>\n<path fill=\"none\" stroke=\"#ff0000\" d=\"M856.05,-87.78C863.78,-81.92 872.52,-75.22 880.39,-69 891.42,-60.29 903.4,-50.54 913.8,-41.97\"/>\n<polygon fill=\"#ff0000\" stroke=\"#ff0000\" points=\"916.28,-44.46 921.76,-35.4 911.82,-39.07 916.28,-44.46\"/>\n<text text-anchor=\"middle\" x=\"906.39\" y=\"-57.8\" font-family=\"Times,serif\" font-size=\"14.00\">no</text>\n</g>\n<!-- 13 -->\n<g id=\"node14\" class=\"node\">\n<title>13</title>\n<ellipse fill=\"none\" stroke=\"black\" cx=\"1113.39\" cy=\"-18\" rx=\"78.79\" ry=\"18\"/>\n<text text-anchor=\"middle\" x=\"1113.39\" y=\"-14.3\" font-family=\"Times,serif\" font-size=\"14.00\">leaf=&#45;0.589110732</text>\n</g>\n<!-- 6&#45;&gt;13 -->\n<g id=\"edge13\" class=\"edge\">\n<title>6&#45;&gt;13</title>\n<path fill=\"none\" stroke=\"#0000ff\" d=\"M1113.39,-86.8C1113.39,-75.16 1113.39,-59.55 1113.39,-46.24\"/>\n<polygon fill=\"#0000ff\" stroke=\"#0000ff\" points=\"1116.89,-46.18 1113.39,-36.18 1109.89,-46.18 1116.89,-46.18\"/>\n<text text-anchor=\"middle\" x=\"1147.89\" y=\"-57.8\" font-family=\"Times,serif\" font-size=\"14.00\">yes, missing</text>\n</g>\n<!-- 14 -->\n<g id=\"node15\" class=\"node\">\n<title>14</title>\n<ellipse fill=\"none\" stroke=\"black\" cx=\"1285.39\" cy=\"-18\" rx=\"75.29\" ry=\"18\"/>\n<text text-anchor=\"middle\" x=\"1285.39\" y=\"-14.3\" font-family=\"Times,serif\" font-size=\"14.00\">leaf=0.580487788</text>\n</g>\n<!-- 6&#45;&gt;14 -->\n<g id=\"edge14\" class=\"edge\">\n<title>6&#45;&gt;14</title>\n<path fill=\"none\" stroke=\"#ff0000\" d=\"M1145.81,-88.64C1158.49,-82.58 1173.15,-75.52 1186.39,-69 1205.96,-59.37 1227.59,-48.47 1245.63,-39.32\"/>\n<polygon fill=\"#ff0000\" stroke=\"#ff0000\" points=\"1247.38,-42.36 1254.71,-34.7 1244.2,-36.12 1247.38,-42.36\"/>\n<text text-anchor=\"middle\" x=\"1223.39\" y=\"-57.8\" font-family=\"Times,serif\" font-size=\"14.00\">no</text>\n</g>\n</g>\n</svg>\n",
            "text/plain": [
              "<graphviz.files.Source at 0x7f3320032c40>"
            ]
          },
          "execution_count": 157,
          "metadata": {},
          "output_type": "execute_result"
        }
      ],
      "source": [
        "to_graphviz(XGB)"
      ]
    },
    {
      "cell_type": "code",
      "execution_count": null,
      "metadata": {
        "colab": {
          "base_uri": "https://localhost:8080/",
          "height": 577
        },
        "id": "nwzc6SVHTjxR",
        "outputId": "5cf0e9e9-ed6e-4276-8ec8-a510ad3eb303"
      },
      "outputs": [
        {
          "data": {
            "image/png": "[encoded data removed]",
            "text/plain": [
              "<Figure size 1008x648 with 1 Axes>"
            ]
          },
          "metadata": {},
          "output_type": "display_data"
        }
      ],
      "source": [
        "fig = plt.figure(figsize = (14, 9))\n",
        "ax = fig.add_subplot(111)\n",
        "\n",
        "colours = plt.cm.Set1(np.linspace(0, 1, 9))\n",
        "\n",
        "ax = plot_importance(XGB, height = 1, color = colours, grid = False, \\\n",
        "                     show_values = False, importance_type = 'cover', ax = ax);\n",
        "for axis in ['top','bottom','left','right']:\n",
        "            ax.spines[axis].set_linewidth(2)\n",
        "        \n",
        "ax.set_xlabel('importance score', size = 16);\n",
        "ax.set_ylabel('features', size = 16);\n",
        "ax.set_yticklabels(ax.get_yticklabels(), size = 12);\n",
        "ax.set_title('Ordering of features by importance to the model learnt', size = 20);"
      ]
    },
    {
      "cell_type": "code",
      "execution_count": null,
      "metadata": {
        "colab": {
          "base_uri": "https://localhost:8080/"
        },
        "id": "2NfmfI8GV_r_",
        "outputId": "2c5696f9-2c8b-4127-9136-28e6ceff2033"
      },
      "outputs": [
        {
          "name": "stdout",
          "output_type": "stream",
          "text": [
            "CPU times: user 13.1 s, sys: 721 ms, total: 13.9 s\n",
            "Wall time: 10.3 s\n"
          ]
        }
      ],
      "source": [
        "%%time\n",
        "from sklearn.model_selection import learning_curve    \n",
        "trainSizes, trainScores, crossValScores = learning_curve(\\\n",
        "                              XGBClassifier(max_depth = 3, n_jobs = 4), X_train, Y_train, scoring = 'average_precision')"
      ]
    },
    {
      "cell_type": "code",
      "execution_count": null,
      "metadata": {
        "colab": {
          "base_uri": "https://localhost:8080/",
          "height": 577
        },
        "id": "VQEA9M-vV_Q3",
        "outputId": "0e74eb30-8511-4aab-d520-30f21eb092fe"
      },
      "outputs": [
        {
          "data": {
            "image/png": "[encoded data removed]",
            "text/plain": [
              "<Figure size 1008x648 with 1 Axes>"
            ]
          },
          "metadata": {},
          "output_type": "display_data"
        }
      ],
      "source": [
        "trainScoresMean = np.mean(trainScores, axis=1)\n",
        "trainScoresStd = np.std(trainScores, axis=1)\n",
        "crossValScoresMean = np.mean(crossValScores, axis=1)\n",
        "crossValScoresStd = np.std(crossValScores, axis=1)\n",
        "\n",
        "colours = plt.cm.tab10(np.linspace(0, 1, 9))\n",
        "\n",
        "fig = plt.figure(figsize = (14, 9))\n",
        "plt.fill_between(trainSizes, trainScoresMean - trainScoresStd,\n",
        "    trainScoresMean + trainScoresStd, alpha=0.1, color=colours[0])\n",
        "plt.fill_between(trainSizes, crossValScoresMean - crossValScoresStd,\n",
        "    crossValScoresMean + crossValScoresStd, alpha=0.1, color=colours[1])\n",
        "plt.plot(trainSizes, trainScores.mean(axis = 1), 'o-', label = 'train', \\\n",
        "         color = colours[0])\n",
        "plt.plot(trainSizes, crossValScores.mean(axis = 1), 'o-', label = 'cross-val', \\\n",
        "         color = colours[1])\n",
        "\n",
        "ax = plt.gca()\n",
        "for axis in ['top','bottom','left','right']:\n",
        "    ax.spines[axis].set_linewidth(2)\n",
        "\n",
        "handles, labels = ax.get_legend_handles_labels()\n",
        "plt.legend(handles, ['train', 'cross-val'], bbox_to_anchor=(0.8, 0.15), \\\n",
        "               loc=2, borderaxespad=0, fontsize = 16);\n",
        "plt.xlabel('training set size', size = 16); \n",
        "plt.ylabel('AUPRC', size = 16)\n",
        "plt.title('Learning curves indicate slightly underfit model', size = 20);"
      ]
    },
    {
      "cell_type": "markdown",
      "metadata": {
        "id": "ftbA-pY8cxlP"
      },
      "source": [
        "# The end"
      ]
    }
  ],
  "metadata": {
    "accelerator": "GPU",
    "colab": {
      "collapsed_sections": [
        "OfIQugi_QL3A",
        "UgcSNWrnQPOC",
        "8d3n5YsZUTRY",
        "4VymlsSgZAB0",
        "EFZ3C0u5RT9y",
        "bV1BjlP0Gx3I"
      ],
      "provenance": [],
      "toc_visible": true
    },
    "gpuClass": "standard",
    "kernelspec": {
      "display_name": "Python 3",
      "name": "python3"
    },
    "language_info": {
      "name": "python"
    }
  },
  "nbformat": 4,
  "nbformat_minor": 0
}
